{
  "nbformat": 4,
  "nbformat_minor": 0,
  "metadata": {
    "colab": {
      "provenance": [],
      "authorship_tag": "ABX9TyNum8rFM87nFwh1lrktl+qN",
      "include_colab_link": true
    },
    "kernelspec": {
      "name": "python3",
      "display_name": "Python 3"
    },
    "language_info": {
      "name": "python"
    }
  },
  "cells": [
    {
      "cell_type": "markdown",
      "metadata": {
        "id": "view-in-github",
        "colab_type": "text"
      },
      "source": [
        "<a href=\"https://colab.research.google.com/github/Shwetarhonnikoppa/Python/blob/main/Python_Assignment1.ipynb\" target=\"_parent\"><img src=\"https://colab.research.google.com/assets/colab-badge.svg\" alt=\"Open In Colab\"/></a>"
      ]
    },
    {
      "cell_type": "markdown",
      "source": [
        "Module1 Case Study1:\n",
        "1. Tuple Operations:\n",
        "Create 1st tuple with values → (10, 20, 30)\n",
        "Create 2nd tuple with values → (40, 50, 60)\n",
        "(a) Concatenate the two tuples and store it in t_combine\n",
        "(b) Repeat the elements of t_combine 3 times\n",
        "(c) Access the 3rd element from t_combine\n",
        "(d) Access the first three elements from t_combine\n",
        "(e) Access the last three elements from t_combine\n",
        "2.List with Tuples:\n",
        "Create a list my_list with these elements:\n",
        "(a) First element → tuple (1, 2, 3)\n",
        "(b) Second element → tuple (\"a\", \"b\", \"c\")\n",
        "(c) Third element → tuple (True, False)\n",
        "3. Append to List:\n",
        "(a) Append a new tuple (1, 'a', True) to my_list\n",
        "(b) Append a new list [\"sparta\", 123] to my_list\n",
        "4. Dictionary Operations:\n",
        "Create a dictionary fruit where:\n",
        "(a) Key 'Fruit' → Values (\"Apple\", \"Banana\", \"Mango\", \"Guava\")\n",
        "(b) Key 'Cost' → Values (85, 54, 120, 70)\n",
        "(c) Extract all the keys from fruit\n",
        "(d) Extract all the values from fruit\n",
        "5. Set Operations:\n",
        "Create a set named my_set with values (1, 1, \"a\", \"a\", True, True) and print the result."
      ],
      "metadata": {
        "id": "Y7TPPkVBPu7g"
      }
    },
    {
      "cell_type": "code",
      "source": [
        "# Task:1\n",
        "'''Tuple Operations:\n",
        "Create 1st tuple with values → (10, 20, 30)\n",
        "Create 2nd tuple with values → (40, 50, 60)\n",
        "(a) Concatenate the two tuples and store it in t_combine\n",
        "(b) Repeat the elements of t_combine 3 times\n",
        "(c) Access the 3rd element from t_combine\n",
        "(d) Access the first three elements from t_combine\n",
        "(e) Access the last three elements from t_combine'''\n",
        "\n",
        "tuple1 = (10,20,30)\n",
        "tuple2 = (40,50,60)\n",
        "t_combine = tuple1 + tuple2\n",
        "print(\"Combined tuple:\",t_combine)\n",
        "print(\"3 times repeated tuple:\",t_combine*3)\n",
        "print(\"3rd element:\",t_combine[2])\n",
        "print(\"First three elements:\",t_combine[:3])\n",
        "print(\"Last three elements:\",t_combine[-3:])\n"
      ],
      "metadata": {
        "colab": {
          "base_uri": "https://localhost:8080/"
        },
        "id": "fklgJk6UQPfy",
        "outputId": "3d2ea9a2-8ff3-4ed0-eb05-6418506bc3a9"
      },
      "execution_count": null,
      "outputs": [
        {
          "output_type": "stream",
          "name": "stdout",
          "text": [
            "Combined tuple: (10, 20, 30, 40, 50, 60)\n",
            "3 times repeated tuple: (10, 20, 30, 40, 50, 60, 10, 20, 30, 40, 50, 60, 10, 20, 30, 40, 50, 60)\n",
            "3rd element: 30\n",
            "First three elements: (10, 20, 30)\n",
            "Last three elements: (40, 50, 60)\n"
          ]
        }
      ]
    },
    {
      "cell_type": "code",
      "source": [
        "# Task:2\n",
        "'''List with Tuples:\n",
        "Create a list my_list with these elements:\n",
        "(a) First element → tuple (1, 2, 3)\n",
        "(b) Second element → tuple (\"a\", \"b\", \"c\")\n",
        "(c) Third element → tuple (True, False)'''\n",
        "\n",
        "my_list = [(1,2,3),(\"a\",\"b\",\"c\"),(True,False)]\n",
        "print(my_list)"
      ],
      "metadata": {
        "colab": {
          "base_uri": "https://localhost:8080/"
        },
        "id": "jhgMykc3URG3",
        "outputId": "ed5e04aa-214b-4d1a-9608-963a7c7e1e77"
      },
      "execution_count": null,
      "outputs": [
        {
          "output_type": "stream",
          "name": "stdout",
          "text": [
            "[(1, 2, 3), ('a', 'b', 'c'), (True, False)]\n"
          ]
        }
      ]
    },
    {
      "cell_type": "code",
      "source": [
        "# Task:3\n",
        "#Append to List: (a) Append a new tuple (1, 'a', True) to my_list (b) Append a new list [\"sparta\", 123] to my_list\n",
        "my_list.append([1,'a',True])\n",
        "print(\"After appending tuple:\",my_list)\n",
        "my_list.append([\"sparta\",123])\n",
        "print(\"After appending tuple:\",my_list)\n"
      ],
      "metadata": {
        "colab": {
          "base_uri": "https://localhost:8080/"
        },
        "id": "Id00r4qLWcBV",
        "outputId": "ffdf04bb-2a7b-4d92-89a6-9df71715bb07"
      },
      "execution_count": null,
      "outputs": [
        {
          "output_type": "stream",
          "name": "stdout",
          "text": [
            "After appending tuple: [(1, 2, 3), ('a', 'b', 'c'), (True, False), [1, 'a', True]]\n",
            "After appending tuple: [(1, 2, 3), ('a', 'b', 'c'), (True, False), [1, 'a', True], ['sparta', 123]]\n"
          ]
        }
      ]
    },
    {
      "cell_type": "code",
      "source": [
        "# Task:4\n",
        "'''Dictionary Operations: Create a dictionary fruit where: (a) Key 'Fruit' → Values (\"Apple\", \"Banana\", \"Mango\", \"Guava\")\n",
        "(b) Key 'Cost' → Values (85, 54, 120, 70) (c) Extract all the keys from fruit (d) Extract all the values from fruit'''\n",
        "fruit = {'Fruit':('Apple','Banana','Mango','Guava'),\n",
        "         'Cost':(85,54,120,70)}\n",
        "print(fruit)\n",
        "print(\"Keys:\",fruit.keys())\n",
        "print(\"Values:\",fruit.values())"
      ],
      "metadata": {
        "colab": {
          "base_uri": "https://localhost:8080/"
        },
        "id": "ZsknCHJqXp1X",
        "outputId": "6fd40b5e-29da-4be3-c56c-6066f24c81bd"
      },
      "execution_count": null,
      "outputs": [
        {
          "output_type": "stream",
          "name": "stdout",
          "text": [
            "{'Fruit': ('Apple', 'Banana', 'Mango', 'Guava'), 'Cost': (85, 54, 120, 70)}\n",
            "Keys: dict_keys(['Fruit', 'Cost'])\n",
            "Values: dict_values([('Apple', 'Banana', 'Mango', 'Guava'), (85, 54, 120, 70)])\n"
          ]
        }
      ]
    },
    {
      "cell_type": "code",
      "source": [
        "# Task:5\n",
        "#Set Operations: Create a set named my_set with values (1, 1, \"a\", \"a\", True, True) and print the result.\n",
        "my_set = {1,1,\"a\",\"a\",True,True}\n",
        "print(\"my_set:\",my_set)"
      ],
      "metadata": {
        "colab": {
          "base_uri": "https://localhost:8080/"
        },
        "id": "VTU870gnY3MV",
        "outputId": "39083952-e74f-417c-a57c-a08343461ebc"
      },
      "execution_count": null,
      "outputs": [
        {
          "output_type": "stream",
          "name": "stdout",
          "text": [
            "my_set: {1, 'a'}\n"
          ]
        }
      ]
    }
  ]
}