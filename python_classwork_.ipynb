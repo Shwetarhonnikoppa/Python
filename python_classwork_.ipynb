{
  "cells": [
    {
      "cell_type": "markdown",
      "metadata": {
        "id": "view-in-github",
        "colab_type": "text"
      },
      "source": [
        "<a href=\"https://colab.research.google.com/github/Shwetarhonnikoppa/Python/blob/main/python_classwork_.ipynb\" target=\"_parent\"><img src=\"https://colab.research.google.com/assets/colab-badge.svg\" alt=\"Open In Colab\"/></a>"
      ]
    },
    {
      "cell_type": "code",
      "execution_count": null,
      "id": "96500fb2",
      "metadata": {
        "id": "96500fb2"
      },
      "outputs": [],
      "source": [
        "A =17"
      ]
    },
    {
      "cell_type": "code",
      "execution_count": null,
      "id": "e1984546",
      "metadata": {
        "id": "e1984546"
      },
      "outputs": [],
      "source": [
        "a =18"
      ]
    },
    {
      "cell_type": "code",
      "source": [
        "A"
      ],
      "metadata": {
        "colab": {
          "base_uri": "https://localhost:8080/"
        },
        "id": "MWAfvplzIXEh",
        "outputId": "727a3e54-82b4-40b6-c871-e48eeeb557bc"
      },
      "id": "MWAfvplzIXEh",
      "execution_count": null,
      "outputs": [
        {
          "output_type": "execute_result",
          "data": {
            "text/plain": [
              "17"
            ]
          },
          "metadata": {},
          "execution_count": 3
        }
      ]
    },
    {
      "cell_type": "code",
      "execution_count": null,
      "id": "da2dd874",
      "metadata": {
        "id": "da2dd874",
        "colab": {
          "base_uri": "https://localhost:8080/"
        },
        "outputId": "cb501e63-0f35-4ad2-b6dc-d3dbfd1ee1b9"
      },
      "outputs": [
        {
          "name": "stdout",
          "output_type": "stream",
          "text": [
            "Enter your 4 digit password 1234\n"
          ]
        }
      ],
      "source": [
        "Enter_Password =int(input( \"Enter your 4 digit password \"))"
      ]
    },
    {
      "cell_type": "code",
      "source": [
        "a1 =18"
      ],
      "metadata": {
        "id": "1mqzHc2JIZVk"
      },
      "id": "1mqzHc2JIZVk",
      "execution_count": null,
      "outputs": []
    },
    {
      "cell_type": "code",
      "source": [
        "a1"
      ],
      "metadata": {
        "colab": {
          "base_uri": "https://localhost:8080/"
        },
        "id": "-ifKNo0BIoDI",
        "outputId": "b63aa9a7-4139-4a0c-f7a0-561b579dc301"
      },
      "id": "-ifKNo0BIoDI",
      "execution_count": null,
      "outputs": [
        {
          "output_type": "execute_result",
          "data": {
            "text/plain": [
              "18"
            ]
          },
          "metadata": {},
          "execution_count": 7
        }
      ]
    },
    {
      "cell_type": "code",
      "execution_count": null,
      "id": "9861a5fe",
      "metadata": {
        "id": "9861a5fe",
        "colab": {
          "base_uri": "https://localhost:8080/"
        },
        "outputId": "aa2e57c3-2c36-463e-f40e-ed6e4a71f5e8"
      },
      "outputs": [
        {
          "output_type": "execute_result",
          "data": {
            "text/plain": [
              "100"
            ]
          },
          "metadata": {},
          "execution_count": 8
        }
      ],
      "source": [
        "Virat_Kohli = 100\n",
        "Virat_Kohli"
      ]
    },
    {
      "cell_type": "code",
      "source": [
        "b = \"100\""
      ],
      "metadata": {
        "id": "icTX053pJyxp"
      },
      "id": "icTX053pJyxp",
      "execution_count": null,
      "outputs": []
    },
    {
      "cell_type": "code",
      "execution_count": null,
      "id": "4496cfd3",
      "metadata": {
        "id": "4496cfd3",
        "colab": {
          "base_uri": "https://localhost:8080/"
        },
        "outputId": "34251cc3-b993-49e4-9009-e2a43ff96b27"
      },
      "outputs": [
        {
          "output_type": "execute_result",
          "data": {
            "text/plain": [
              "str"
            ]
          },
          "metadata": {},
          "execution_count": 11
        }
      ],
      "source": [
        "type(b)"
      ]
    },
    {
      "cell_type": "code",
      "execution_count": null,
      "id": "a33f3a27",
      "metadata": {
        "id": "a33f3a27"
      },
      "outputs": [],
      "source": [
        "b=2"
      ]
    },
    {
      "cell_type": "code",
      "execution_count": null,
      "id": "b20fb861",
      "metadata": {
        "id": "b20fb861",
        "colab": {
          "base_uri": "https://localhost:8080/"
        },
        "outputId": "feda7e45-9d8d-4bec-d37a-6212565a2f5b"
      },
      "outputs": [
        {
          "output_type": "execute_result",
          "data": {
            "text/plain": [
              "int"
            ]
          },
          "metadata": {},
          "execution_count": 13
        }
      ],
      "source": [
        "type(A)"
      ]
    },
    {
      "cell_type": "code",
      "source": [
        "A =18\n",
        "B =20"
      ],
      "metadata": {
        "id": "07hsPISdKoKA"
      },
      "id": "07hsPISdKoKA",
      "execution_count": null,
      "outputs": []
    },
    {
      "cell_type": "code",
      "source": [
        "B=A"
      ],
      "metadata": {
        "id": "VI2lrhdiR7t4"
      },
      "id": "VI2lrhdiR7t4",
      "execution_count": null,
      "outputs": []
    },
    {
      "cell_type": "code",
      "source": [
        "print(B)"
      ],
      "metadata": {
        "colab": {
          "base_uri": "https://localhost:8080/"
        },
        "id": "vSpDE8AZR_Qm",
        "outputId": "19d68875-a36d-4943-ceb7-b84901511c80"
      },
      "id": "vSpDE8AZR_Qm",
      "execution_count": null,
      "outputs": [
        {
          "output_type": "stream",
          "name": "stdout",
          "text": [
            "18\n"
          ]
        }
      ]
    },
    {
      "cell_type": "markdown",
      "source": [
        "#Single Value Assignment\n",
        "#Multiple Value Assignment"
      ],
      "metadata": {
        "id": "tUlSLSh31s9k"
      },
      "id": "tUlSLSh31s9k"
    },
    {
      "cell_type": "code",
      "execution_count": null,
      "id": "41a65eb8",
      "metadata": {
        "id": "41a65eb8"
      },
      "outputs": [],
      "source": [
        "Name='victor'"
      ]
    },
    {
      "cell_type": "code",
      "execution_count": null,
      "id": "3ba1e620",
      "metadata": {
        "id": "3ba1e620"
      },
      "outputs": [],
      "source": [
        "salary=2000"
      ]
    },
    {
      "cell_type": "code",
      "execution_count": null,
      "id": "274b964a",
      "metadata": {
        "id": "274b964a"
      },
      "outputs": [],
      "source": [
        "Address =\"Bangalore\""
      ]
    },
    {
      "cell_type": "code",
      "execution_count": null,
      "id": "68be3d57",
      "metadata": {
        "id": "68be3d57",
        "colab": {
          "base_uri": "https://localhost:8080/"
        },
        "outputId": "37a0d911-82fc-4026-e2c8-fa753678bb7c"
      },
      "outputs": [
        {
          "output_type": "stream",
          "name": "stdout",
          "text": [
            "victor\n",
            "Bangalore\n"
          ]
        }
      ],
      "source": [
        "print(Name)\n",
        "print(Address)"
      ]
    },
    {
      "cell_type": "code",
      "execution_count": null,
      "id": "3707fb3f",
      "metadata": {
        "id": "3707fb3f",
        "colab": {
          "base_uri": "https://localhost:8080/",
          "height": 36
        },
        "outputId": "a695176c-7734-4a4e-9fb6-631c569f81be"
      },
      "outputs": [
        {
          "output_type": "execute_result",
          "data": {
            "text/plain": [
              "'victor'"
            ],
            "application/vnd.google.colaboratory.intrinsic+json": {
              "type": "string"
            }
          },
          "metadata": {},
          "execution_count": 22
        }
      ],
      "source": [
        "Name"
      ]
    },
    {
      "cell_type": "code",
      "execution_count": null,
      "id": "704aa01c",
      "metadata": {
        "id": "704aa01c"
      },
      "outputs": [],
      "source": [
        "name = 'cena'"
      ]
    },
    {
      "cell_type": "code",
      "execution_count": null,
      "id": "c5b907e1",
      "metadata": {
        "collapsed": true,
        "id": "c5b907e1",
        "outputId": "2addf786-e33e-4384-b6ca-8021dd9d31fe",
        "colab": {
          "base_uri": "https://localhost:8080/",
          "height": 36
        }
      },
      "outputs": [
        {
          "output_type": "execute_result",
          "data": {
            "text/plain": [
              "'cena'"
            ],
            "application/vnd.google.colaboratory.intrinsic+json": {
              "type": "string"
            }
          },
          "metadata": {},
          "execution_count": 24
        }
      ],
      "source": [
        "name"
      ]
    },
    {
      "cell_type": "code",
      "source": [
        "x=y=z =10"
      ],
      "metadata": {
        "id": "2guTj8VmotCr"
      },
      "id": "2guTj8VmotCr",
      "execution_count": null,
      "outputs": []
    },
    {
      "cell_type": "code",
      "source": [
        "y"
      ],
      "metadata": {
        "colab": {
          "base_uri": "https://localhost:8080/"
        },
        "id": "6KBi6frmotFo",
        "outputId": "4221da49-e508-4626-c072-8160e7a7ce0d"
      },
      "id": "6KBi6frmotFo",
      "execution_count": null,
      "outputs": [
        {
          "output_type": "execute_result",
          "data": {
            "text/plain": [
              "10"
            ]
          },
          "metadata": {},
          "execution_count": 26
        }
      ]
    },
    {
      "cell_type": "code",
      "source": [
        "x , y, z = 10,15,20"
      ],
      "metadata": {
        "id": "u0u7g0p4otIm"
      },
      "id": "u0u7g0p4otIm",
      "execution_count": null,
      "outputs": []
    },
    {
      "cell_type": "code",
      "source": [
        "Class =\"Python Batch\""
      ],
      "metadata": {
        "id": "kPOdUH1zotLf"
      },
      "id": "kPOdUH1zotLf",
      "execution_count": null,
      "outputs": []
    },
    {
      "cell_type": "code",
      "source": [
        "Class.lower()"
      ],
      "metadata": {
        "id": "ccH1Il6potOm",
        "colab": {
          "base_uri": "https://localhost:8080/",
          "height": 36
        },
        "outputId": "ea01d280-de2f-4108-c7bd-eaeeaf3670c5"
      },
      "id": "ccH1Il6potOm",
      "execution_count": null,
      "outputs": [
        {
          "output_type": "execute_result",
          "data": {
            "text/plain": [
              "'python batch'"
            ],
            "application/vnd.google.colaboratory.intrinsic+json": {
              "type": "string"
            }
          },
          "metadata": {},
          "execution_count": 29
        }
      ]
    },
    {
      "cell_type": "code",
      "source": [
        "Class.upper()"
      ],
      "metadata": {
        "id": "fKhFPOVnotRT",
        "colab": {
          "base_uri": "https://localhost:8080/",
          "height": 36
        },
        "outputId": "2a8d0194-d770-468c-c85a-9496ba571d11"
      },
      "id": "fKhFPOVnotRT",
      "execution_count": null,
      "outputs": [
        {
          "output_type": "execute_result",
          "data": {
            "text/plain": [
              "'PYTHON BATCH'"
            ],
            "application/vnd.google.colaboratory.intrinsic+json": {
              "type": "string"
            }
          },
          "metadata": {},
          "execution_count": 30
        }
      ]
    },
    {
      "cell_type": "code",
      "execution_count": null,
      "id": "3715a3fb",
      "metadata": {
        "id": "3715a3fb"
      },
      "outputs": [],
      "source": [
        "Class='Python1'"
      ]
    },
    {
      "cell_type": "code",
      "execution_count": null,
      "id": "8dbd2c0f",
      "metadata": {
        "id": "8dbd2c0f"
      },
      "outputs": [],
      "source": [
        "_Class='python class'"
      ]
    },
    {
      "cell_type": "code",
      "source": [
        "Class.title()"
      ],
      "metadata": {
        "id": "aBGgJQzeiFfU",
        "colab": {
          "base_uri": "https://localhost:8080/",
          "height": 36
        },
        "outputId": "8fa8f0bb-4e1f-4db5-a424-712c8d29f8c1"
      },
      "id": "aBGgJQzeiFfU",
      "execution_count": null,
      "outputs": [
        {
          "output_type": "execute_result",
          "data": {
            "text/plain": [
              "'Python1'"
            ],
            "application/vnd.google.colaboratory.intrinsic+json": {
              "type": "string"
            }
          },
          "metadata": {},
          "execution_count": 33
        }
      ]
    },
    {
      "cell_type": "code",
      "source": [
        "Class.capitalize()"
      ],
      "metadata": {
        "id": "r2EKXkMSiOBQ",
        "colab": {
          "base_uri": "https://localhost:8080/",
          "height": 36
        },
        "outputId": "73c47c74-66f5-4072-9473-b060f3570696"
      },
      "id": "r2EKXkMSiOBQ",
      "execution_count": null,
      "outputs": [
        {
          "output_type": "execute_result",
          "data": {
            "text/plain": [
              "'Python1'"
            ],
            "application/vnd.google.colaboratory.intrinsic+json": {
              "type": "string"
            }
          },
          "metadata": {},
          "execution_count": 34
        }
      ]
    },
    {
      "cell_type": "code",
      "source": [
        "Class.swapcase()"
      ],
      "metadata": {
        "colab": {
          "base_uri": "https://localhost:8080/",
          "height": 36
        },
        "collapsed": true,
        "id": "KlLqTtA8iOkH",
        "outputId": "87bdff84-7556-4888-c6f3-c81ac6e804b0"
      },
      "id": "KlLqTtA8iOkH",
      "execution_count": null,
      "outputs": [
        {
          "output_type": "execute_result",
          "data": {
            "text/plain": [
              "'pYTHON1'"
            ],
            "application/vnd.google.colaboratory.intrinsic+json": {
              "type": "string"
            }
          },
          "metadata": {},
          "execution_count": 35
        }
      ]
    },
    {
      "cell_type": "code",
      "source": [
        "Class.isalpha()"
      ],
      "metadata": {
        "id": "fX_Odn3uiOs5",
        "colab": {
          "base_uri": "https://localhost:8080/"
        },
        "outputId": "e4ddfcf8-c43a-4afb-b641-ac9ce601312a"
      },
      "id": "fX_Odn3uiOs5",
      "execution_count": null,
      "outputs": [
        {
          "output_type": "execute_result",
          "data": {
            "text/plain": [
              "False"
            ]
          },
          "metadata": {},
          "execution_count": 36
        }
      ]
    },
    {
      "cell_type": "code",
      "source": [
        "Class.isalnum()"
      ],
      "metadata": {
        "colab": {
          "base_uri": "https://localhost:8080/"
        },
        "collapsed": true,
        "id": "lVxncTtQidJH",
        "outputId": "f41ebd86-c88f-4b1c-9ae7-80b906b550e8"
      },
      "id": "lVxncTtQidJH",
      "execution_count": null,
      "outputs": [
        {
          "output_type": "execute_result",
          "data": {
            "text/plain": [
              "True"
            ]
          },
          "metadata": {},
          "execution_count": 37
        }
      ]
    },
    {
      "cell_type": "code",
      "source": [
        "Class.isnumeric()"
      ],
      "metadata": {
        "colab": {
          "base_uri": "https://localhost:8080/"
        },
        "collapsed": true,
        "id": "QhFQBgfwidL0",
        "outputId": "10a1e523-6612-4d33-90a7-965398159bef"
      },
      "id": "QhFQBgfwidL0",
      "execution_count": null,
      "outputs": [
        {
          "output_type": "execute_result",
          "data": {
            "text/plain": [
              "False"
            ]
          },
          "metadata": {},
          "execution_count": 38
        }
      ]
    },
    {
      "cell_type": "code",
      "source": [
        "Class.startswith(\"P\")"
      ],
      "metadata": {
        "id": "v3cZNjihiOv2",
        "colab": {
          "base_uri": "https://localhost:8080/"
        },
        "outputId": "11bffd74-36f9-4d1c-9fc0-82775c7e5562"
      },
      "id": "v3cZNjihiOv2",
      "execution_count": null,
      "outputs": [
        {
          "output_type": "execute_result",
          "data": {
            "text/plain": [
              "True"
            ]
          },
          "metadata": {},
          "execution_count": 39
        }
      ]
    },
    {
      "cell_type": "code",
      "source": [
        "A = \"Machine2024\""
      ],
      "metadata": {
        "id": "qP71eyr8iqjK"
      },
      "id": "qP71eyr8iqjK",
      "execution_count": null,
      "outputs": []
    },
    {
      "cell_type": "code",
      "source": [
        "A.isalpha()"
      ],
      "metadata": {
        "id": "MlGYx1KUiqmI",
        "colab": {
          "base_uri": "https://localhost:8080/"
        },
        "outputId": "8e0b0ead-ad22-49cb-ae7e-dadb8561c89e"
      },
      "id": "MlGYx1KUiqmI",
      "execution_count": null,
      "outputs": [
        {
          "output_type": "execute_result",
          "data": {
            "text/plain": [
              "False"
            ]
          },
          "metadata": {},
          "execution_count": 41
        }
      ]
    },
    {
      "cell_type": "code",
      "source": [
        "A.isalnum()"
      ],
      "metadata": {
        "id": "9Uimg3w0iqpD",
        "colab": {
          "base_uri": "https://localhost:8080/"
        },
        "outputId": "e2dd20bd-0412-426b-8c61-23d5f0b05b61"
      },
      "id": "9Uimg3w0iqpD",
      "execution_count": null,
      "outputs": [
        {
          "output_type": "execute_result",
          "data": {
            "text/plain": [
              "True"
            ]
          },
          "metadata": {},
          "execution_count": 42
        }
      ]
    },
    {
      "cell_type": "code",
      "source": [
        "A.isnumeric()"
      ],
      "metadata": {
        "id": "Y6buY0aJiqsQ",
        "colab": {
          "base_uri": "https://localhost:8080/"
        },
        "outputId": "c604fd73-90cd-474e-e433-6229f2991d1c"
      },
      "id": "Y6buY0aJiqsQ",
      "execution_count": null,
      "outputs": [
        {
          "output_type": "execute_result",
          "data": {
            "text/plain": [
              "False"
            ]
          },
          "metadata": {},
          "execution_count": 43
        }
      ]
    },
    {
      "cell_type": "code",
      "source": [
        "C = \"    data science   \"\n",
        "print(C)"
      ],
      "metadata": {
        "id": "5ic-u8X7eLCi",
        "colab": {
          "base_uri": "https://localhost:8080/"
        },
        "outputId": "a746270a-fcb9-4c73-8ebd-a30eadda3283"
      },
      "id": "5ic-u8X7eLCi",
      "execution_count": null,
      "outputs": [
        {
          "output_type": "stream",
          "name": "stdout",
          "text": [
            "    data science   \n"
          ]
        }
      ]
    },
    {
      "cell_type": "code",
      "source": [
        "C.endswith(\"c\")"
      ],
      "metadata": {
        "id": "8fzY2W9beLHg",
        "colab": {
          "base_uri": "https://localhost:8080/"
        },
        "outputId": "c1c52315-3aed-4d2a-90fc-e2599b2e9ae4"
      },
      "id": "8fzY2W9beLHg",
      "execution_count": null,
      "outputs": [
        {
          "output_type": "execute_result",
          "data": {
            "text/plain": [
              "False"
            ]
          },
          "metadata": {},
          "execution_count": 45
        }
      ]
    },
    {
      "cell_type": "code",
      "source": [
        "C.startswith(\"d\")"
      ],
      "metadata": {
        "id": "LW_yMW9PeLSp",
        "colab": {
          "base_uri": "https://localhost:8080/"
        },
        "outputId": "56decda7-c992-47bb-f8fd-4bdafcef0bd9"
      },
      "id": "LW_yMW9PeLSp",
      "execution_count": null,
      "outputs": [
        {
          "output_type": "execute_result",
          "data": {
            "text/plain": [
              "False"
            ]
          },
          "metadata": {},
          "execution_count": 46
        }
      ]
    },
    {
      "cell_type": "code",
      "source": [
        "C.split()   # Devides based on space"
      ],
      "metadata": {
        "id": "QuvnPiZdejDc",
        "colab": {
          "base_uri": "https://localhost:8080/"
        },
        "outputId": "d3a8d90a-a73b-4ed8-a840-7ec7f80c492e"
      },
      "id": "QuvnPiZdejDc",
      "execution_count": null,
      "outputs": [
        {
          "output_type": "execute_result",
          "data": {
            "text/plain": [
              "['data', 'science']"
            ]
          },
          "metadata": {},
          "execution_count": 47
        }
      ]
    },
    {
      "cell_type": "code",
      "source": [
        "a =\"+91-5674982023\""
      ],
      "metadata": {
        "id": "hRTN06zTejJi"
      },
      "id": "hRTN06zTejJi",
      "execution_count": null,
      "outputs": []
    },
    {
      "cell_type": "code",
      "source": [
        "#a.split()\n",
        "a.split(\"5\")"
      ],
      "metadata": {
        "colab": {
          "base_uri": "https://localhost:8080/"
        },
        "id": "sUlkPsdYejNM",
        "outputId": "ab267bfd-34c3-4a50-f9f3-2e38c5f07ed5"
      },
      "id": "sUlkPsdYejNM",
      "execution_count": null,
      "outputs": [
        {
          "output_type": "execute_result",
          "data": {
            "text/plain": [
              "['+91-', '674982023']"
            ]
          },
          "metadata": {},
          "execution_count": 50
        }
      ]
    },
    {
      "cell_type": "code",
      "source": [
        "C.split(\"a\")"
      ],
      "metadata": {
        "colab": {
          "base_uri": "https://localhost:8080/"
        },
        "id": "7U5P3Z8pe8eK",
        "outputId": "f8525bc7-42bf-4aab-c035-85c7c6aa6fc2"
      },
      "id": "7U5P3Z8pe8eK",
      "execution_count": null,
      "outputs": [
        {
          "output_type": "execute_result",
          "data": {
            "text/plain": [
              "['    d', 't', ' science   ']"
            ]
          },
          "metadata": {},
          "execution_count": 51
        }
      ]
    },
    {
      "cell_type": "code",
      "source": [
        "a=\"Data Science \\n Machine Learning\"\n",
        "print(a)\n",
        "a.splitlines()"
      ],
      "metadata": {
        "id": "vwI52sYHe8hu",
        "colab": {
          "base_uri": "https://localhost:8080/"
        },
        "outputId": "0b655392-5bcc-4a2c-93f2-a41768b144af"
      },
      "id": "vwI52sYHe8hu",
      "execution_count": null,
      "outputs": [
        {
          "output_type": "stream",
          "name": "stdout",
          "text": [
            "Data Science \n",
            " Machine Learning\n"
          ]
        },
        {
          "output_type": "execute_result",
          "data": {
            "text/plain": [
              "['Data Science ', ' Machine Learning']"
            ]
          },
          "metadata": {},
          "execution_count": 52
        }
      ]
    },
    {
      "cell_type": "code",
      "source": [
        "C.strip()  # Used for formatting of the data   \"   Vyankat   \""
      ],
      "metadata": {
        "id": "0Mp7l93pe8mc"
      },
      "id": "0Mp7l93pe8mc",
      "execution_count": null,
      "outputs": []
    },
    {
      "cell_type": "code",
      "source": [
        "C.lstrip()"
      ],
      "metadata": {
        "id": "OboeN9PufeT-"
      },
      "id": "OboeN9PufeT-",
      "execution_count": null,
      "outputs": []
    },
    {
      "cell_type": "code",
      "source": [
        "C.rstrip()"
      ],
      "metadata": {
        "id": "gMXlJEm-feXR",
        "colab": {
          "base_uri": "https://localhost:8080/",
          "height": 36
        },
        "outputId": "b7f10b6c-3988-4723-cc72-2b5048f1c22d"
      },
      "id": "gMXlJEm-feXR",
      "execution_count": null,
      "outputs": [
        {
          "output_type": "execute_result",
          "data": {
            "text/plain": [
              "'    data science'"
            ],
            "application/vnd.google.colaboratory.intrinsic+json": {
              "type": "string"
            }
          },
          "metadata": {},
          "execution_count": 31
        }
      ]
    },
    {
      "cell_type": "code",
      "source": [
        "a=\"data\"    #4 char\n",
        "a.center(13,\"*\")"
      ],
      "metadata": {
        "id": "BBa1Khqcfeaj",
        "colab": {
          "base_uri": "https://localhost:8080/",
          "height": 36
        },
        "outputId": "35d64c6b-666d-4c1c-d6bb-fc24bc372182"
      },
      "id": "BBa1Khqcfeaj",
      "execution_count": null,
      "outputs": [
        {
          "output_type": "execute_result",
          "data": {
            "text/plain": [
              "'*****data****'"
            ],
            "application/vnd.google.colaboratory.intrinsic+json": {
              "type": "string"
            }
          },
          "metadata": {},
          "execution_count": 53
        }
      ]
    },
    {
      "cell_type": "code",
      "source": [
        "print(a.rjust(10,\"*\"))\n",
        "a.ljust(10,\"*\")"
      ],
      "metadata": {
        "colab": {
          "base_uri": "https://localhost:8080/",
          "height": 53
        },
        "id": "5sK8YLnFfqAz",
        "outputId": "83ba1e71-de69-4a70-9f41-763e88751ec0"
      },
      "id": "5sK8YLnFfqAz",
      "execution_count": null,
      "outputs": [
        {
          "output_type": "stream",
          "name": "stdout",
          "text": [
            "******data\n"
          ]
        },
        {
          "output_type": "execute_result",
          "data": {
            "text/plain": [
              "'data******'"
            ],
            "application/vnd.google.colaboratory.intrinsic+json": {
              "type": "string"
            }
          },
          "metadata": {},
          "execution_count": 40
        }
      ]
    },
    {
      "cell_type": "code",
      "source": [
        "a.index(\"t\")  # it will give us the 1st occurance\n",
        "#data"
      ],
      "metadata": {
        "colab": {
          "base_uri": "https://localhost:8080/"
        },
        "id": "9yOkRPpBfqEe",
        "outputId": "0dab71aa-9657-4816-e8d3-fda4666d41e7"
      },
      "id": "9yOkRPpBfqEe",
      "execution_count": null,
      "outputs": [
        {
          "output_type": "execute_result",
          "data": {
            "text/plain": [
              "2"
            ]
          },
          "metadata": {},
          "execution_count": 41
        }
      ]
    },
    {
      "cell_type": "code",
      "source": [
        "#Join is used to merge strings\n",
        "\n",
        "#E.g:\n",
        "\n",
        "\"d\".join(\"abc\")"
      ],
      "metadata": {
        "id": "KCXWm_jIfqHz"
      },
      "id": "KCXWm_jIfqHz",
      "execution_count": null,
      "outputs": []
    },
    {
      "cell_type": "code",
      "source": [
        "\"da\".join(\"data sceince\")"
      ],
      "metadata": {
        "id": "3Rf1e5l-fede"
      },
      "id": "3Rf1e5l-fede",
      "execution_count": null,
      "outputs": []
    },
    {
      "cell_type": "code",
      "source": [
        "X = \"Data Science\"\n",
        "X.count(\"a\",3)"
      ],
      "metadata": {
        "id": "fEEqqWojiuBp"
      },
      "id": "fEEqqWojiuBp",
      "execution_count": null,
      "outputs": []
    },
    {
      "cell_type": "code",
      "source": [
        "# Concatenation of Operators\n",
        "\n",
        "x =\" Data\"\n",
        "y=\"Science\""
      ],
      "metadata": {
        "id": "RcZ9_vcjiuE_"
      },
      "id": "RcZ9_vcjiuE_",
      "execution_count": null,
      "outputs": []
    },
    {
      "cell_type": "code",
      "source": [
        "x+y"
      ],
      "metadata": {
        "id": "Eh0dbg3XWBma"
      },
      "id": "Eh0dbg3XWBma",
      "execution_count": null,
      "outputs": []
    },
    {
      "cell_type": "code",
      "source": [
        "x+\" \"+y"
      ],
      "metadata": {
        "id": "LLijMJx0WBqY"
      },
      "id": "LLijMJx0WBqY",
      "execution_count": null,
      "outputs": []
    },
    {
      "cell_type": "code",
      "source": [
        "x= \"DataScience\"\n",
        "#extract Dace\n"
      ],
      "metadata": {
        "id": "IADyZAp5WBuo"
      },
      "id": "IADyZAp5WBuo",
      "execution_count": null,
      "outputs": []
    },
    {
      "cell_type": "code",
      "source": [
        "x[0:2]"
      ],
      "metadata": {
        "id": "CUSLmgo2WByR"
      },
      "id": "CUSLmgo2WByR",
      "execution_count": null,
      "outputs": []
    },
    {
      "cell_type": "code",
      "source": [
        "x = \"Machine Learning\""
      ],
      "metadata": {
        "id": "gNsleHFRDaUn"
      },
      "id": "gNsleHFRDaUn",
      "execution_count": null,
      "outputs": []
    },
    {
      "cell_type": "code",
      "source": [
        "#Print MALE\n",
        "#MANE ear\n",
        "print(x[0:2].upper()+x[5:7].upper()+\" \" +x[9:12])\n",
        "\n",
        "x[ :2].upper()+x[8:10].upper()"
      ],
      "metadata": {
        "colab": {
          "base_uri": "https://localhost:8080/",
          "height": 53
        },
        "id": "pDMqEtkEwVFx",
        "outputId": "e46b24af-138b-4937-aa86-206aef968887"
      },
      "id": "pDMqEtkEwVFx",
      "execution_count": null,
      "outputs": [
        {
          "output_type": "stream",
          "name": "stdout",
          "text": [
            "MANE ear\n"
          ]
        },
        {
          "output_type": "execute_result",
          "data": {
            "text/plain": [
              "'MALE'"
            ],
            "application/vnd.google.colaboratory.intrinsic+json": {
              "type": "string"
            }
          },
          "metadata": {},
          "execution_count": 5
        }
      ]
    },
    {
      "cell_type": "code",
      "source": [
        "x[-2: ]"
      ],
      "metadata": {
        "id": "RqZ9_mh2WB13"
      },
      "id": "RqZ9_mh2WB13",
      "execution_count": null,
      "outputs": []
    },
    {
      "cell_type": "code",
      "source": [
        "(x[0:2]+x[-2: ]).upper()"
      ],
      "metadata": {
        "id": "bTPxbgpeWqUx"
      },
      "id": "bTPxbgpeWqUx",
      "execution_count": null,
      "outputs": []
    },
    {
      "cell_type": "code",
      "source": [
        "X = ['data',9,'2024.23',3+4j,[10,20,30]]\n",
        "\n",
        "X[-3][-3: ]"
      ],
      "metadata": {
        "id": "m2e5fsI0WqZY",
        "colab": {
          "base_uri": "https://localhost:8080/",
          "height": 36
        },
        "outputId": "f3461d29-3667-4b47-a07b-0b47ce122758"
      },
      "id": "m2e5fsI0WqZY",
      "execution_count": null,
      "outputs": [
        {
          "output_type": "execute_result",
          "data": {
            "text/plain": [
              "'.23'"
            ],
            "application/vnd.google.colaboratory.intrinsic+json": {
              "type": "string"
            }
          },
          "metadata": {},
          "execution_count": 21
        }
      ]
    },
    {
      "cell_type": "code",
      "source": [
        "print(X)"
      ],
      "metadata": {
        "id": "A6l1fZF1Dmad",
        "colab": {
          "base_uri": "https://localhost:8080/"
        },
        "outputId": "5a0f62c1-f2e0-44a1-b34f-a428a783cfcd"
      },
      "id": "A6l1fZF1Dmad",
      "execution_count": null,
      "outputs": [
        {
          "output_type": "stream",
          "name": "stdout",
          "text": [
            "['data', 9, 2024.23, (3+4j), [10, 20, 30]]\n"
          ]
        }
      ]
    },
    {
      "cell_type": "code",
      "source": [
        "X[0][0:2]\n",
        "#print .23\n",
        "print(x[2][4: ])"
      ],
      "metadata": {
        "id": "e2OCknrxWqdE",
        "colab": {
          "base_uri": "https://localhost:8080/"
        },
        "outputId": "579f5375-47b2-4efd-cd61-8c26360f21c1"
      },
      "id": "e2OCknrxWqdE",
      "execution_count": null,
      "outputs": [
        {
          "output_type": "stream",
          "name": "stdout",
          "text": [
            "\n"
          ]
        }
      ]
    },
    {
      "cell_type": "code",
      "source": [
        "#X[2][4: ]\n",
        "X[-3][-3: ]"
      ],
      "metadata": {
        "colab": {
          "base_uri": "https://localhost:8080/",
          "height": 36
        },
        "id": "lr925Rfx0je5",
        "outputId": "56e35679-7182-4d78-df99-6fad6196eb96"
      },
      "id": "lr925Rfx0je5",
      "execution_count": null,
      "outputs": [
        {
          "output_type": "execute_result",
          "data": {
            "text/plain": [
              "'.23'"
            ],
            "application/vnd.google.colaboratory.intrinsic+json": {
              "type": "string"
            }
          },
          "metadata": {},
          "execution_count": 20
        }
      ]
    },
    {
      "cell_type": "code",
      "source": [
        "X[-5][-2: ]"
      ],
      "metadata": {
        "id": "DGZeBH5EWqh0",
        "colab": {
          "base_uri": "https://localhost:8080/",
          "height": 36
        },
        "outputId": "e552e4ad-d493-498a-f686-78793105a453"
      },
      "id": "DGZeBH5EWqh0",
      "execution_count": null,
      "outputs": [
        {
          "output_type": "execute_result",
          "data": {
            "text/plain": [
              "'ta'"
            ],
            "application/vnd.google.colaboratory.intrinsic+json": {
              "type": "string"
            }
          },
          "metadata": {},
          "execution_count": 9
        }
      ]
    },
    {
      "cell_type": "code",
      "source": [
        "len(X)\n",
        "topics[0][1][1][0:3]"
      ],
      "metadata": {
        "id": "WiSGPICDHX5L",
        "colab": {
          "base_uri": "https://localhost:8080/",
          "height": 36
        },
        "outputId": "1a5d0e96-8481-4236-927c-5f967c1a1069"
      },
      "id": "WiSGPICDHX5L",
      "execution_count": null,
      "outputs": [
        {
          "output_type": "execute_result",
          "data": {
            "text/plain": [
              "'Cal'"
            ],
            "application/vnd.google.colaboratory.intrinsic+json": {
              "type": "string"
            }
          },
          "metadata": {},
          "execution_count": 50
        }
      ]
    },
    {
      "cell_type": "code",
      "source": [
        "topics = [\n",
        "    ['Math', ['Algebra', 'Calculus', 'Geometry']],\n",
        "    ['Science', ['Physics', 'Chemistry', 'Biology']],\n",
        "    ['Technology', ['Programming', 'Networking', 'AI']],\n",
        "    ['History', ['Ancient', 'Medieval', 'Modern']],\n",
        "    ['Art', ['Painting', 'Sculpture', 'Architecture']]\n",
        "]\n"
      ],
      "metadata": {
        "id": "xTHHYvu_HX9X"
      },
      "id": "xTHHYvu_HX9X",
      "execution_count": null,
      "outputs": []
    },
    {
      "cell_type": "code",
      "source": [
        "#print Modern Architecture\n",
        "topics[3][1][-1]+\" \"+topics[4][1][2]"
      ],
      "metadata": {
        "id": "nTNlQ7VsHYCU",
        "colab": {
          "base_uri": "https://localhost:8080/",
          "height": 36
        },
        "outputId": "aa87ad68-61a4-412b-d6fa-ace735c5d55f"
      },
      "id": "nTNlQ7VsHYCU",
      "execution_count": null,
      "outputs": [
        {
          "output_type": "execute_result",
          "data": {
            "text/plain": [
              "'Modern Architecture'"
            ],
            "application/vnd.google.colaboratory.intrinsic+json": {
              "type": "string"
            }
          },
          "metadata": {},
          "execution_count": 24
        }
      ]
    },
    {
      "cell_type": "code",
      "source": [
        "#print GEO, BIO, CHEM\n",
        "\n",
        "topics[0][1][2][0:3].upper()+\",\"+topics[1][1][2][0:3].upper()+\",\"+topics[1][1][1][0:4].upper()"
      ],
      "metadata": {
        "id": "Cc0x0xmqHYGT",
        "colab": {
          "base_uri": "https://localhost:8080/",
          "height": 36
        },
        "outputId": "3cfed78a-4936-4420-fed9-4b59ca9d66a1"
      },
      "id": "Cc0x0xmqHYGT",
      "execution_count": null,
      "outputs": [
        {
          "output_type": "execute_result",
          "data": {
            "text/plain": [
              "'GEO,BIO,CHEM'"
            ],
            "application/vnd.google.colaboratory.intrinsic+json": {
              "type": "string"
            }
          },
          "metadata": {},
          "execution_count": 27
        }
      ]
    },
    {
      "cell_type": "code",
      "source": [
        "topics[0][1][2][0:3].upper() +\",\"+topics[1][1][2][0:3].upper()+ \",\"+topics[1][1][1][0:3].upper()"
      ],
      "metadata": {
        "colab": {
          "base_uri": "https://localhost:8080/",
          "height": 35
        },
        "id": "7cPZOhQQIuHl",
        "outputId": "18b4a0f8-a026-4700-a15f-5cf16c257acc"
      },
      "id": "7cPZOhQQIuHl",
      "execution_count": null,
      "outputs": [
        {
          "output_type": "execute_result",
          "data": {
            "text/plain": [
              "'GEO,BIO,CHE'"
            ],
            "application/vnd.google.colaboratory.intrinsic+json": {
              "type": "string"
            }
          },
          "metadata": {},
          "execution_count": 35
        }
      ]
    },
    {
      "cell_type": "code",
      "execution_count": null,
      "id": "760b1680",
      "metadata": {
        "collapsed": true,
        "id": "760b1680",
        "outputId": "a7458469-529f-4e66-dfe6-427bc0e05799",
        "colab": {
          "base_uri": "https://localhost:8080/"
        }
      },
      "outputs": [
        {
          "output_type": "stream",
          "name": "stdout",
          "text": [
            "1\n"
          ]
        }
      ],
      "source": [
        "x =1\n",
        "print(x)"
      ]
    },
    {
      "cell_type": "code",
      "execution_count": null,
      "id": "3078b025",
      "metadata": {
        "collapsed": true,
        "id": "3078b025",
        "outputId": "b6b729b4-d5ec-4d61-c8eb-c5455bf6156c",
        "colab": {
          "base_uri": "https://localhost:8080/"
        }
      },
      "outputs": [
        {
          "name": "stdout",
          "output_type": "stream",
          "text": [
            "Enter value of X  100\n"
          ]
        }
      ],
      "source": [
        "x=int(input(\"Enter value of X  \"))"
      ]
    },
    {
      "cell_type": "code",
      "execution_count": null,
      "id": "4244408c",
      "metadata": {
        "id": "4244408c",
        "outputId": "fcc4e0ca-7c1b-4ca5-a3e2-89eead2252f4"
      },
      "outputs": [
        {
          "data": {
            "text/plain": [
              "int"
            ]
          },
          "execution_count": 30,
          "metadata": {},
          "output_type": "execute_result"
        }
      ],
      "source": [
        "type(x)"
      ]
    },
    {
      "cell_type": "code",
      "execution_count": null,
      "id": "3be36710",
      "metadata": {
        "collapsed": true,
        "id": "3be36710",
        "colab": {
          "base_uri": "https://localhost:8080/",
          "height": 228
        },
        "outputId": "48c9129f-660e-45c7-9f6a-741878de5a14"
      },
      "outputs": [
        {
          "name": "stdout",
          "output_type": "stream",
          "text": [
            "Assign value to Y76.5\n"
          ]
        },
        {
          "output_type": "error",
          "ename": "ValueError",
          "evalue": "invalid literal for int() with base 10: '76.5'",
          "traceback": [
            "\u001b[0;31m---------------------------------------------------------------------------\u001b[0m",
            "\u001b[0;31mValueError\u001b[0m                                Traceback (most recent call last)",
            "\u001b[0;32m<ipython-input-16-ff4e462c111c>\u001b[0m in \u001b[0;36m<cell line: 23>\u001b[0;34m()\u001b[0m\n\u001b[1;32m     21\u001b[0m \u001b[0mX\u001b[0m\u001b[0;34m=\u001b[0m \u001b[0;36m15\u001b[0m\u001b[0;34m\u001b[0m\u001b[0;34m\u001b[0m\u001b[0m\n\u001b[1;32m     22\u001b[0m \u001b[0mtype\u001b[0m\u001b[0;34m(\u001b[0m\u001b[0mx\u001b[0m\u001b[0;34m)\u001b[0m\u001b[0;34m\u001b[0m\u001b[0;34m\u001b[0m\u001b[0m\n\u001b[0;32m---> 23\u001b[0;31m \u001b[0my\u001b[0m\u001b[0;34m=\u001b[0m\u001b[0mint\u001b[0m\u001b[0;34m(\u001b[0m\u001b[0minput\u001b[0m\u001b[0;34m(\u001b[0m\u001b[0;34m\"Assign value to Y\"\u001b[0m\u001b[0;34m)\u001b[0m\u001b[0;34m)\u001b[0m\u001b[0;34m\u001b[0m\u001b[0;34m\u001b[0m\u001b[0m\n\u001b[0m\u001b[1;32m     24\u001b[0m \u001b[0;34m\u001b[0m\u001b[0m\n\u001b[1;32m     25\u001b[0m \u001b[0;31m#2.Float: This value is represented by decimal point.\u001b[0m\u001b[0;34m\u001b[0m\u001b[0;34m\u001b[0m\u001b[0m\n",
            "\u001b[0;31mValueError\u001b[0m: invalid literal for int() with base 10: '76.5'"
          ]
        }
      ],
      "source": [
        "#Data types in Python:\n",
        "#1.Immutable Data type\n",
        "#2.Mutable data type\n",
        "\n",
        "#Immutable Data Type:\n",
        "#i. Numeric Data\n",
        "#ii.String\n",
        "#iii.tuple\n",
        "\n",
        "#Mutable Data Type:\n",
        "#i.List\n",
        "#ii. Dictionary\n",
        "\n",
        "#i.Numeric Data Type:\n",
        "#1.Integer  #2.Float   3.Complex\n",
        "\n",
        "#1.Integer:this value is represented by int class.\n",
        "#interger contains +v-0--ve i.e.whole numbers\n",
        "#in python there is no limit how long an interger value be\n",
        "\n",
        "X= 15\n",
        "type(x)\n",
        "y=int(input(\"Assign value to Y\"))\n",
        "\n",
        "#2.Float: This value is represented by decimal point."
      ]
    },
    {
      "cell_type": "code",
      "source": [
        "x = -150005464646198465184646198494564\n",
        "print(x)\n",
        "type(x)"
      ],
      "metadata": {
        "colab": {
          "base_uri": "https://localhost:8080/"
        },
        "id": "EW2tWarxP8o-",
        "outputId": "8536433f-2350-4135-eb3b-1ce2e6cb3849"
      },
      "id": "EW2tWarxP8o-",
      "execution_count": null,
      "outputs": [
        {
          "output_type": "stream",
          "name": "stdout",
          "text": [
            "-150005464646198465184646198494564\n"
          ]
        },
        {
          "output_type": "execute_result",
          "data": {
            "text/plain": [
              "int"
            ]
          },
          "metadata": {},
          "execution_count": 72
        }
      ]
    },
    {
      "cell_type": "code",
      "execution_count": null,
      "id": "9510a177",
      "metadata": {
        "id": "9510a177",
        "colab": {
          "base_uri": "https://localhost:8080/"
        },
        "outputId": "b8589d92-1d3d-49c8-a388-1db22981d678"
      },
      "outputs": [
        {
          "output_type": "stream",
          "name": "stdout",
          "text": [
            "66.5\n"
          ]
        },
        {
          "output_type": "execute_result",
          "data": {
            "text/plain": [
              "float"
            ]
          },
          "metadata": {},
          "execution_count": 73
        }
      ],
      "source": [
        "w=66.5\n",
        "print(w)\n",
        "type(w)\n"
      ]
    },
    {
      "cell_type": "code",
      "execution_count": null,
      "id": "f43be49f",
      "metadata": {
        "id": "f43be49f",
        "colab": {
          "base_uri": "https://localhost:8080/"
        },
        "outputId": "118e7d40-4bbd-4e1e-c85d-307c0b251f22"
      },
      "outputs": [
        {
          "name": "stdout",
          "output_type": "stream",
          "text": [
            "Give a Decimal Values: 25\n"
          ]
        }
      ],
      "source": [
        "w = float(input(\"Give a Decimal Values: \"))"
      ]
    },
    {
      "cell_type": "code",
      "execution_count": null,
      "id": "77d5be46",
      "metadata": {
        "id": "77d5be46"
      },
      "outputs": [],
      "source": [
        "c=66.5"
      ]
    },
    {
      "cell_type": "code",
      "source": [
        "#Complex : n + ij\n",
        "\n",
        "b =5+4j\n",
        "\n",
        "type(b)"
      ],
      "metadata": {
        "colab": {
          "base_uri": "https://localhost:8080/"
        },
        "id": "9cuR13v1rvJw",
        "outputId": "4f23635a-2d57-441b-dc59-06ec5ca58299"
      },
      "id": "9cuR13v1rvJw",
      "execution_count": null,
      "outputs": [
        {
          "output_type": "execute_result",
          "data": {
            "text/plain": [
              "complex"
            ]
          },
          "metadata": {},
          "execution_count": 81
        }
      ]
    },
    {
      "cell_type": "code",
      "execution_count": null,
      "id": "def0e00f",
      "metadata": {
        "id": "def0e00f"
      },
      "outputs": [],
      "source": [
        "type(c)"
      ]
    },
    {
      "cell_type": "code",
      "execution_count": null,
      "id": "aa14b049",
      "metadata": {
        "id": "aa14b049"
      },
      "outputs": [],
      "source": [
        "#Complex numeric data type:\n",
        "#It is represented by the complex class\n",
        "#It is specified as (real part)+(imaginary part)j\n",
        "#E.g\n",
        "x=3j\n",
        "y=5+45j\n",
        "w=-3+6j"
      ]
    },
    {
      "cell_type": "code",
      "execution_count": null,
      "id": "7e6337d4",
      "metadata": {
        "id": "7e6337d4",
        "outputId": "8ce34a4e-dc79-453b-b347-4a14a7b9525d",
        "collapsed": true
      },
      "outputs": [
        {
          "data": {
            "text/plain": [
              "complex"
            ]
          },
          "execution_count": 34,
          "metadata": {},
          "output_type": "execute_result"
        }
      ],
      "source": [
        "type(x)"
      ]
    },
    {
      "cell_type": "code",
      "execution_count": null,
      "id": "5dd9af77",
      "metadata": {
        "id": "5dd9af77"
      },
      "outputs": [],
      "source": [
        "y=-2+3j"
      ]
    },
    {
      "cell_type": "code",
      "execution_count": null,
      "id": "3ad2ffa3",
      "metadata": {
        "id": "3ad2ffa3"
      },
      "outputs": [],
      "source": [
        "type(y)"
      ]
    },
    {
      "cell_type": "code",
      "execution_count": null,
      "id": "3964f879",
      "metadata": {
        "id": "3964f879"
      },
      "outputs": [],
      "source": [
        "a = 5\n",
        "print(\"Type of a: \", type(a))\n",
        "\n",
        "b = 5.0\n",
        "print(\"\\nType of b: \", type(b))\n",
        "\n",
        "c = 2 + 4j\n",
        "print(\"\\nType of c: \", type(c))"
      ]
    },
    {
      "cell_type": "code",
      "execution_count": null,
      "id": "541d8609",
      "metadata": {
        "collapsed": true,
        "id": "541d8609",
        "outputId": "f5ee0911-c260-49f9-87a4-869410360602",
        "colab": {
          "base_uri": "https://localhost:8080/"
        }
      },
      "outputs": [
        {
          "output_type": "stream",
          "name": "stdout",
          "text": [
            "'Welcome to the World of Python'\n"
          ]
        },
        {
          "output_type": "execute_result",
          "data": {
            "text/plain": [
              "str"
            ]
          },
          "metadata": {},
          "execution_count": 85
        }
      ],
      "source": [
        "#2.String:A string is a collection of one or more characters\n",
        "#it can be represetnd by using Single quote(''),double quote(\"\")\n",
        "#or tripple quote\n",
        "#Single Quote:\n",
        "\n",
        "String1 = \"'Welcome to the World of Python'\"\n",
        "print(String1)\n",
        "type(String1)\n"
      ]
    },
    {
      "cell_type": "code",
      "execution_count": null,
      "id": "a3337f12",
      "metadata": {
        "collapsed": true,
        "id": "a3337f12",
        "outputId": "215bf415-5afb-474b-9139-8cf73b286681",
        "colab": {
          "base_uri": "https://localhost:8080/"
        }
      },
      "outputs": [
        {
          "output_type": "stream",
          "name": "stdout",
          "text": [
            "\n",
            "String with the use of Double Quotes: \n",
            "I'm a Python Code\n",
            "<class 'str'>\n"
          ]
        }
      ],
      "source": [
        "#Double Quote:\n",
        "\n",
        "String2 = \"I'm a Python Code\"\n",
        "print(\"\\nString with the use of Double Quotes: \")\n",
        "print(String2)\n",
        "print(type(String2))\n"
      ]
    },
    {
      "cell_type": "code",
      "execution_count": null,
      "id": "1229c6a5",
      "metadata": {
        "collapsed": true,
        "id": "1229c6a5",
        "outputId": "6019c491-044f-4f34-ccd0-a1ce564a6b01",
        "colab": {
          "base_uri": "https://localhost:8080/",
          "height": 106
        }
      },
      "outputs": [
        {
          "output_type": "error",
          "ename": "SyntaxError",
          "evalue": "unterminated string literal (detected at line 3) (<ipython-input-88-6b12caef6401>, line 3)",
          "traceback": [
            "\u001b[0;36m  File \u001b[0;32m\"<ipython-input-88-6b12caef6401>\"\u001b[0;36m, line \u001b[0;32m3\u001b[0m\n\u001b[0;31m    String3 = \"I'm a Code and I live in a world\u001b[0m\n\u001b[0m              ^\u001b[0m\n\u001b[0;31mSyntaxError\u001b[0m\u001b[0;31m:\u001b[0m unterminated string literal (detected at line 3)\n"
          ]
        }
      ],
      "source": [
        "#Tripple Quote:\n",
        "\n",
        "String3 = '''I'm a Code and I live in a world\n",
        "of Programmer'''\n",
        "print(\"\\nString with the use of Triple Quotes: \")\n",
        "print(String3)\n",
        "print(type(String3))\n",
        "\n"
      ]
    },
    {
      "cell_type": "code",
      "execution_count": null,
      "id": "3cfe0bbf",
      "metadata": {
        "collapsed": true,
        "id": "3cfe0bbf",
        "outputId": "3a73f2b2-9b86-470f-a0fb-7eb5c7633f30"
      },
      "outputs": [
        {
          "name": "stdout",
          "output_type": "stream",
          "text": [
            "\n",
            "Creating a multiline String: \n",
            "\n",
            "            Python \n",
            "            For \n",
            "            Coders\n",
            "            \n"
          ]
        }
      ],
      "source": [
        "#Creating a Multiline String\n",
        "\n",
        "String4 = '''\n",
        "            Python\n",
        "            For\n",
        "            Coders\n",
        "            '''\n",
        "print(\"\\nCreating a multiline String: \")\n",
        "print(String4)"
      ]
    },
    {
      "cell_type": "code",
      "source": [
        "'''\n",
        "            Python\n",
        "            For\n",
        "            Coders\n",
        "            '''"
      ],
      "metadata": {
        "colab": {
          "base_uri": "https://localhost:8080/",
          "height": 35
        },
        "id": "cLx-EI_KvLkg",
        "outputId": "66da4d7c-df47-4bfe-f44e-43e67c52e55c"
      },
      "id": "cLx-EI_KvLkg",
      "execution_count": null,
      "outputs": [
        {
          "output_type": "execute_result",
          "data": {
            "text/plain": [
              "'\\n            Python\\n            For\\n            Coders\\n            '"
            ],
            "application/vnd.google.colaboratory.intrinsic+json": {
              "type": "string"
            }
          },
          "metadata": {},
          "execution_count": 36
        }
      ]
    },
    {
      "cell_type": "code",
      "source": [],
      "metadata": {
        "id": "URq1YwMfvLoV"
      },
      "id": "URq1YwMfvLoV",
      "execution_count": null,
      "outputs": []
    },
    {
      "cell_type": "code",
      "execution_count": null,
      "id": "7a4d9ad1",
      "metadata": {
        "id": "7a4d9ad1",
        "outputId": "23bb4e14-16a6-4f25-cf98-5cc7cfe2e0eb",
        "colab": {
          "base_uri": "https://localhost:8080/"
        }
      },
      "outputs": [
        {
          "output_type": "stream",
          "name": "stdout",
          "text": [
            "Welcome to the World of Python\n",
            "\n",
            "First character of string is: \n",
            "W\n"
          ]
        }
      ],
      "source": [
        "#Slicing Of Strings:\n",
        "\n",
        "print(String1)\n",
        "print(\"\\nFirst character of string is: \")\n",
        "print(String1[0])"
      ]
    },
    {
      "cell_type": "code",
      "execution_count": null,
      "id": "6a50b203",
      "metadata": {
        "id": "6a50b203",
        "outputId": "125baa9d-a941-412b-efb7-fdb5ddbeb463",
        "colab": {
          "base_uri": "https://localhost:8080/"
        }
      },
      "outputs": [
        {
          "output_type": "stream",
          "name": "stdout",
          "text": [
            "\n",
            " Last character of string: \n",
            "n\n"
          ]
        }
      ],
      "source": [
        "print(\"\\n Last character of string: \")\n",
        "print(String1[-1])"
      ]
    },
    {
      "cell_type": "code",
      "execution_count": null,
      "id": "ab2db0b5",
      "metadata": {
        "id": "ab2db0b5",
        "outputId": "dde8b0a1-64e5-4820-a34f-b6d7f7fda600",
        "colab": {
          "base_uri": "https://localhost:8080/"
        }
      },
      "outputs": [
        {
          "output_type": "stream",
          "name": "stdout",
          "text": [
            "Welecome to the World of Python\n",
            "l\n"
          ]
        }
      ],
      "source": [
        "print(String1)\n",
        "print(String1[2])"
      ]
    },
    {
      "cell_type": "code",
      "execution_count": null,
      "id": "695f5921",
      "metadata": {
        "id": "695f5921",
        "outputId": "e640d2e3-b369-4786-ac92-3f0eac201525",
        "colab": {
          "base_uri": "https://localhost:8080/"
        }
      },
      "outputs": [
        {
          "output_type": "stream",
          "name": "stdout",
          "text": [
            " World\n"
          ]
        }
      ],
      "source": [
        "print(String1[15:21])"
      ]
    },
    {
      "cell_type": "code",
      "execution_count": null,
      "id": "be0f8df8",
      "metadata": {
        "id": "be0f8df8",
        "outputId": "39422560-e3be-4b00-e053-03b499917512"
      },
      "outputs": [
        {
          "name": "stdout",
          "output_type": "stream",
          "text": [
            "Welcome\n"
          ]
        }
      ],
      "source": [
        "\n",
        "print(String1[ :7:1])"
      ]
    },
    {
      "cell_type": "code",
      "execution_count": null,
      "id": "abcf6471",
      "metadata": {
        "id": "abcf6471",
        "outputId": "521e6312-591c-4a14-f20a-2d35b0aae42d",
        "colab": {
          "base_uri": "https://localhost:8080/"
        }
      },
      "outputs": [
        {
          "output_type": "stream",
          "name": "stdout",
          "text": [
            "Welecome to the World of Python\n"
          ]
        }
      ],
      "source": [
        "print(String1)"
      ]
    },
    {
      "cell_type": "code",
      "execution_count": null,
      "id": "02ec7244",
      "metadata": {
        "id": "02ec7244"
      },
      "outputs": [],
      "source": [
        "str = \"Welcome to the Python Technology\""
      ]
    },
    {
      "cell_type": "code",
      "source": [
        "str[4:-2]"
      ],
      "metadata": {
        "id": "sbYbDqhrbpNn"
      },
      "id": "sbYbDqhrbpNn",
      "execution_count": null,
      "outputs": []
    },
    {
      "cell_type": "code",
      "execution_count": null,
      "id": "1b5140c5",
      "metadata": {
        "id": "1b5140c5"
      },
      "outputs": [],
      "source": [
        "# W e l c o m e   t o    t   h  e    P   y  t  h  o  n     T  e  c  h  n  o  l  o  g  y\n",
        "# 0 1 2 3 4 5 6 7 8 9 10 11 12 13 14 15  16 17 18 19 20 21 22 23 24 25 26 27 28 29 30 31\n",
        "                                                                  .... -5  -4  -3 -2  -1"
      ]
    },
    {
      "cell_type": "code",
      "execution_count": null,
      "id": "19c6e5fd",
      "metadata": {
        "id": "19c6e5fd"
      },
      "outputs": [],
      "source": [
        "print(str[22:32])        #32 =32-1 =31\n",
        "\n",
        "print(str[11:14])\n",
        "\n",
        "print(str[11:14:1])\n",
        "\n",
        "print(str[22:32:2])\n",
        "\n",
        "print(str[0 : 32 :3])\n",
        "print(str)\n",
        "\n",
        "print(str[0:32])\n",
        "\n",
        "print(str[ : ])\n",
        "\n",
        "print(str[15: ])"
      ]
    },
    {
      "cell_type": "code",
      "execution_count": null,
      "id": "8c8bcdac",
      "metadata": {
        "id": "8c8bcdac"
      },
      "outputs": [],
      "source": [
        "# Print Python\n",
        "print(str[15:21:1])  #21=21-1"
      ]
    },
    {
      "cell_type": "code",
      "execution_count": null,
      "id": "5f8fa6d3",
      "metadata": {
        "id": "5f8fa6d3"
      },
      "outputs": [],
      "source": [
        "#skip 1 char altrenatively:\n",
        "print(String1[ 0: 32:2])"
      ]
    },
    {
      "cell_type": "code",
      "source": [
        "print(str[ : :2])"
      ],
      "metadata": {
        "id": "Wm5LS1i5x_DE"
      },
      "id": "Wm5LS1i5x_DE",
      "execution_count": null,
      "outputs": []
    },
    {
      "cell_type": "code",
      "source": [],
      "metadata": {
        "id": "mxHgh5R6x_Gd"
      },
      "id": "mxHgh5R6x_Gd",
      "execution_count": null,
      "outputs": []
    },
    {
      "cell_type": "code",
      "execution_count": null,
      "id": "73150308",
      "metadata": {
        "id": "73150308"
      },
      "outputs": [],
      "source": [
        "string='I am Vyankat'"
      ]
    },
    {
      "cell_type": "code",
      "execution_count": null,
      "id": "95f4885a",
      "metadata": {
        "id": "95f4885a"
      },
      "outputs": [],
      "source": [
        "# I   a m   V  y  a  n  k  a  t\n",
        "# 0 1 2 3 4 5  6  7  8  9  10 11\n",
        "                           -2 -1"
      ]
    },
    {
      "cell_type": "code",
      "source": [
        "print(string[0])"
      ],
      "metadata": {
        "id": "OxUTrqX6uxs6"
      },
      "id": "OxUTrqX6uxs6",
      "execution_count": null,
      "outputs": []
    },
    {
      "cell_type": "code",
      "source": [
        "print(string[0:8:1])"
      ],
      "metadata": {
        "id": "YRdbAbDeuxvr"
      },
      "id": "YRdbAbDeuxvr",
      "execution_count": null,
      "outputs": []
    },
    {
      "cell_type": "code",
      "source": [
        "print(string[ :8:1])"
      ],
      "metadata": {
        "id": "AvtzoDXmuxzX"
      },
      "id": "AvtzoDXmuxzX",
      "execution_count": null,
      "outputs": []
    },
    {
      "cell_type": "code",
      "source": [
        "print(string[ : ])"
      ],
      "metadata": {
        "id": "IgreDgmdux1y"
      },
      "id": "IgreDgmdux1y",
      "execution_count": null,
      "outputs": []
    },
    {
      "cell_type": "code",
      "execution_count": null,
      "id": "991d962a",
      "metadata": {
        "id": "991d962a"
      },
      "outputs": [],
      "source": [
        "# I   a m   V  y  a  n  k  a  t\n",
        "# 0 1 2 3 4 5  6  7  8  9  10 11\n",
        "  #                         -2 -1\n",
        "#Reverse Slicing\n",
        "\n",
        "string[8:1:-2]"
      ]
    },
    {
      "cell_type": "code",
      "source": [
        "S =\"Data Science\""
      ],
      "metadata": {
        "id": "1RRo3haAK8O3"
      },
      "id": "1RRo3haAK8O3",
      "execution_count": null,
      "outputs": []
    },
    {
      "cell_type": "code",
      "source": [
        "S[5: ]"
      ],
      "metadata": {
        "colab": {
          "base_uri": "https://localhost:8080/",
          "height": 36
        },
        "id": "TkMntBo7K8oW",
        "outputId": "8afdf1df-ae23-410b-9205-40da892521eb"
      },
      "id": "TkMntBo7K8oW",
      "execution_count": null,
      "outputs": [
        {
          "output_type": "execute_result",
          "data": {
            "text/plain": [
              "'Science'"
            ],
            "application/vnd.google.colaboratory.intrinsic+json": {
              "type": "string"
            }
          },
          "metadata": {},
          "execution_count": 49
        }
      ]
    },
    {
      "cell_type": "code",
      "source": [
        "S[0:4]"
      ],
      "metadata": {
        "colab": {
          "base_uri": "https://localhost:8080/",
          "height": 36
        },
        "id": "3xnc-J7WK8r8",
        "outputId": "18c4283f-910f-4b0b-c7db-3cfac315c261"
      },
      "id": "3xnc-J7WK8r8",
      "execution_count": null,
      "outputs": [
        {
          "output_type": "execute_result",
          "data": {
            "text/plain": [
              "'Data'"
            ],
            "application/vnd.google.colaboratory.intrinsic+json": {
              "type": "string"
            }
          },
          "metadata": {},
          "execution_count": 46
        }
      ]
    },
    {
      "cell_type": "code",
      "source": [
        "S[ : ]"
      ],
      "metadata": {
        "colab": {
          "base_uri": "https://localhost:8080/",
          "height": 36
        },
        "id": "iMJMBoMlK8v_",
        "outputId": "0e8c28d7-a65e-4d47-d359-72f11d9f70b5"
      },
      "id": "iMJMBoMlK8v_",
      "execution_count": null,
      "outputs": [
        {
          "output_type": "execute_result",
          "data": {
            "text/plain": [
              "'Data Science'"
            ],
            "application/vnd.google.colaboratory.intrinsic+json": {
              "type": "string"
            }
          },
          "metadata": {},
          "execution_count": 47
        }
      ]
    },
    {
      "cell_type": "code",
      "source": [
        "S[0:100]"
      ],
      "metadata": {
        "colab": {
          "base_uri": "https://localhost:8080/",
          "height": 36
        },
        "id": "IvqMpB62K8zr",
        "outputId": "71365c23-1477-4bbe-ec05-65d103ebf78e"
      },
      "id": "IvqMpB62K8zr",
      "execution_count": null,
      "outputs": [
        {
          "output_type": "execute_result",
          "data": {
            "text/plain": [
              "'Data Science'"
            ],
            "application/vnd.google.colaboratory.intrinsic+json": {
              "type": "string"
            }
          },
          "metadata": {},
          "execution_count": 48
        }
      ]
    },
    {
      "cell_type": "code",
      "source": [],
      "metadata": {
        "id": "VfhdllQCLMgx"
      },
      "id": "VfhdllQCLMgx",
      "execution_count": null,
      "outputs": []
    },
    {
      "cell_type": "code",
      "execution_count": null,
      "id": "2cd350a6",
      "metadata": {
        "id": "2cd350a6"
      },
      "outputs": [],
      "source": [
        "#To Replace String\n",
        "\n",
        "alphabets =('a,b,c,d,e,f,g,h')"
      ]
    },
    {
      "cell_type": "code",
      "execution_count": null,
      "id": "1c13bb3b",
      "metadata": {
        "id": "1c13bb3b"
      },
      "outputs": [],
      "source": [
        "alphabets.replace('b','a')"
      ]
    },
    {
      "cell_type": "code",
      "execution_count": null,
      "id": "eadf2837",
      "metadata": {
        "id": "eadf2837",
        "colab": {
          "base_uri": "https://localhost:8080/"
        },
        "outputId": "cea83a24-c74c-46ad-8ca8-ca43dfb30ed5"
      },
      "outputs": [
        {
          "output_type": "execute_result",
          "data": {
            "text/plain": [
              "('Sun', 'Mon', 'Tue', 'Wed', 'Thu', 'Fri', 'Sat')"
            ]
          },
          "metadata": {},
          "execution_count": 28
        }
      ],
      "source": [
        "#Tuple:Immutable data type enclosed by()\n",
        "\n",
        "Weekdays=('Sun','Mon','Tue','Wed','Thu','Fri','Sat')\n",
        "\n",
        "type(Weekdays)\n",
        "\n",
        "Weekdays"
      ]
    },
    {
      "cell_type": "code",
      "execution_count": null,
      "id": "672b959a",
      "metadata": {
        "id": "672b959a"
      },
      "outputs": [],
      "source": [
        "Weekdays.replace('Sun','Sat')"
      ]
    },
    {
      "cell_type": "code",
      "source": [
        "type(Weekdays)"
      ],
      "metadata": {
        "colab": {
          "base_uri": "https://localhost:8080/"
        },
        "id": "QWtfl44I5ChO",
        "outputId": "72784436-3346-41a7-a230-69dfd52d43d8"
      },
      "id": "QWtfl44I5ChO",
      "execution_count": null,
      "outputs": [
        {
          "output_type": "execute_result",
          "data": {
            "text/plain": [
              "tuple"
            ]
          },
          "metadata": {},
          "execution_count": 29
        }
      ]
    },
    {
      "cell_type": "code",
      "source": [],
      "metadata": {
        "id": "44BQEftP5DsT"
      },
      "id": "44BQEftP5DsT",
      "execution_count": null,
      "outputs": []
    },
    {
      "cell_type": "code",
      "source": [
        "Weekdays.append('Mercury')"
      ],
      "metadata": {
        "id": "lA9s4rlBohLB",
        "colab": {
          "base_uri": "https://localhost:8080/",
          "height": 141
        },
        "outputId": "2f6fa6c7-8d78-4b10-9292-c6e40b4106dd"
      },
      "id": "lA9s4rlBohLB",
      "execution_count": null,
      "outputs": [
        {
          "output_type": "error",
          "ename": "AttributeError",
          "evalue": "'tuple' object has no attribute 'append'",
          "traceback": [
            "\u001b[0;31m---------------------------------------------------------------------------\u001b[0m",
            "\u001b[0;31mAttributeError\u001b[0m                            Traceback (most recent call last)",
            "\u001b[0;32m<ipython-input-30-6c5f378cc2fd>\u001b[0m in \u001b[0;36m<cell line: 0>\u001b[0;34m()\u001b[0m\n\u001b[0;32m----> 1\u001b[0;31m \u001b[0mWeekdays\u001b[0m\u001b[0;34m.\u001b[0m\u001b[0mappend\u001b[0m\u001b[0;34m(\u001b[0m\u001b[0;34m'Mercury'\u001b[0m\u001b[0;34m)\u001b[0m\u001b[0;34m\u001b[0m\u001b[0;34m\u001b[0m\u001b[0m\n\u001b[0m",
            "\u001b[0;31mAttributeError\u001b[0m: 'tuple' object has no attribute 'append'"
          ]
        }
      ]
    },
    {
      "cell_type": "code",
      "source": [
        "Weekdays[0:3]"
      ],
      "metadata": {
        "colab": {
          "base_uri": "https://localhost:8080/"
        },
        "id": "0xrnuoGeohTT",
        "outputId": "9ad96650-e00c-466e-f458-60403e30f8cf"
      },
      "id": "0xrnuoGeohTT",
      "execution_count": null,
      "outputs": [
        {
          "output_type": "execute_result",
          "data": {
            "text/plain": [
              "('Sun', 'Mon', 'Tue')"
            ]
          },
          "metadata": {},
          "execution_count": 32
        }
      ]
    },
    {
      "cell_type": "code",
      "execution_count": null,
      "id": "87cc64f2",
      "metadata": {
        "collapsed": true,
        "id": "87cc64f2"
      },
      "outputs": [],
      "source": [
        "Weekdays[0]='Mon'"
      ]
    },
    {
      "cell_type": "code",
      "execution_count": null,
      "id": "66abdf56",
      "metadata": {
        "id": "66abdf56",
        "outputId": "2090d5c1-8029-4fed-d6d8-482bfa2014bd"
      },
      "outputs": [
        {
          "data": {
            "text/plain": [
              "('Mon', 'Tue', 'Wed', 'Thu')"
            ]
          },
          "execution_count": 37,
          "metadata": {},
          "output_type": "execute_result"
        }
      ],
      "source": [
        "Weekdays[1:5]"
      ]
    },
    {
      "cell_type": "code",
      "execution_count": null,
      "id": "bf9efea8",
      "metadata": {
        "collapsed": true,
        "id": "bf9efea8",
        "outputId": "10655a31-0456-4c9a-962a-7b6960b0e2f2"
      },
      "outputs": [
        {
          "ename": "AttributeError",
          "evalue": "'tuple' object has no attribute 'append'",
          "output_type": "error",
          "traceback": [
            "\u001b[1;31m---------------------------------------------------------------------------\u001b[0m",
            "\u001b[1;31mAttributeError\u001b[0m                            Traceback (most recent call last)",
            "Input \u001b[1;32mIn [38]\u001b[0m, in \u001b[0;36m<cell line: 1>\u001b[1;34m()\u001b[0m\n\u001b[1;32m----> 1\u001b[0m \u001b[43mWeekdays\u001b[49m\u001b[38;5;241;43m.\u001b[39;49m\u001b[43mappend\u001b[49m(\u001b[38;5;124m'\u001b[39m\u001b[38;5;124mMercury\u001b[39m\u001b[38;5;124m'\u001b[39m)\n",
            "\u001b[1;31mAttributeError\u001b[0m: 'tuple' object has no attribute 'append'"
          ]
        }
      ],
      "source": [
        "Weekdays.append('Mercury')"
      ]
    },
    {
      "cell_type": "code",
      "execution_count": null,
      "id": "1fefbe5a",
      "metadata": {
        "id": "1fefbe5a",
        "colab": {
          "base_uri": "https://localhost:8080/"
        },
        "outputId": "9bcd2749-b840-4128-8eed-3eaadd27bb77"
      },
      "outputs": [
        {
          "output_type": "execute_result",
          "data": {
            "text/plain": [
              "[10, 15, 20]"
            ]
          },
          "metadata": {},
          "execution_count": 33
        }
      ],
      "source": [
        "#List: Allows us to make changes and eclosed by []\n",
        "#List can contain different data types\n",
        "\n",
        "Salaries=[10,15,20]\n",
        "Salaries\n",
        "\n",
        "Salaries[0:3]"
      ]
    },
    {
      "cell_type": "code",
      "execution_count": null,
      "id": "972cffa4",
      "metadata": {
        "id": "972cffa4",
        "colab": {
          "base_uri": "https://localhost:8080/"
        },
        "outputId": "4acc08ad-dc5c-42cb-bec6-2988acf68656"
      },
      "outputs": [
        {
          "output_type": "execute_result",
          "data": {
            "text/plain": [
              "list"
            ]
          },
          "metadata": {},
          "execution_count": 34
        }
      ],
      "source": [
        "type(Salaries)"
      ]
    },
    {
      "cell_type": "code",
      "execution_count": null,
      "id": "3b2e6a29",
      "metadata": {
        "id": "3b2e6a29"
      },
      "outputs": [],
      "source": [
        "#We can make changes in list, lets change 1st salary from 10 to 18.\n",
        "Salaries[0]=18"
      ]
    },
    {
      "cell_type": "code",
      "execution_count": null,
      "id": "9a22166c",
      "metadata": {
        "id": "9a22166c",
        "colab": {
          "base_uri": "https://localhost:8080/"
        },
        "outputId": "d0c524a9-7d60-42be-acef-0b3ea1e8551a"
      },
      "outputs": [
        {
          "output_type": "execute_result",
          "data": {
            "text/plain": [
              "[18, 15, 20]"
            ]
          },
          "metadata": {},
          "execution_count": 36
        }
      ],
      "source": [
        "Salaries"
      ]
    },
    {
      "cell_type": "code",
      "execution_count": null,
      "id": "15938e4b",
      "metadata": {
        "id": "15938e4b"
      },
      "outputs": [],
      "source": [
        "#If we want to increase the salary of 3rd person by 8\n",
        "#Salaries[2]=28\n",
        "Salaries[2]+=8"
      ]
    },
    {
      "cell_type": "code",
      "execution_count": null,
      "id": "3547a773",
      "metadata": {
        "id": "3547a773",
        "outputId": "998321a0-12c0-4780-e06b-682accecde2b",
        "colab": {
          "base_uri": "https://localhost:8080/"
        }
      },
      "outputs": [
        {
          "output_type": "execute_result",
          "data": {
            "text/plain": [
              "[18, 15, 28]"
            ]
          },
          "metadata": {},
          "execution_count": 38
        }
      ],
      "source": [
        "Salaries"
      ]
    },
    {
      "cell_type": "code",
      "execution_count": null,
      "id": "3040ceba",
      "metadata": {
        "id": "3040ceba",
        "colab": {
          "base_uri": "https://localhost:8080/"
        },
        "outputId": "bb641f44-17b9-4581-c4ce-276c3cfb6b7b"
      },
      "outputs": [
        {
          "output_type": "execute_result",
          "data": {
            "text/plain": [
              "[18, 15, 40]"
            ]
          },
          "metadata": {},
          "execution_count": 39
        }
      ],
      "source": [
        "Salaries[2]=40\n",
        "\n",
        "Salaries"
      ]
    },
    {
      "cell_type": "code",
      "execution_count": null,
      "id": "7fbff14a",
      "metadata": {
        "id": "7fbff14a"
      },
      "outputs": [],
      "source": [
        "#To add the data in List\n",
        "#Use .append\n",
        "\n",
        "Salaries.append(28)"
      ]
    },
    {
      "cell_type": "code",
      "execution_count": null,
      "id": "669aa8a5",
      "metadata": {
        "id": "669aa8a5",
        "outputId": "98fa05f7-ed3a-4398-d792-b3730732d65c",
        "colab": {
          "base_uri": "https://localhost:8080/"
        }
      },
      "outputs": [
        {
          "output_type": "execute_result",
          "data": {
            "text/plain": [
              "[18, 15, 40, 28]"
            ]
          },
          "metadata": {},
          "execution_count": 41
        }
      ],
      "source": [
        "Salaries"
      ]
    },
    {
      "cell_type": "code",
      "execution_count": null,
      "id": "bde84908",
      "metadata": {
        "id": "bde84908",
        "colab": {
          "base_uri": "https://localhost:8080/"
        },
        "outputId": "a237a3ef-4a9e-43aa-fdcb-c32eca062a5d"
      },
      "outputs": [
        {
          "output_type": "stream",
          "name": "stdout",
          "text": [
            "[1, 'a', 1.5]\n"
          ]
        }
      ],
      "source": [
        "#We can store another list inside the list:\n",
        "#This is called as nested list\n",
        "\n",
        "Mixed_List=[1,'a',1.5]\n",
        "print(Mixed_List)"
      ]
    },
    {
      "cell_type": "code",
      "source": [
        "#Create A string by your name and slice it\n",
        "#create a tuple\n",
        "#create a list"
      ],
      "metadata": {
        "id": "AjPs2BZAqk5u"
      },
      "id": "AjPs2BZAqk5u",
      "execution_count": null,
      "outputs": []
    },
    {
      "cell_type": "code",
      "execution_count": null,
      "id": "0e401834",
      "metadata": {
        "id": "0e401834",
        "outputId": "2133aa56-ad8a-4abc-c128-83c07606faf6",
        "colab": {
          "base_uri": "https://localhost:8080/"
        }
      },
      "outputs": [
        {
          "output_type": "execute_result",
          "data": {
            "text/plain": [
              "[1, 'a', 1.5]"
            ]
          },
          "metadata": {},
          "execution_count": 16
        }
      ],
      "source": [
        "Mixed"
      ]
    },
    {
      "cell_type": "code",
      "execution_count": null,
      "id": "3dfe301c",
      "metadata": {
        "id": "3dfe301c"
      },
      "outputs": [],
      "source": [
        "Mixed=[1,'a',1.5,[155,'b']]"
      ]
    },
    {
      "cell_type": "code",
      "execution_count": null,
      "id": "a189dfaf",
      "metadata": {
        "collapsed": true,
        "id": "a189dfaf",
        "outputId": "3f45a2e5-6ed0-44f0-d1cd-7ca5ed0adeb3",
        "colab": {
          "base_uri": "https://localhost:8080/"
        }
      },
      "outputs": [
        {
          "output_type": "execute_result",
          "data": {
            "text/plain": [
              "[1, 'a', 1.5, [155, 'b']]"
            ]
          },
          "metadata": {},
          "execution_count": 18
        }
      ],
      "source": [
        "Mixed"
      ]
    },
    {
      "cell_type": "code",
      "execution_count": null,
      "id": "f04fecec",
      "metadata": {
        "id": "f04fecec"
      },
      "outputs": [],
      "source": [
        "#Even we can Add tuple inside a List:\n",
        "\n",
        "Mixed_List=[1,'a',1.5,[155,'b'],(88,777)]\n",
        "      #      0  1   2      3         4"
      ]
    },
    {
      "cell_type": "code",
      "source": [
        "print(Mixed_List[4:0:-1])"
      ],
      "metadata": {
        "id": "VoWPWTlxnAtt"
      },
      "id": "VoWPWTlxnAtt",
      "execution_count": null,
      "outputs": []
    },
    {
      "cell_type": "code",
      "execution_count": null,
      "id": "5796062a",
      "metadata": {
        "id": "5796062a",
        "outputId": "e40273b8-d254-4e73-e8f1-a5ca0d807400",
        "colab": {
          "base_uri": "https://localhost:8080/"
        }
      },
      "outputs": [
        {
          "output_type": "execute_result",
          "data": {
            "text/plain": [
              "int"
            ]
          },
          "metadata": {},
          "execution_count": 24
        }
      ],
      "source": [
        "#Indexing would be like\n",
        "#[1,'a',1.5,[155,'b'],(88,777)]\n",
        "# 0  1   2      3         4\n",
        "\n",
        "type(Mixed[0])"
      ]
    },
    {
      "cell_type": "code",
      "execution_count": null,
      "id": "c92092b1",
      "metadata": {
        "id": "c92092b1"
      },
      "outputs": [],
      "source": [
        "str='String slicing in python'"
      ]
    },
    {
      "cell_type": "code",
      "execution_count": null,
      "id": "59cdf07b",
      "metadata": {
        "id": "59cdf07b"
      },
      "outputs": [],
      "source": [
        "#Q.1 Print 'slicing' in output\n",
        "#Q.2 Print 'nhyi'\n",
        "\n",
        "print(str[7:15])\n",
        "print(str[-1:-10:-2])"
      ]
    },
    {
      "cell_type": "markdown",
      "source": [
        "#Tuple :\n",
        "- Tuple is a immutable data type and enclosed in ( )\n"
      ],
      "metadata": {
        "id": "oS0OZK7X073y"
      },
      "id": "oS0OZK7X073y"
    },
    {
      "cell_type": "code",
      "source": [
        "Weekdays =('Sun','Mon','Tue','Wed','Thu','Fri','Sat')"
      ],
      "metadata": {
        "id": "A6oZYqd21JeP"
      },
      "id": "A6oZYqd21JeP",
      "execution_count": null,
      "outputs": []
    },
    {
      "cell_type": "code",
      "source": [
        "Weekdays"
      ],
      "metadata": {
        "colab": {
          "base_uri": "https://localhost:8080/"
        },
        "id": "uhB4CSUk1Jaz",
        "outputId": "310710f7-8693-45b9-f4a6-794c4ec60cb5"
      },
      "id": "uhB4CSUk1Jaz",
      "execution_count": null,
      "outputs": [
        {
          "output_type": "execute_result",
          "data": {
            "text/plain": [
              "('Sun', 'Mon', 'Tue', 'Wed', 'Thu', 'Fri', 'Sat')"
            ]
          },
          "metadata": {},
          "execution_count": 33
        }
      ]
    },
    {
      "cell_type": "code",
      "source": [
        "type(Weekdays)"
      ],
      "metadata": {
        "colab": {
          "base_uri": "https://localhost:8080/"
        },
        "id": "j0aHFOx71JVm",
        "outputId": "e6e495c1-37e2-4dcf-e65f-3d11540beb61"
      },
      "id": "j0aHFOx71JVm",
      "execution_count": null,
      "outputs": [
        {
          "output_type": "execute_result",
          "data": {
            "text/plain": [
              "tuple"
            ]
          },
          "metadata": {},
          "execution_count": 34
        }
      ]
    },
    {
      "cell_type": "code",
      "source": [
        "Weekdays[0]='Mon'"
      ],
      "metadata": {
        "id": "TGXdpVtu1JSW"
      },
      "id": "TGXdpVtu1JSW",
      "execution_count": null,
      "outputs": []
    },
    {
      "cell_type": "code",
      "source": [
        "#Weekdays =(\"'Sun','Mon','Tue','Wed','Thu','Fri','Sat'\")"
      ],
      "metadata": {
        "id": "XL--IliS1JPh"
      },
      "id": "XL--IliS1JPh",
      "execution_count": null,
      "outputs": []
    },
    {
      "cell_type": "code",
      "source": [
        "type(Weekdays)"
      ],
      "metadata": {
        "id": "MOjt4dBI1JHv"
      },
      "id": "MOjt4dBI1JHv",
      "execution_count": null,
      "outputs": []
    },
    {
      "cell_type": "code",
      "source": [
        "Weekdays.append['mercury']"
      ],
      "metadata": {
        "id": "pyM50g7F2XhJ"
      },
      "id": "pyM50g7F2XhJ",
      "execution_count": null,
      "outputs": []
    },
    {
      "cell_type": "markdown",
      "id": "0fb3059c",
      "metadata": {
        "id": "0fb3059c"
      },
      "source": [
        "# Dictionary\n",
        "Dictionaries are used to store data values in key:value pairs.\n",
        "\n",
        "A dictionary is a collection which is ordered*, changeable and do not allow duplicates.\n",
        "\n",
        "As of Python version 3.7, dictionaries are ordered. In Python 3.6 and earlier, dictionaries are unordered.\n",
        "\n",
        "Dictionaries are written with curly brackets, and have keys and values:\n",
        "\n",
        "\n",
        "\n"
      ]
    },
    {
      "cell_type": "code",
      "execution_count": null,
      "id": "552aeffe",
      "metadata": {
        "id": "552aeffe"
      },
      "outputs": [],
      "source": [
        "#Dictinary: It allows to create key Value pairs.\n",
        "# e.g: If we want to associate person's name with person's salaries.\n",
        "salaries={'John':15, 'Jane':14, 'Johny': 16}\n",
        "      #         0          1            2"
      ]
    },
    {
      "cell_type": "code",
      "execution_count": null,
      "id": "c5c3074f",
      "metadata": {
        "id": "c5c3074f",
        "colab": {
          "base_uri": "https://localhost:8080/"
        },
        "outputId": "286935ab-ba87-4ca0-c778-5f3e4c1b6bd7"
      },
      "outputs": [
        {
          "output_type": "execute_result",
          "data": {
            "text/plain": [
              "{'John': 15, 'Jane': 14, 'Johny': 16}"
            ]
          },
          "metadata": {},
          "execution_count": 45
        }
      ],
      "source": [
        "salaries"
      ]
    },
    {
      "cell_type": "code",
      "execution_count": null,
      "id": "88e3519e",
      "metadata": {
        "id": "88e3519e",
        "colab": {
          "base_uri": "https://localhost:8080/"
        },
        "outputId": "0ea11d68-a349-4773-b735-40c8f02b76f6"
      },
      "outputs": [
        {
          "output_type": "execute_result",
          "data": {
            "text/plain": [
              "15"
            ]
          },
          "metadata": {},
          "execution_count": 46
        }
      ],
      "source": [
        "salaries['John']\n",
        "\n",
        "#salaries[15]"
      ]
    },
    {
      "cell_type": "code",
      "execution_count": null,
      "id": "743bd12b",
      "metadata": {
        "id": "743bd12b"
      },
      "outputs": [],
      "source": [
        "thisdict = {\n",
        "  \"brand\": \"Ford\",\n",
        "  \"model\": \"Mustang\",\n",
        "  \"year\": 1964\n",
        "}"
      ]
    },
    {
      "cell_type": "code",
      "execution_count": null,
      "id": "07b2d885",
      "metadata": {
        "id": "07b2d885",
        "colab": {
          "base_uri": "https://localhost:8080/"
        },
        "outputId": "4ec914e8-9406-47b5-8a4e-bbbcb4799ee8"
      },
      "outputs": [
        {
          "output_type": "stream",
          "name": "stdout",
          "text": [
            "{'brand': 'Ford', 'model': 'Mustang', 'year': 1964}\n"
          ]
        }
      ],
      "source": [
        "print(thisdict)"
      ]
    },
    {
      "cell_type": "code",
      "execution_count": null,
      "id": "12c15f8a",
      "metadata": {
        "collapsed": true,
        "id": "12c15f8a",
        "outputId": "cd9fcee4-2290-4f2e-8650-d72932ed53d5",
        "colab": {
          "base_uri": "https://localhost:8080/"
        }
      },
      "outputs": [
        {
          "output_type": "stream",
          "name": "stdout",
          "text": [
            "3\n"
          ]
        }
      ],
      "source": [
        "print(len(thisdict))"
      ]
    },
    {
      "cell_type": "code",
      "execution_count": null,
      "id": "00333e12",
      "metadata": {
        "id": "00333e12",
        "outputId": "6849d9b3-96a6-4eb3-b373-f29ecd4e01de"
      },
      "outputs": [
        {
          "name": "stdout",
          "output_type": "stream",
          "text": [
            "The history saving thread hit an unexpected error (OperationalError('database or disk is full')).History will not be written to the database.\n"
          ]
        }
      ],
      "source": [
        "#Dictionary Items - Data Types\n",
        "#The values in dictionary items can be of any data type:\n",
        "\n",
        "#Example\n",
        "#String, int, boolean, and list data types:\n",
        "\n",
        "thisdict = {\n",
        "  \"brand\": \"Ford\",\n",
        "  \"electric\": False,\n",
        "  \"year\": 1964,\n",
        "  \"colors\": [\"red\", \"white\", \"blue\"]\n",
        "}\n"
      ]
    },
    {
      "cell_type": "code",
      "execution_count": null,
      "id": "9d34d44e",
      "metadata": {
        "id": "9d34d44e",
        "outputId": "7d61786f-1ee3-467c-ba60-8134ea8f4c63"
      },
      "outputs": [
        {
          "name": "stdout",
          "output_type": "stream",
          "text": [
            "{'brand': 'Ford', 'electric': False, 'year': 1964, 'colors': ['red', 'white', 'blue']}\n"
          ]
        }
      ],
      "source": [
        "print(thisdict)"
      ]
    },
    {
      "cell_type": "code",
      "execution_count": null,
      "id": "888dbd39",
      "metadata": {
        "id": "888dbd39",
        "outputId": "4fdff2ff-b2a5-4b22-96a0-dd9eaa9e47be"
      },
      "outputs": [
        {
          "name": "stdout",
          "output_type": "stream",
          "text": [
            "{'brand': 'Ford', 'electric': False, 'year': 1964, 'colors': ['red', 'white', 'blue']}\n"
          ]
        }
      ],
      "source": [
        "'''The dict() Constructor\n",
        "It is also possible to use the dict() constructor to make a dictionary.\n",
        "\n",
        "Example\n",
        "Using the dict() method to make a dictionary:\n",
        "'''\n",
        "thisdictionary = dict(name =\"John\", age = 36, country = \"Norway\")\n",
        "print(thisdict)\n",
        "\n"
      ]
    },
    {
      "cell_type": "markdown",
      "id": "67ccc6be",
      "metadata": {
        "id": "67ccc6be"
      },
      "source": [
        "# Python Operators\n",
        "#Operators are used to perform operations on variables and values.\n",
        "\n",
        "#In the example below, we use the + operator to add together two values:\n"
      ]
    },
    {
      "cell_type": "code",
      "execution_count": null,
      "id": "1b6e0059",
      "metadata": {
        "id": "1b6e0059",
        "outputId": "f44a9845-8ffa-4e9d-cd19-b69f246b1a9b",
        "colab": {
          "base_uri": "https://localhost:8080/"
        }
      },
      "outputs": [
        {
          "output_type": "stream",
          "name": "stdout",
          "text": [
            "7\n"
          ]
        }
      ],
      "source": [
        "x=5\n",
        "y=2\n",
        "print(x*y)"
      ]
    },
    {
      "cell_type": "code",
      "execution_count": null,
      "id": "745cdc49",
      "metadata": {
        "collapsed": true,
        "id": "745cdc49",
        "outputId": "6dfde7e1-36f9-4b04-9908-7d3176ed7480",
        "colab": {
          "base_uri": "https://localhost:8080/"
        }
      },
      "outputs": [
        {
          "output_type": "stream",
          "name": "stdout",
          "text": [
            "110\n"
          ]
        }
      ],
      "source": [
        "print(105+5)"
      ]
    },
    {
      "cell_type": "markdown",
      "id": "62618ed7",
      "metadata": {
        "id": "62618ed7"
      },
      "source": [
        "# Python divides the operators in the following groups:\n",
        "\n",
        "1. Arithmetic operators\n",
        "2. Assignment operators\n",
        "3. Comparison operators\n",
        "4. Logical operators\n",
        "5. Identity operators\n",
        "6. Membership operators\n",
        "7. Bitwise operators"
      ]
    },
    {
      "cell_type": "markdown",
      "id": "9ef8fdeb",
      "metadata": {
        "id": "9ef8fdeb"
      },
      "source": [
        "#Arithmetic operators are used with numeric values to perform common mathematical operations:\n",
        "\n",
        "# Operator\tName\tExample\n",
        "+\tAddition\tx + y\n",
        "-\tSubtraction\tx - y\n",
        "*\tMultiplication\tx * y\n",
        "/\tDivision\tx / y\n",
        "%\tModulus\tx % y\n",
        "**\tExponentiation\tx ** y\n",
        "//\tFloor division\tx // y\n"
      ]
    },
    {
      "cell_type": "code",
      "execution_count": null,
      "id": "5e609e02",
      "metadata": {
        "id": "5e609e02",
        "outputId": "b8f1abff-7ff2-4dcf-84c5-49be1668bddd",
        "colab": {
          "base_uri": "https://localhost:8080/"
        }
      },
      "outputs": [
        {
          "output_type": "stream",
          "name": "stdout",
          "text": [
            "Addition: 50 + 10 = 60\n"
          ]
        }
      ],
      "source": [
        "x = 50\n",
        "y = 10\n",
        "addition = x + y\n",
        "print(f\"Addition: {x} + {y} = {addition}\") #Printed O/P using formatted string\n",
        "#print(addition)\n",
        "\n",
        "#f' string:\n",
        "#print(\"6 + 5:\", addition)"
      ]
    },
    {
      "cell_type": "code",
      "execution_count": null,
      "id": "4c6008d9",
      "metadata": {
        "id": "4c6008d9",
        "outputId": "a3e170d0-755d-4f86-a7b4-cb87b00ac9ee"
      },
      "outputs": [
        {
          "name": "stdout",
          "output_type": "stream",
          "text": [
            "8\n"
          ]
        }
      ],
      "source": [
        "x = 5\n",
        "y = 3\n",
        "\n",
        "print(x+y)"
      ]
    },
    {
      "cell_type": "code",
      "execution_count": null,
      "id": "a35f6ba3",
      "metadata": {
        "id": "a35f6ba3"
      },
      "outputs": [],
      "source": [
        "#Subtraction (-): Subtracts the second number from the first.\n",
        "subtraction = x - y\n",
        "print(f\"Subtraction: {x} - {y} = {subtraction}\")\n",
        "\n"
      ]
    },
    {
      "cell_type": "code",
      "execution_count": null,
      "id": "6dc08da8",
      "metadata": {
        "id": "6dc08da8"
      },
      "outputs": [],
      "source": [
        "print(\"Substraction of x and y=\",x-y)"
      ]
    },
    {
      "cell_type": "code",
      "execution_count": null,
      "id": "de8731a9",
      "metadata": {
        "id": "de8731a9"
      },
      "outputs": [],
      "source": [
        "#Multiplication (*): Multiplies two numbers.\n",
        "\n",
        "multiplication = x * y\n",
        "print(f\"Multiplication: {x} * {y} = {multiplication}\")\n",
        "\n"
      ]
    },
    {
      "cell_type": "code",
      "execution_count": null,
      "id": "80baa732",
      "metadata": {
        "id": "80baa732"
      },
      "outputs": [],
      "source": [
        "x*y"
      ]
    },
    {
      "cell_type": "code",
      "execution_count": null,
      "id": "68b4e496",
      "metadata": {
        "id": "68b4e496",
        "outputId": "30d4cb3b-25c6-4c9c-de4d-96638a0978b8",
        "colab": {
          "base_uri": "https://localhost:8080/"
        }
      },
      "outputs": [
        {
          "output_type": "stream",
          "name": "stdout",
          "text": [
            "3.75\n",
            "Division: 15 / 4 = 3.75\n"
          ]
        }
      ],
      "source": [
        "#Division (/): Divides the first number by the second.\n",
        "x= 15\n",
        "y= 4\n",
        "division = x / y\n",
        "print(division)\n",
        "print(f\"Division: {x} / {y} = {division}\")\n",
        "\n",
        "#Take any two numbers and perform addition, subtraction, multiplication and division"
      ]
    },
    {
      "cell_type": "code",
      "execution_count": null,
      "id": "25e5ad32",
      "metadata": {
        "id": "25e5ad32"
      },
      "outputs": [],
      "source": [
        "print(x/y)\n",
        "type(x/y)"
      ]
    },
    {
      "cell_type": "code",
      "source": [
        "a =20\n",
        "b =10"
      ],
      "metadata": {
        "id": "ETShO7ur6zVD"
      },
      "id": "ETShO7ur6zVD",
      "execution_count": null,
      "outputs": []
    },
    {
      "cell_type": "code",
      "execution_count": null,
      "id": "106c0373",
      "metadata": {
        "id": "106c0373"
      },
      "outputs": [],
      "source": [
        "#Modulus (%): Returns the remainder of the division of the first number by the second.\n",
        "x= 15\n",
        "y= 4\n",
        "modulus = x % y    #Remainder\n",
        "print(f\"Modulus: {x} % {y} = {modulus}\")\n",
        "\n"
      ]
    },
    {
      "cell_type": "code",
      "source": [
        "#Exponentiation : First number will be base and second number will be power of the first\n",
        "\n",
        "a =6\n",
        "b=3\n",
        "c =12\n",
        "d=4\n",
        "\n",
        "expn = b**a\n",
        "print(expn)"
      ],
      "metadata": {
        "id": "Asa4Xxz06DaS"
      },
      "id": "Asa4Xxz06DaS",
      "execution_count": null,
      "outputs": []
    },
    {
      "cell_type": "code",
      "source": [],
      "metadata": {
        "id": "QBC2B8Ui6DfJ"
      },
      "id": "QBC2B8Ui6DfJ",
      "execution_count": null,
      "outputs": []
    },
    {
      "cell_type": "code",
      "execution_count": null,
      "id": "b3bf1b72",
      "metadata": {
        "id": "b3bf1b72"
      },
      "outputs": [],
      "source": [
        "#Exponentiation (**): Raises the first number to the power of the second.\n",
        "x= 5\n",
        "y= 3\n",
        "\n",
        "#5^3\n",
        "\n",
        "exponentiation = x ** y\n",
        "print(f\"Exponentiation: {x} ** {y} = {exponentiation}\")\n",
        "\n",
        "#5*5*5"
      ]
    },
    {
      "cell_type": "code",
      "execution_count": null,
      "id": "81eea0d5",
      "metadata": {
        "id": "81eea0d5",
        "outputId": "e6d6e422-a698-41b4-c759-ba87dc662803",
        "colab": {
          "base_uri": "https://localhost:8080/"
        }
      },
      "outputs": [
        {
          "output_type": "stream",
          "name": "stdout",
          "text": [
            "Floor division: 13 // 4 = 3\n",
            "3.25\n"
          ]
        }
      ],
      "source": [
        "#Floor Division (//): Divides the first number by the second and returns the closest integer less than or equal to the result.\n",
        "x= 13\n",
        "y= 4\n",
        "division = x/y\n",
        "floor_division = x // y\n",
        "print(f\"Floor division: {x} // {y} = {floor_division}\")\n",
        "print(division)"
      ]
    },
    {
      "cell_type": "code",
      "source": [
        "a = 40\n",
        "b = 5\n",
        "\n"
      ],
      "metadata": {
        "id": "M1H61IU18JNz"
      },
      "id": "M1H61IU18JNz",
      "execution_count": null,
      "outputs": []
    },
    {
      "cell_type": "code",
      "execution_count": null,
      "id": "b7024221",
      "metadata": {
        "id": "b7024221",
        "colab": {
          "base_uri": "https://localhost:8080/"
        },
        "outputId": "dd463c0e-d7d3-4031-cfff-34d504298813"
      },
      "outputs": [
        {
          "output_type": "stream",
          "name": "stdout",
          "text": [
            "2\n"
          ]
        }
      ],
      "source": [
        "a=9\n",
        "b=4\n",
        "\n",
        "fl_di=a//b\n",
        "print(fl_di)\n",
        "\n",
        "#take any two variables and find modulus, expn, floor division"
      ]
    },
    {
      "cell_type": "markdown",
      "id": "102a0804",
      "metadata": {
        "id": "102a0804"
      },
      "source": [
        "# Python Assignment Operators\n",
        "Assignment operators are used to assign values to variables:\n",
        "Operator\tExample\t   Same As\n",
        "=\t         x = 5\t   x = 5\n",
        "+=\t       x += 3\t   x = x + 3\n",
        "-=\t       x -= 3\t   x = x - 3\n",
        "*=\t       x *= 3\t   x = x * 3\n",
        "/=\t       x /= 3\t   x = x / 3\n",
        "%=\t       x %= 3\t   x = x % 3\n",
        "//=\t       x //= 3\t   x = x // 3\n",
        "**=\t       x **= 3\t   x = x ** 3\n",
        "&=\t       x &= 3\t   x = x & 3\n",
        "|=\t       x |= 3\t   x = x | 3\n",
        "^=\t       x ^= 3\t   x = x ^ 3\n",
        ">>=\t       x >>= 3\t   x = x >> 3\n",
        "<<=\t       x <<= 3\t   x = x << 3\n",
        ":=\t       print(x := 3)\tx = 3\n",
        "                            print(x)"
      ]
    },
    {
      "cell_type": "code",
      "source": [],
      "metadata": {
        "id": "ASP3ECXU2d2s"
      },
      "id": "ASP3ECXU2d2s",
      "execution_count": null,
      "outputs": []
    },
    {
      "cell_type": "code",
      "execution_count": null,
      "id": "76093acc",
      "metadata": {
        "id": "76093acc",
        "colab": {
          "base_uri": "https://localhost:8080/"
        },
        "outputId": "9a50624b-be65-424b-8870-963f013c45df"
      },
      "outputs": [
        {
          "output_type": "stream",
          "name": "stdout",
          "text": [
            "5\n"
          ]
        }
      ],
      "source": [
        "# = Assignment:\n",
        "\n",
        "x=10\n",
        "\n",
        "x = 5\n",
        "\n",
        "print(x)"
      ]
    },
    {
      "cell_type": "code",
      "execution_count": null,
      "id": "08c1d0c1",
      "metadata": {
        "id": "08c1d0c1"
      },
      "outputs": [],
      "source": [
        "# += Addition Assignment:\n",
        "x+= 3  #x=x+3  #x =5+3\n",
        "print(x)\n"
      ]
    },
    {
      "cell_type": "code",
      "execution_count": null,
      "id": "de735f0f",
      "metadata": {
        "collapsed": true,
        "id": "de735f0f"
      },
      "outputs": [],
      "source": [
        "# -= Subtraction Assignment:\n",
        "x-=3    #x = x -3  #8-3\n",
        "print(x)"
      ]
    },
    {
      "cell_type": "code",
      "execution_count": null,
      "id": "1b195c7d",
      "metadata": {
        "collapsed": true,
        "id": "1b195c7d"
      },
      "outputs": [],
      "source": [
        "# *= Multiplication Assignment:\n",
        "x*=3   #x = x * 3  #5*3\n",
        "print(\"Value of x:\",(x))"
      ]
    },
    {
      "cell_type": "code",
      "execution_count": null,
      "id": "3c0c47cf",
      "metadata": {
        "collapsed": true,
        "id": "3c0c47cf"
      },
      "outputs": [],
      "source": [
        "# /= Division Assignment:\n",
        "x /= 3  # x=x/3  #15/3\n",
        "print(x)\n"
      ]
    },
    {
      "cell_type": "code",
      "execution_count": null,
      "id": "cf6a54ad",
      "metadata": {
        "collapsed": true,
        "id": "cf6a54ad",
        "outputId": "e1dfeb6e-a0fc-4ae6-96e3-1f357bcf986e",
        "colab": {
          "base_uri": "https://localhost:8080/"
        }
      },
      "outputs": [
        {
          "output_type": "stream",
          "name": "stdout",
          "text": [
            "2.0\n",
            "3\n"
          ]
        }
      ],
      "source": [
        "# %= Modulus Assignment:\n",
        "x%= 3  # x = X % 3  #5%3\n",
        "print(x)\n",
        "\n",
        "# //= Floor division\n",
        "y= 16\n",
        "y //= 5   #y= y//5\n",
        "\n",
        "print(y)\n",
        "\n",
        "#Take any variable and perform assignments operations."
      ]
    },
    {
      "cell_type": "code",
      "execution_count": null,
      "id": "e91e02b8",
      "metadata": {
        "collapsed": true,
        "id": "e91e02b8",
        "outputId": "4f1fb27a-1db6-44a9-a7a5-6deb5c47d025",
        "colab": {
          "base_uri": "https://localhost:8080/",
          "height": 70
        }
      },
      "outputs": [
        {
          "output_type": "stream",
          "name": "stdout",
          "text": [
            "1\n",
            "4\n"
          ]
        },
        {
          "output_type": "execute_result",
          "data": {
            "text/plain": [
              "'0b100'"
            ],
            "application/vnd.google.colaboratory.intrinsic+json": {
              "type": "string"
            }
          },
          "metadata": {},
          "execution_count": 11
        }
      ],
      "source": [
        "# &= Bitwise AND Assignment:\n",
        "#& is the bitwise AND operator, which compares each bit of two numbers and returns a new number.\n",
        "#Each bit in the result is 1 if the corresponding bits in both operands are 1, otherwise the bit is 0.\n",
        "# 1   0   0\n",
        "# 1   1   1\n",
        "# 0   1   0\n",
        "#1    1    1\n",
        "x = 5  #  0101\n",
        "x &= 3  # 0011; Equivalent to x = x & 3\n",
        "print(x)  #0001\n",
        "bin(x)\n",
        "\n",
        "y = 6\n",
        "\n",
        "y &=4\n",
        "\n",
        "print(y)\n",
        "\n",
        "bin(y)\n",
        "\n",
        "#bin(26)"
      ]
    },
    {
      "cell_type": "code",
      "source": [
        "bin(6)\n",
        "\n",
        "bin(8)\n",
        "\n",
        "bin(1)"
      ],
      "metadata": {
        "colab": {
          "base_uri": "https://localhost:8080/",
          "height": 36
        },
        "id": "MQIYrE4CC9kV",
        "outputId": "0124062b-72b1-4d3c-b57b-0a6e33eace4a"
      },
      "id": "MQIYrE4CC9kV",
      "execution_count": null,
      "outputs": [
        {
          "output_type": "execute_result",
          "data": {
            "text/plain": [
              "'0b1'"
            ],
            "application/vnd.google.colaboratory.intrinsic+json": {
              "type": "string"
            }
          },
          "metadata": {},
          "execution_count": 14
        }
      ]
    },
    {
      "cell_type": "code",
      "source": [
        "a =5  #0101\n",
        "b =6  #0110\n",
        "\n",
        "c =a & b  #0100\n",
        "\n",
        "print(c)\n",
        "bin(c)"
      ],
      "metadata": {
        "colab": {
          "base_uri": "https://localhost:8080/",
          "height": 53
        },
        "id": "DcblLh9GCWE8",
        "outputId": "6816be16-eb96-4ed9-d9f8-b27624aecc17"
      },
      "id": "DcblLh9GCWE8",
      "execution_count": null,
      "outputs": [
        {
          "output_type": "stream",
          "name": "stdout",
          "text": [
            "4\n"
          ]
        },
        {
          "output_type": "execute_result",
          "data": {
            "text/plain": [
              "'0b100'"
            ],
            "application/vnd.google.colaboratory.intrinsic+json": {
              "type": "string"
            }
          },
          "metadata": {},
          "execution_count": 20
        }
      ]
    },
    {
      "cell_type": "markdown",
      "source": [
        "#Bitwise OR (|) Operation\n",
        "The bitwise OR operation compares each corresponding bit in the binary representation of two numbers. The result of each comparison is 1 if either of the bits is 1, and 0 only if both bits are 0.\n",
        "\n",
        "Here’s the truth table for a bitwise OR operation:\n",
        "\n",
        "Bit 1\tBit 2\tResult\n",
        "0\t 0 =\t0\n",
        "0\t 1 =  1\n",
        "1\t 0 =\t1\n",
        "1\t 1 =\t1\n",
        "In other words:\n",
        "\n",
        "1 | 0 results in 1.\n",
        "0 | 1 results in 1.\n",
        "1 | 1 results in 1.\n",
        "0 | 0 results in 0."
      ],
      "metadata": {
        "id": "MhUaJaizNVSc"
      },
      "id": "MhUaJaizNVSc"
    },
    {
      "cell_type": "code",
      "execution_count": null,
      "id": "eacedae7",
      "metadata": {
        "collapsed": true,
        "id": "eacedae7",
        "outputId": "f7fba8bd-9118-45d6-ea31-c91cff86767e",
        "colab": {
          "base_uri": "https://localhost:8080/",
          "height": 53
        }
      },
      "outputs": [
        {
          "output_type": "stream",
          "name": "stdout",
          "text": [
            "7\n"
          ]
        },
        {
          "output_type": "execute_result",
          "data": {
            "text/plain": [
              "'0b111'"
            ],
            "application/vnd.google.colaboratory.intrinsic+json": {
              "type": "string"
            }
          },
          "metadata": {},
          "execution_count": 15
        }
      ],
      "source": [
        "x = 5  # 0101\n",
        "x |= 3  #0011; Equivalent to x = x | 3\n",
        "print(x)  #(0111)\n",
        "bin(x)"
      ]
    },
    {
      "cell_type": "code",
      "source": [
        "a = 7   #111\n",
        "a |=10  #1010\n",
        "\n",
        "print(a)\n",
        "bin(a)\n",
        "a = 7   #111\n",
        "a &=10  #1010\n",
        "\n",
        "print(a)\n",
        "bin(a)\n",
        "\n",
        "\n"
      ],
      "metadata": {
        "colab": {
          "base_uri": "https://localhost:8080/",
          "height": 70
        },
        "id": "D696DgafDwGc",
        "outputId": "f4df18dc-9040-4cb4-b320-f96cef063cab"
      },
      "id": "D696DgafDwGc",
      "execution_count": null,
      "outputs": [
        {
          "output_type": "stream",
          "name": "stdout",
          "text": [
            "15\n",
            "2\n"
          ]
        },
        {
          "output_type": "execute_result",
          "data": {
            "text/plain": [
              "'0b10'"
            ],
            "application/vnd.google.colaboratory.intrinsic+json": {
              "type": "string"
            }
          },
          "metadata": {},
          "execution_count": 17
        }
      ]
    },
    {
      "cell_type": "markdown",
      "source": [
        "#Understanding Bitwise XOR (^) Operation\n",
        "In a bitwise XOR operation, each bit in the LHS binary number is compared with the corresponding bit in the RHS binary number. The XOR operation will return 1 if the bits are different and 0 if the bits are the same.\n",
        "\n",
        "Here's the truth table for a bitwise XOR operation:\n",
        "\n",
        "Bit1\tBit2\tResult\n",
        "0\t     0\t  0\n",
        "0 \t   1\t  1\n",
        "1\t     0\t  1\n",
        "1\t     1\t  0\n",
        "So:\n",
        "\n",
        "1 ^ 0 results in 1\n",
        "0 ^ 1 results in 1\n",
        "1 ^ 1 results in 0\n",
        "0 ^ 0 results in 0"
      ],
      "metadata": {
        "id": "iopd6t4ujdzf"
      },
      "id": "iopd6t4ujdzf"
    },
    {
      "cell_type": "code",
      "execution_count": null,
      "id": "43528bb0",
      "metadata": {
        "collapsed": true,
        "id": "43528bb0",
        "outputId": "f86d5af6-65eb-45db-fc7d-43db58b630c1",
        "colab": {
          "base_uri": "https://localhost:8080/",
          "height": 53
        }
      },
      "outputs": [
        {
          "output_type": "stream",
          "name": "stdout",
          "text": [
            "6\n"
          ]
        },
        {
          "output_type": "execute_result",
          "data": {
            "text/plain": [
              "'0b110'"
            ],
            "application/vnd.google.colaboratory.intrinsic+json": {
              "type": "string"
            }
          },
          "metadata": {},
          "execution_count": 18
        }
      ],
      "source": [
        "x = 5  # 0101\n",
        "x ^= 3  # 0011; Equivalent to x = x ^ 3\n",
        "print(x)\n",
        "bin(x)  # (0110)\n"
      ]
    },
    {
      "cell_type": "code",
      "source": [
        "a = 8\n",
        "a^=2\n",
        "print(a)\n",
        "bin(a)"
      ],
      "metadata": {
        "id": "qGg0xFPzE0tN"
      },
      "id": "qGg0xFPzE0tN",
      "execution_count": null,
      "outputs": []
    },
    {
      "cell_type": "code",
      "source": [],
      "metadata": {
        "id": "uDuBweUpE0xb"
      },
      "id": "uDuBweUpE0xb",
      "execution_count": null,
      "outputs": []
    },
    {
      "cell_type": "markdown",
      "source": [
        "#The >>= (right shift assignment)\n",
        "- operator shifts the bits of the left-hand side (LHS) variable to the right by the number of positions specified by the right-hand side (RHS) value, then updates the LHS variable with the shifted result.\n",
        "\n",
        "#How Right Shift Works\n",
        "- In a right shift, each bit in the binary representation of the number is moved to the right by the specified number of positions. The empty positions on the left are filled with 0s (for positive numbers), and the bits shifted out of the right end are discarded. Essentially, right-shifting by n bits divides the number by 2^n, discarding any remainder.\n",
        "\n",
        "#Truth Table Explanation\n",
        "- There isn't a truth table for the right shift operation in the same sense as for logical or bitwise operations. Instead, it’s helpful to see how each bit moves when we apply a right shift:\n",
        "\n",
        "- Example: Shifting x = 8 (binary 1000) to the Right by 1, 2, and 3 Positions\n",
        "- Operation\tBinary Before Shift\tShift Amount\tBinary After Shift\tDecimal - After Shift\n",
        "x >> 1\t1000\t1\t0100\t4\n",
        "x >> 2\t1000\t2\t0010\t2\n",
        "x >> 3\t1000\t3\t0001\t1"
      ],
      "metadata": {
        "id": "22scwmyEk0tH"
      },
      "id": "22scwmyEk0tH"
    },
    {
      "cell_type": "code",
      "source": [],
      "metadata": {
        "id": "QHe5qsvREyyV"
      },
      "id": "QHe5qsvREyyV",
      "execution_count": null,
      "outputs": []
    },
    {
      "cell_type": "code",
      "execution_count": null,
      "id": "522a3353",
      "metadata": {
        "collapsed": true,
        "id": "522a3353",
        "outputId": "ef67779e-b720-46bb-d7b9-0ef5b6b044d3",
        "colab": {
          "base_uri": "https://localhost:8080/"
        }
      },
      "outputs": [
        {
          "output_type": "stream",
          "name": "stdout",
          "text": [
            "2\n",
            "0b1\n",
            "1\n"
          ]
        }
      ],
      "source": [
        "x = 8  # 1000\n",
        "x >>= 2  # Equivalent to x = x >> 2\n",
        "print(x)  # (0010)\n",
        "\n",
        "\n",
        "y =10 #1010\n",
        "\n",
        "y>>=3  #0001\n",
        "print(bin(y))\n",
        "print(y)"
      ]
    },
    {
      "cell_type": "code",
      "source": [
        "x = 16  #10000\n",
        "\n",
        "x>>=2   #00100\n",
        "\n",
        "print(x)\n",
        "print(bin(16))\n",
        "bin(4)"
      ],
      "metadata": {
        "colab": {
          "base_uri": "https://localhost:8080/",
          "height": 70
        },
        "id": "TxrP5tn3HCZ1",
        "outputId": "6013a647-2b1d-48bc-dab7-e4ff87faafca"
      },
      "id": "TxrP5tn3HCZ1",
      "execution_count": null,
      "outputs": [
        {
          "output_type": "stream",
          "name": "stdout",
          "text": [
            "4\n",
            "0b10000\n"
          ]
        },
        {
          "output_type": "execute_result",
          "data": {
            "text/plain": [
              "'0b100'"
            ],
            "application/vnd.google.colaboratory.intrinsic+json": {
              "type": "string"
            }
          },
          "metadata": {},
          "execution_count": 26
        }
      ]
    },
    {
      "cell_type": "markdown",
      "source": [
        "#The <<= (left shift assignment)\n",
        "- operator shifts the bits of the left-hand side (LHS) variable to the left by the number of positions specified by the right-hand side (RHS) value, then updates the LHS variable with the shifted result.\n",
        "\n",
        "# How Left Shift Works\n",
        "- In a left shift operation, each bit in the binary representation of a number is moved to the left by the specified number of positions. Empty positions on the right are filled with 0s, and the left shift effectively multiplies the number by 2^n, where n is the number of positions shifted.\n",
        "\n",
        "#Truth Table Explanation\n",
        "- Like the right shift, the left shift operation doesn’t have a traditional truth table. Instead, it is useful to look at how each bit moves when a left shift is applied.\n",
        "\n",
        "- Example: Shifting x = 3 (binary 0011) to the Left by 1, 2, and 3 Positions\n",
        "- Operation\tBinary Before Shift\tShift Amount\tBinary After Shift\tDecimal\n",
        " # After Shift\n",
        "x << 1\t0011\t1\t0110\t6\n",
        "x << 2\t0011\t2\t1100\t12\n",
        "x << 3\t0011\t3\t1000\t24\n",
        "- In each case, the bits are shifted left by the specified amount, and 0s are added to the right to fill in the positions."
      ],
      "metadata": {
        "id": "gmhV4EwrlZ5k"
      },
      "id": "gmhV4EwrlZ5k"
    },
    {
      "cell_type": "code",
      "execution_count": null,
      "id": "c39cf5bd",
      "metadata": {
        "collapsed": true,
        "id": "c39cf5bd",
        "outputId": "d09e8f00-9e0a-426f-c525-906d4f5703a9",
        "colab": {
          "base_uri": "https://localhost:8080/"
        }
      },
      "outputs": [
        {
          "output_type": "stream",
          "name": "stdout",
          "text": [
            "12\n",
            "3\n"
          ]
        }
      ],
      "source": [
        "x = 3  # 0011\n",
        "x <<= 2  # Equivalent to x = x << 2\n",
        "print(x)  # (1100)\n",
        "x>>=2\n",
        "\n",
        "print(x)"
      ]
    },
    {
      "cell_type": "markdown",
      "source": [
        "#The := operator\n",
        "- known as the Walrus Operator or Assignment Expression, was introduced in Python 3.8. It allows assignment of a value to a variable as part of an expression, which can be useful for simplifying certain types of code, such as within if statements or while loops. The assignment expression evaluates to the assigned value, making it possible to use the value immediately in an expression.\n",
        "\n",
        "# Understanding the Walrus Operator\n",
        "- The Walrus Operator (:=) is different from traditional assignment (=) because it allows you to assign a value to a variable within an expression, without needing a separate line. This is especially useful in conditional expressions where you want to both assign a variable and check its value."
      ],
      "metadata": {
        "id": "Gk9eVMbymxJx"
      },
      "id": "Gk9eVMbymxJx"
    },
    {
      "cell_type": "code",
      "execution_count": null,
      "id": "81e048f8",
      "metadata": {
        "id": "81e048f8"
      },
      "outputs": [],
      "source": [
        "# :=\n",
        "#The walrus operator := assigns a value to a variable as part of an expression (introduced in Python 3.8)."
      ]
    },
    {
      "cell_type": "code",
      "execution_count": null,
      "id": "87ca7d2f",
      "metadata": {
        "collapsed": true,
        "id": "87ca7d2f",
        "outputId": "cfcd8b51-617f-4c9b-bad1-4a16758b4970",
        "colab": {
          "base_uri": "https://localhost:8080/"
        }
      },
      "outputs": [
        {
          "output_type": "stream",
          "name": "stdout",
          "text": [
            "3\n",
            "3\n"
          ]
        }
      ],
      "source": [
        "print(x := 3)  # Assigns 3 to x and prints it\n",
        "print(x)\n"
      ]
    },
    {
      "cell_type": "markdown",
      "id": "c102331a",
      "metadata": {
        "id": "c102331a"
      },
      "source": [
        "# Python Comparison Operators\n",
        "Comparison operators are used to compare two values:\n",
        "\n",
        "Operator\tName\t      Example\n",
        "==\t      Equal\t      x == y  # x=5 , y=7 -->False\n",
        "!=\t     Not equal\t  x != y\t#x=5 , y=5 -->False   <>\n",
        ">\t      Greater than\tx > y\t#x=5, y=3  --> True\n",
        "<\t      Less than\t    x < y\t#x=5 , y= 3--> False\n",
        ">=\t   Greater than or equal to\t x >= y\t #x=5, y=5 -->True\n",
        "<=\t  Less than or equal to\t  x <= y    # x=5, y=3 -->False\n",
        "\n"
      ]
    },
    {
      "cell_type": "code",
      "source": [
        "x = 15\n",
        "y = 20\n",
        "\n",
        "x>=y"
      ],
      "metadata": {
        "colab": {
          "base_uri": "https://localhost:8080/"
        },
        "id": "ElF6VQudK2ln",
        "outputId": "0fa9b2d1-6c22-40a5-b109-1a2fe80e5270"
      },
      "id": "ElF6VQudK2ln",
      "execution_count": null,
      "outputs": [
        {
          "output_type": "execute_result",
          "data": {
            "text/plain": [
              "False"
            ]
          },
          "metadata": {},
          "execution_count": 8
        }
      ]
    },
    {
      "cell_type": "markdown",
      "id": "fd49ae9c",
      "metadata": {
        "id": "fd49ae9c"
      },
      "source": [
        "# Python Logical Operators\n",
        "Logical operators are used to combine conditional statements:\n",
        "Operator\tDescription\t                                    #Example\n",
        "- and \t    Returns True if both statements are true\t    x < 5 and  x < 10    #x=4  -->True\n",
        "- or\t        Returns True if one of the statements is true,\tx < 5 or x < 4  #x = 4\n",
        "- not\t        Reverse the result, returns False if the result is true\tnot(x < 5 and x < 10)"
      ]
    },
    {
      "cell_type": "code",
      "execution_count": null,
      "id": "7028ca9c",
      "metadata": {
        "id": "7028ca9c",
        "colab": {
          "base_uri": "https://localhost:8080/"
        },
        "outputId": "f772e304-1fd7-4f7d-a4c2-ed97d7e656b3"
      },
      "outputs": [
        {
          "output_type": "stream",
          "name": "stdout",
          "text": [
            "True\n",
            "False\n",
            "True\n",
            "True\n",
            "False\n"
          ]
        }
      ],
      "source": [
        "#and \t    Returns True if both statements are true\n",
        "#e.g:\n",
        "\n",
        "a = 5\n",
        "b = 10\n",
        "\n",
        "print(a > 2 and b < 15)\n",
        "print(a > 2 and b < 8)\n",
        "\n",
        "print(a > 2 or b < 15)\n",
        "print(a > 2 or b < 8)\n",
        "\n",
        "print(not(a > 2 or b < 8))"
      ]
    },
    {
      "cell_type": "code",
      "execution_count": null,
      "id": "1691330a",
      "metadata": {
        "id": "1691330a"
      },
      "outputs": [],
      "source": [
        "#not\tReverse the result, returns False if the result is true\tnot\n",
        "#e.g:\n",
        "\n",
        "a = 5\n",
        "b = 10\n",
        "\n",
        "print(not (a > 2))  #False\n",
        "print(not (a > 6))  #True"
      ]
    },
    {
      "cell_type": "markdown",
      "id": "1e3d16bb",
      "metadata": {
        "id": "1e3d16bb"
      },
      "source": [
        "# Python Identity Operators\n",
        "Identity operators are used to compare the objects, not if they are equal, but if they are actually the same object, with the same memory location:\n",
        "\n",
        "Operator  Description\t                                                                    Example\n",
        "- is \t      Returns True if both variables are the same object  memory\t                x is y\n",
        "- is not\t  Returns True if both variables are not the same object memory\t            x is not y"
      ]
    },
    {
      "cell_type": "code",
      "execution_count": null,
      "id": "5cc560ce",
      "metadata": {
        "id": "5cc560ce",
        "colab": {
          "base_uri": "https://localhost:8080/"
        },
        "outputId": "91702ccb-5368-4184-a4bf-601a46d625c7"
      },
      "outputs": [
        {
          "output_type": "stream",
          "name": "stdout",
          "text": [
            "True\n",
            "False\n",
            "False\n"
          ]
        }
      ],
      "source": [
        "a = [1, 2, 3]   #object memory location 1\n",
        "b = a           # 1\n",
        "c = [1, 2, 3]   #Object memory location  2\n",
        "d = c           #2\n",
        "print(a is b)    #  True\n",
        "print(a is c)    #False\n",
        "print(c is not d)  #False\n"
      ]
    },
    {
      "cell_type": "code",
      "execution_count": null,
      "id": "721770a6",
      "metadata": {
        "collapsed": true,
        "id": "721770a6",
        "outputId": "b1965f07-1139-4e96-de2d-f191551791b5"
      },
      "outputs": [
        {
          "name": "stdout",
          "output_type": "stream",
          "text": [
            "False\n",
            "True\n"
          ]
        }
      ],
      "source": [
        "#is not\t  Returns True if both variables are not the same object in the memory\n",
        "#e.g:\n",
        "\n",
        "a = [1, 2, 3]   #1\n",
        "b = a           #1 memory location\n",
        "c = [1, 2, 3]   #2 memory location\n",
        "\n",
        "print(a is not b)  #FAlse\n",
        "print(a is not c)  #True"
      ]
    },
    {
      "cell_type": "code",
      "execution_count": null,
      "id": "99be6826",
      "metadata": {
        "id": "99be6826"
      },
      "outputs": [],
      "source": [
        "#cached Range in python(-5 to 256)\n",
        "x = 10    #1 1 byte\n",
        "y = 10    #\n",
        "z = 10   #1\n",
        "b = 157   #2 1 byte\n",
        "h = 157  #\n",
        "z =157   #2\n",
        "j = -4  #3\n",
        "i=-4    #3\n",
        "\n",
        "u = 258   #4\n",
        "i = 258   #5\n",
        "\n",
        "print(b is h)\n",
        "\n",
        "a = 257  #1\n",
        "d = 257  #2\n",
        "\n",
        "\n",
        "print(a is b)\n"
      ]
    },
    {
      "cell_type": "code",
      "execution_count": null,
      "id": "5e7ac4f7",
      "metadata": {
        "id": "5e7ac4f7"
      },
      "outputs": [],
      "source": [
        "#In Python, small integers are cached to improve performance. This means that Python maintains a pool of commonly\n",
        "#used small integer objects, and when these integers are needed, Python reuses the existing objects instead of creating new ones.\n",
        "#This process is known as interning.\n",
        "\n",
        "#Explanation\n",
        "#1.Integer Caching\n",
        "\n",
        "#Range: By default, Python caches integers in the range from -5 to 256. This range may vary slightly depending\n",
        "#on the implementation of Python (like CPython).\n",
        "\n",
        "#2.Reusability: When you create an integer within this range, Python checks if an identical integer object already exists.\n",
        "#If it does, Python reuses the existing object. This means that any variable assigned an integer value within this range\n",
        "#will reference the same memory location."
      ]
    },
    {
      "cell_type": "markdown",
      "id": "95a5c3ed",
      "metadata": {
        "id": "95a5c3ed"
      },
      "source": [
        "# Python Membership Operators\n",
        "Membership operators are used to test if a sequence is presented in an object (such as a string, list, tuple, set, or dictionary).\n",
        "\n",
        "Operator\tDescription\t                                                                    #Example\n",
        "- 1.in \t        Returns True if a sequence with the specified value is present in the object\t    x in y\n",
        "- 2.not in\t    Returns True if a sequence with the specified value is not present in the object\tx not in y\n"
      ]
    },
    {
      "cell_type": "code",
      "execution_count": null,
      "id": "6a2ddd04",
      "metadata": {
        "id": "6a2ddd04"
      },
      "outputs": [],
      "source": [
        "#in \tReturns True if a sequence with the specified value is present in the object\n",
        "#Example 1: Checking Membership in a List\n",
        "\n",
        "fruits = ['apple', 'banana', 'cherry']\n",
        "print('banana' in fruits)   #True\n",
        "print('grape' in fruits)    #False\n"
      ]
    },
    {
      "cell_type": "code",
      "execution_count": null,
      "id": "cb3863eb",
      "metadata": {
        "id": "cb3863eb"
      },
      "outputs": [],
      "source": [
        "#Example 2: Checking Membership in a String\n",
        "\n",
        "text = \"Hello, world!\"\n",
        "print('H' in text)\n",
        "print('hello' in text)\n"
      ]
    },
    {
      "cell_type": "code",
      "execution_count": null,
      "id": "1043ab97",
      "metadata": {
        "id": "1043ab97"
      },
      "outputs": [],
      "source": [
        "#Example 3: Checking Membership in a Dictionary\n",
        "\n",
        "person = {'name': 'Alice', 'age': 25}\n",
        "print('name' in person)  # Output: True\n",
        "print('Alice' in person) # Output: False\n",
        "print('age' in person)\n"
      ]
    },
    {
      "cell_type": "code",
      "execution_count": null,
      "id": "3a28e18f",
      "metadata": {
        "id": "3a28e18f"
      },
      "outputs": [],
      "source": [
        "#The not in operator returns True if the specified value is not found in the sequence, otherwise it returns False.\n",
        "#Example 1: Checking Non-Membership in a List\n",
        "\n",
        "fruits = ['apple', 'banana', 'cherry']\n",
        "print('grape' not in fruits)  # Output: True\n",
        "print('banana' not in fruits) # Output: False\n"
      ]
    },
    {
      "cell_type": "markdown",
      "id": "d0ce1dea",
      "metadata": {
        "id": "d0ce1dea"
      },
      "source": [
        "# Python Bitwise Operators\n",
        "Bitwise operators are used to compare (binary) numbers:\n",
        "\n",
        "Operators  Operations\n",
        "    &        AND\n",
        "    l        OR\n",
        "    ^\t     XOR\n",
        "    ~\t     NOT\n",
        "   <<\t Zero fill left shift\n",
        "   >>\t Signed right shift\n",
        "    "
      ]
    },
    {
      "cell_type": "code",
      "execution_count": null,
      "id": "bf7b94c4",
      "metadata": {
        "collapsed": true,
        "id": "bf7b94c4",
        "outputId": "4f8ecb69-0aa6-4395-b343-b89015f03599"
      },
      "outputs": [
        {
          "name": "stdout",
          "output_type": "stream",
          "text": [
            "5\n"
          ]
        }
      ],
      "source": [
        "my_dict = {'a': 2, 'b': 3, 'a': 5}\n",
        "print(my_dict['a'])\n"
      ]
    },
    {
      "cell_type": "markdown",
      "id": "82a0a1e3",
      "metadata": {
        "id": "82a0a1e3"
      },
      "source": [
        "# 1. AND (&)\n",
        "It compares each bit of two numbers and Sets each bit to 1 if both bits are 1.\n"
      ]
    },
    {
      "cell_type": "code",
      "execution_count": null,
      "id": "d0efd2d4",
      "metadata": {
        "id": "d0efd2d4",
        "colab": {
          "base_uri": "https://localhost:8080/"
        },
        "outputId": "b24ae751-5ca3-41d8-e713-c737c236b906"
      },
      "outputs": [
        {
          "output_type": "stream",
          "name": "stdout",
          "text": [
            "1\n",
            "0b101\n"
          ]
        }
      ],
      "source": [
        "a = 5          # 0 1 0 1\n",
        "b = 3          # 0 0 1 1\n",
        "result = a & b # 0 0 0 1\n",
        "print(result)\n",
        "print(bin(5))"
      ]
    },
    {
      "cell_type": "code",
      "execution_count": null,
      "id": "ff1563cb",
      "metadata": {
        "id": "ff1563cb",
        "colab": {
          "base_uri": "https://localhost:8080/"
        },
        "outputId": "04ffcc37-391e-4e37-84be-f40198c84c90"
      },
      "outputs": [
        {
          "output_type": "execute_result",
          "data": {
            "text/plain": [
              "1"
            ]
          },
          "metadata": {},
          "execution_count": 2
        }
      ],
      "source": [
        "b=int('0001', 2)\n",
        "b"
      ]
    },
    {
      "cell_type": "code",
      "execution_count": null,
      "id": "c735113e",
      "metadata": {
        "id": "c735113e",
        "outputId": "45bc8185-124d-4bbf-9e9f-0f95563e6f2b"
      },
      "outputs": [
        {
          "name": "stdout",
          "output_type": "stream",
          "text": [
            "6\n"
          ]
        }
      ],
      "source": [
        "a = 12  # 1100\n",
        "b = 10  # 1010\n",
        "result = a ^ b  # 0110\n",
        "print(result)\n",
        "\n",
        "&, |, ^, ~, <<, >>"
      ]
    },
    {
      "cell_type": "markdown",
      "id": "f353999d",
      "metadata": {
        "id": "f353999d"
      },
      "source": [
        "# OR (|):\n",
        "Sets each bit to 1 if one of two bits is 1.\n"
      ]
    },
    {
      "cell_type": "code",
      "execution_count": null,
      "id": "289ffab7",
      "metadata": {
        "id": "289ffab7",
        "outputId": "1cc6323a-bf9e-4360-f4f8-b8d862eea456"
      },
      "outputs": [
        {
          "name": "stdout",
          "output_type": "stream",
          "text": [
            "7\n"
          ]
        }
      ],
      "source": [
        "a = 5   # 0101\n",
        "b = 3   # 0011\n",
        "result = a | b  # 0111\n",
        "print(result)\n"
      ]
    },
    {
      "cell_type": "code",
      "execution_count": null,
      "id": "3a7b49bd",
      "metadata": {
        "id": "3a7b49bd"
      },
      "outputs": [],
      "source": []
    },
    {
      "cell_type": "markdown",
      "id": "434fde2a",
      "metadata": {
        "id": "434fde2a"
      },
      "source": [
        "# XOR (^):\n",
        "Sets each bit to 1 if only one of two bits is 1.\n",
        "    \n",
        "    "
      ]
    },
    {
      "cell_type": "code",
      "execution_count": null,
      "id": "1c1f2dda",
      "metadata": {
        "id": "1c1f2dda",
        "outputId": "14bd8565-b572-4d77-ed25-2fc172cb5144"
      },
      "outputs": [
        {
          "name": "stdout",
          "output_type": "stream",
          "text": [
            "6\n"
          ]
        }
      ],
      "source": [
        "a = 5   # 0101\n",
        "b = 3   # 0011\n",
        "result = a ^ b  # 0110\n",
        "print(result)\n"
      ]
    },
    {
      "cell_type": "markdown",
      "id": "64bb211d",
      "metadata": {
        "id": "64bb211d"
      },
      "source": [
        "# NOT (~):\n",
        "Inverts all the bits.\n",
        "    "
      ]
    },
    {
      "cell_type": "code",
      "execution_count": null,
      "id": "ba23a0f2",
      "metadata": {
        "id": "ba23a0f2",
        "outputId": "3ba9a0e7-f525-4c77-ec59-e76c3d0fbdaa"
      },
      "outputs": [
        {
          "name": "stdout",
          "output_type": "stream",
          "text": [
            "-6\n"
          ]
        }
      ],
      "source": [
        "a = 5  # 0101\n",
        "result = ~a  # 1010 (in 2's complement form, this is -6)\n",
        "print(result)\n"
      ]
    },
    {
      "cell_type": "markdown",
      "id": "e06b4905",
      "metadata": {
        "id": "e06b4905"
      },
      "source": [
        "# Left Shift (<<):\n",
        "Shifts bits to the left, filling with zeros.\n",
        "\n"
      ]
    },
    {
      "cell_type": "code",
      "execution_count": null,
      "id": "dc8deece",
      "metadata": {
        "collapsed": true,
        "id": "dc8deece",
        "outputId": "eaf93901-a06e-462d-c286-95b48992a12a"
      },
      "outputs": [
        {
          "name": "stdout",
          "output_type": "stream",
          "text": [
            "20\n"
          ]
        },
        {
          "data": {
            "text/plain": [
              "'10100'"
            ]
          },
          "execution_count": 144,
          "metadata": {},
          "output_type": "execute_result"
        }
      ],
      "source": [
        "a = 5  # 0101\n",
        "result = a << 2  # 1010\n",
        "print(result)\n",
        "bin(result)[2:]\n",
        "\n",
        "# 0101 << 10100\n"
      ]
    },
    {
      "cell_type": "code",
      "execution_count": null,
      "id": "05d7a860",
      "metadata": {
        "id": "05d7a860",
        "outputId": "594c1ed1-b22d-4663-800a-6496a77e4939"
      },
      "outputs": [
        {
          "data": {
            "text/plain": [
              "21"
            ]
          },
          "execution_count": 145,
          "metadata": {},
          "output_type": "execute_result"
        }
      ],
      "source": [
        "b=int('10101',2)\n",
        "b"
      ]
    },
    {
      "cell_type": "code",
      "execution_count": null,
      "id": "47e7b639",
      "metadata": {
        "id": "47e7b639",
        "outputId": "5742f783-4833-4005-dd63-ab4825482dd4"
      },
      "outputs": [
        {
          "name": "stdout",
          "output_type": "stream",
          "text": [
            "84\n"
          ]
        },
        {
          "data": {
            "text/plain": [
              "'1010100'"
            ]
          },
          "execution_count": 146,
          "metadata": {},
          "output_type": "execute_result"
        }
      ],
      "source": [
        "b=21  #0101\n",
        "result=b<<2\n",
        "print(result)\n",
        "bin(result)[2:]"
      ]
    },
    {
      "cell_type": "code",
      "execution_count": null,
      "id": "abff6dbd",
      "metadata": {
        "id": "abff6dbd",
        "outputId": "d51589e2-ad72-4d37-a4fa-6c2041cf83c4"
      },
      "outputs": [
        {
          "name": "stdout",
          "output_type": "stream",
          "text": [
            "12\n"
          ]
        }
      ],
      "source": [
        "a = 3  # 0011\n",
        "result = a << 2  # 1100\n",
        "print(result)\n",
        "#0011 << 1100"
      ]
    },
    {
      "cell_type": "code",
      "execution_count": null,
      "id": "66e8ebb5",
      "metadata": {
        "id": "66e8ebb5"
      },
      "outputs": [],
      "source": []
    },
    {
      "cell_type": "code",
      "execution_count": null,
      "id": "5f392988",
      "metadata": {
        "collapsed": true,
        "id": "5f392988",
        "outputId": "2f33c4f2-6d48-46d0-b820-6aab51f3b828"
      },
      "outputs": [
        {
          "name": "stdout",
          "output_type": "stream",
          "text": [
            "48\n"
          ]
        },
        {
          "data": {
            "text/plain": [
              "'0b110000'"
            ]
          },
          "execution_count": 105,
          "metadata": {},
          "output_type": "execute_result"
        }
      ],
      "source": [
        "a = 12  # 0b1100\n",
        "result = a << 2  # 0b1100\n",
        "print(result)\n",
        "bin(result)\n"
      ]
    },
    {
      "cell_type": "markdown",
      "id": "f4cade3b",
      "metadata": {
        "id": "f4cade3b"
      },
      "source": [
        "# Right Shift (>>):\n",
        "Shifts bits to the right, filling with the zeros (for unsigned types).\n",
        "\n"
      ]
    },
    {
      "cell_type": "code",
      "execution_count": null,
      "id": "16909e9d",
      "metadata": {
        "id": "16909e9d",
        "outputId": "17aa0251-bec9-497d-f1a4-3034b832b972"
      },
      "outputs": [
        {
          "name": "stdout",
          "output_type": "stream",
          "text": [
            "1\n"
          ]
        }
      ],
      "source": [
        "a = 5  # 0101\n",
        "result = a >> 2  # 0001\n",
        "print(result)\n"
      ]
    },
    {
      "cell_type": "code",
      "execution_count": null,
      "id": "5bf59517",
      "metadata": {
        "collapsed": true,
        "id": "5bf59517",
        "outputId": "b0e46857-2479-4d4a-e9b7-8c571e390eb9"
      },
      "outputs": [
        {
          "name": "stdout",
          "output_type": "stream",
          "text": [
            "0\n"
          ]
        },
        {
          "data": {
            "text/plain": [
              "'0b0'"
            ]
          },
          "execution_count": 107,
          "metadata": {},
          "output_type": "execute_result"
        }
      ],
      "source": [
        "a = 2 # 0b0010\n",
        "result = a >> 2\n",
        "print(result)\n",
        "bin(result)\n"
      ]
    },
    {
      "cell_type": "markdown",
      "id": "ecb89bcc",
      "metadata": {
        "id": "ecb89bcc"
      },
      "source": [
        "# How to convert Numbers into Binary:\n",
        "\n"
      ]
    },
    {
      "cell_type": "code",
      "execution_count": null,
      "id": "4fd4265d",
      "metadata": {
        "id": "4fd4265d",
        "outputId": "bd7e019a-5237-4ed2-8d08-c4da75b8f6f7",
        "colab": {
          "base_uri": "https://localhost:8080/",
          "height": 36
        }
      },
      "outputs": [
        {
          "output_type": "execute_result",
          "data": {
            "text/plain": [
              "'0b10100'"
            ],
            "application/vnd.google.colaboratory.intrinsic+json": {
              "type": "string"
            }
          },
          "metadata": {},
          "execution_count": 1
        }
      ],
      "source": [
        "bin(20)"
      ]
    },
    {
      "cell_type": "code",
      "execution_count": null,
      "id": "129c7128",
      "metadata": {
        "id": "129c7128",
        "outputId": "040333b8-0931-4f8a-a14c-091f393c3b00",
        "colab": {
          "base_uri": "https://localhost:8080/"
        }
      },
      "outputs": [
        {
          "output_type": "stream",
          "name": "stdout",
          "text": [
            "11001\n"
          ]
        }
      ],
      "source": [
        "#To convert Numbers into Binary :\n",
        "\n",
        "#bin()\n",
        "\n",
        "a = 25\n",
        "bin(a)\n",
        "\n",
        "print(bin(a)[2:])\n",
        "\n"
      ]
    },
    {
      "cell_type": "code",
      "execution_count": null,
      "id": "63ffe5e7",
      "metadata": {
        "id": "63ffe5e7",
        "outputId": "1de6ed59-2a1d-462e-c109-c6b9bf421358"
      },
      "outputs": [
        {
          "name": "stdout",
          "output_type": "stream",
          "text": [
            "1010010\n"
          ]
        }
      ],
      "source": [
        "b = 82\n",
        "bin(b)[2:0]\n",
        "print(bin(b)[2:])"
      ]
    },
    {
      "cell_type": "code",
      "execution_count": null,
      "id": "296c3277",
      "metadata": {
        "collapsed": true,
        "id": "296c3277",
        "outputId": "37a8a237-26f5-48a4-cea8-010595615aad"
      },
      "outputs": [
        {
          "name": "stdout",
          "output_type": "stream",
          "text": [
            "\n",
            "Binary of 82 is None\n"
          ]
        }
      ],
      "source": [
        "print(f\"Binary of {b} is {print(bin(b)[2:0])}\")"
      ]
    },
    {
      "cell_type": "code",
      "execution_count": null,
      "id": "00d3a130",
      "metadata": {
        "id": "00d3a130"
      },
      "outputs": [],
      "source": [
        "#How to convert Binary into Decimals\n",
        "\n",
        "a = int('1010010' ,2)\n",
        "print(a)"
      ]
    },
    {
      "cell_type": "code",
      "execution_count": null,
      "id": "98e865ba",
      "metadata": {
        "id": "98e865ba",
        "outputId": "c8944022-4153-4b94-fa73-ba1b4ccc6a58",
        "colab": {
          "base_uri": "https://localhost:8080/"
        }
      },
      "outputs": [
        {
          "output_type": "stream",
          "name": "stdout",
          "text": [
            "71\n"
          ]
        }
      ],
      "source": [
        "# convert 1 0 0 0 1 1 1 into decimal\n",
        "\n",
        "b =int('1000111',2)\n",
        "print(b)"
      ]
    },
    {
      "cell_type": "code",
      "source": [
        "#Math Module:"
      ],
      "metadata": {
        "id": "4pM7aelB9loU"
      },
      "id": "4pM7aelB9loU",
      "execution_count": null,
      "outputs": []
    },
    {
      "cell_type": "markdown",
      "source": [
        "Math Module:"
      ],
      "metadata": {
        "id": "aioxR09M9rDD"
      },
      "id": "aioxR09M9rDD"
    },
    {
      "cell_type": "code",
      "source": [
        "import math"
      ],
      "metadata": {
        "id": "9Pon_ufR9lz6"
      },
      "id": "9Pon_ufR9lz6",
      "execution_count": null,
      "outputs": []
    },
    {
      "cell_type": "code",
      "source": [
        "math.ceil(3.1)"
      ],
      "metadata": {
        "id": "Zre26e0b9l3G"
      },
      "id": "Zre26e0b9l3G",
      "execution_count": null,
      "outputs": []
    },
    {
      "cell_type": "code",
      "source": [
        "math.floor(2.9)"
      ],
      "metadata": {
        "id": "s1916Ac_9l6e"
      },
      "id": "s1916Ac_9l6e",
      "execution_count": null,
      "outputs": []
    },
    {
      "cell_type": "code",
      "source": [
        "math.sqrt(4)"
      ],
      "metadata": {
        "id": "pmUs9S1U9l93",
        "colab": {
          "base_uri": "https://localhost:8080/"
        },
        "outputId": "aede4745-1030-4be7-b74a-99c749e2d57d"
      },
      "id": "pmUs9S1U9l93",
      "execution_count": null,
      "outputs": [
        {
          "output_type": "execute_result",
          "data": {
            "text/plain": [
              "2.0"
            ]
          },
          "metadata": {},
          "execution_count": 8
        }
      ]
    },
    {
      "cell_type": "code",
      "source": [
        "math.pow(2,1/2)"
      ],
      "metadata": {
        "id": "fgXB2lMZ9mAs",
        "colab": {
          "base_uri": "https://localhost:8080/"
        },
        "outputId": "3d49ef71-d9d2-43db-be3e-2ab267ae0480"
      },
      "id": "fgXB2lMZ9mAs",
      "execution_count": null,
      "outputs": [
        {
          "output_type": "execute_result",
          "data": {
            "text/plain": [
              "1.4142135623730951"
            ]
          },
          "metadata": {},
          "execution_count": 9
        }
      ]
    },
    {
      "cell_type": "code",
      "source": [
        "print(math.pow(2,4))\n",
        "print(math.ceil(2.1))"
      ],
      "metadata": {
        "id": "kAzLRv5i9mD7",
        "colab": {
          "base_uri": "https://localhost:8080/"
        },
        "outputId": "8ff4bcb0-8d5e-44c5-bcef-e0721aae8966"
      },
      "id": "kAzLRv5i9mD7",
      "execution_count": null,
      "outputs": [
        {
          "output_type": "stream",
          "name": "stdout",
          "text": [
            "16.0\n",
            "3\n"
          ]
        }
      ]
    },
    {
      "cell_type": "code",
      "source": [
        "math.pow(2,-2)"
      ],
      "metadata": {
        "id": "OqM9Upt69mG5"
      },
      "id": "OqM9Upt69mG5",
      "execution_count": null,
      "outputs": []
    },
    {
      "cell_type": "code",
      "source": [
        "math.pi"
      ],
      "metadata": {
        "id": "X6-PsxCI9mK5",
        "colab": {
          "base_uri": "https://localhost:8080/"
        },
        "outputId": "308bcb46-d63e-43e2-bce8-3046e30a7f93"
      },
      "id": "X6-PsxCI9mK5",
      "execution_count": null,
      "outputs": [
        {
          "output_type": "execute_result",
          "data": {
            "text/plain": [
              "3.141592653589793"
            ]
          },
          "metadata": {},
          "execution_count": 16
        }
      ]
    },
    {
      "cell_type": "code",
      "source": [
        "math.e"
      ],
      "metadata": {
        "id": "BdDb_bxS9mNu",
        "colab": {
          "base_uri": "https://localhost:8080/"
        },
        "outputId": "0254a804-96dc-4870-b5ce-37762e6e5db9"
      },
      "id": "BdDb_bxS9mNu",
      "execution_count": null,
      "outputs": [
        {
          "output_type": "execute_result",
          "data": {
            "text/plain": [
              "2.718281828459045"
            ]
          },
          "metadata": {},
          "execution_count": 17
        }
      ]
    },
    {
      "cell_type": "code",
      "source": [
        "math.tau"
      ],
      "metadata": {
        "id": "M5boAkHs9mQ7",
        "colab": {
          "base_uri": "https://localhost:8080/"
        },
        "outputId": "e83b7509-fcd6-4aa5-d084-3b1e795d5553"
      },
      "id": "M5boAkHs9mQ7",
      "execution_count": null,
      "outputs": [
        {
          "output_type": "execute_result",
          "data": {
            "text/plain": [
              "6.283185307179586"
            ]
          },
          "metadata": {},
          "execution_count": 18
        }
      ]
    },
    {
      "cell_type": "code",
      "source": [
        "math.trunc(100.1)"
      ],
      "metadata": {
        "id": "s3f5EyGX9mT6",
        "colab": {
          "base_uri": "https://localhost:8080/"
        },
        "outputId": "d6ca0e69-1321-4510-a59d-3fa259543094"
      },
      "id": "s3f5EyGX9mT6",
      "execution_count": null,
      "outputs": [
        {
          "output_type": "execute_result",
          "data": {
            "text/plain": [
              "100"
            ]
          },
          "metadata": {},
          "execution_count": 21
        }
      ]
    },
    {
      "cell_type": "code",
      "source": [
        "math.fabs(-7)"
      ],
      "metadata": {
        "id": "_keBR24X9mX6",
        "colab": {
          "base_uri": "https://localhost:8080/"
        },
        "outputId": "06f34ee0-135f-4caf-f71c-0ec614ad6efc"
      },
      "id": "_keBR24X9mX6",
      "execution_count": null,
      "outputs": [
        {
          "output_type": "execute_result",
          "data": {
            "text/plain": [
              "7.0"
            ]
          },
          "metadata": {},
          "execution_count": 22
        }
      ]
    },
    {
      "cell_type": "code",
      "source": [
        "math.exp(2)    #e^x"
      ],
      "metadata": {
        "colab": {
          "base_uri": "https://localhost:8080/"
        },
        "id": "unmfpuQAYRq8",
        "outputId": "08ac947d-b3be-48c4-cabc-9936634f5025"
      },
      "id": "unmfpuQAYRq8",
      "execution_count": null,
      "outputs": [
        {
          "output_type": "execute_result",
          "data": {
            "text/plain": [
              "7.38905609893065"
            ]
          },
          "metadata": {},
          "execution_count": 23
        }
      ]
    },
    {
      "cell_type": "code",
      "source": [
        "#math.log(x, base)\n",
        "\n",
        "math.log(8,2)"
      ],
      "metadata": {
        "colab": {
          "base_uri": "https://localhost:8080/"
        },
        "id": "-O2NmEymYRvV",
        "outputId": "443d8231-9abd-4e47-b5e1-80be8231804d"
      },
      "id": "-O2NmEymYRvV",
      "execution_count": null,
      "outputs": [
        {
          "output_type": "execute_result",
          "data": {
            "text/plain": [
              "3.0"
            ]
          },
          "metadata": {},
          "execution_count": 24
        }
      ]
    },
    {
      "cell_type": "code",
      "source": [
        "math.factorial(5)    #5*4*3*2*1"
      ],
      "metadata": {
        "colab": {
          "base_uri": "https://localhost:8080/"
        },
        "id": "HzFl5RMNYR0e",
        "outputId": "51964fd9-5c56-4fa1-8e59-621b8ba58e54"
      },
      "id": "HzFl5RMNYR0e",
      "execution_count": null,
      "outputs": [
        {
          "output_type": "execute_result",
          "data": {
            "text/plain": [
              "120"
            ]
          },
          "metadata": {},
          "execution_count": 25
        }
      ]
    },
    {
      "cell_type": "code",
      "source": [
        "math.gcd(40,80)   #greatest common divisor"
      ],
      "metadata": {
        "colab": {
          "base_uri": "https://localhost:8080/"
        },
        "id": "Uj39v3iuYR5G",
        "outputId": "891a976d-cf04-4018-9d8b-cfa0b94bf61e"
      },
      "id": "Uj39v3iuYR5G",
      "execution_count": null,
      "outputs": [
        {
          "output_type": "execute_result",
          "data": {
            "text/plain": [
              "40"
            ]
          },
          "metadata": {},
          "execution_count": 27
        }
      ]
    },
    {
      "cell_type": "code",
      "source": [],
      "metadata": {
        "id": "4qzzx5WrYR9O"
      },
      "id": "4qzzx5WrYR9O",
      "execution_count": null,
      "outputs": []
    },
    {
      "cell_type": "code",
      "source": [],
      "metadata": {
        "id": "XC2GxidHYSBP"
      },
      "id": "XC2GxidHYSBP",
      "execution_count": null,
      "outputs": []
    },
    {
      "cell_type": "code",
      "source": [],
      "metadata": {
        "id": "iqT1er_MYSE3"
      },
      "id": "iqT1er_MYSE3",
      "execution_count": null,
      "outputs": []
    },
    {
      "cell_type": "code",
      "source": [],
      "metadata": {
        "id": "s0OREf0aYSIL"
      },
      "id": "s0OREf0aYSIL",
      "execution_count": null,
      "outputs": []
    },
    {
      "cell_type": "code",
      "source": [],
      "metadata": {
        "id": "oj8e_0gGYSLh"
      },
      "id": "oj8e_0gGYSLh",
      "execution_count": null,
      "outputs": []
    },
    {
      "cell_type": "markdown",
      "id": "8204e1fc",
      "metadata": {
        "id": "8204e1fc"
      },
      "source": [
        "# Python Conditions and If statements\n",
        "\n",
        "#The if...else statements in Python are used for decision-making.\n",
        "#They allow your program to execute certain blocks of code based on certain conditions.\n",
        "#Let's explore the different forms of if...else statements with detailed explanations and examples."
      ]
    },
    {
      "cell_type": "code",
      "execution_count": null,
      "id": "d8313472",
      "metadata": {
        "id": "d8313472"
      },
      "outputs": [],
      "source": [
        "#Basic if Statement\n",
        "#The basic if statement executes a block of code if a specified condition is true.\n",
        "\n",
        "Tomato = 15\n",
        "if Tomato <=10:\n",
        "    print(\"Bring 1kg of tomatoes\")\n",
        "\n",
        "#Indentation\n",
        "#Python relies on indentation (whitespace at the beginning of a line) to define scope in the code.\n",
        "#Other programming languages often use curly-brackets for this purpose.{}\n",
        "\n"
      ]
    },
    {
      "cell_type": "code",
      "source": [
        "Tomato = 15\n",
        "if Tomato <=20:\n",
        "    print(\"Bring 1kg of tomatoes\")\n",
        "\n",
        "\n"
      ],
      "metadata": {
        "colab": {
          "base_uri": "https://localhost:8080/"
        },
        "id": "DrZyOTltbTET",
        "outputId": "0fe54081-d99f-4c34-f10c-d6252ffe36f0"
      },
      "id": "DrZyOTltbTET",
      "execution_count": null,
      "outputs": [
        {
          "output_type": "stream",
          "name": "stdout",
          "text": [
            "Bring 1kg of tomatoes\n"
          ]
        }
      ]
    },
    {
      "cell_type": "markdown",
      "id": "2eab64cd",
      "metadata": {
        "id": "2eab64cd"
      },
      "source": [
        "# Key Points About Indentation in Python\n",
        "1. Consistency:\n",
        "Indentation must be consistent within a block of code.\n",
        "The standard practice is to use 4 spaces per indentation level.\n",
        "Mixing tabs and spaces or varying the number of spaces can lead to syntax errors.\n",
        "\n",
        "2.Code Blocks:\n",
        "Indentation is used to define the body of loops (for, while), conditional statements (if, elif, else),\n",
        "functions (def), classes (class), and other structures.\n",
        "\n",
        "3.Syntax Requirements:\n",
        "Python requires a colon (:) at the end of the line introducing a block of code (e.g., after if statements, for loops, function definitions).\n",
        "The subsequent lines that are indented form the block of code that belongs to the construct."
      ]
    },
    {
      "cell_type": "code",
      "execution_count": null,
      "id": "d0dcadd8",
      "metadata": {
        "id": "d0dcadd8"
      },
      "outputs": [],
      "source": [
        "a = 33\n",
        "b = 200\n",
        "if b > a:      # : declaration\n",
        "    print(\"b is greater than a\")\n"
      ]
    },
    {
      "cell_type": "code",
      "source": [
        "x=9\n",
        "if x<10:\n",
        "  print(\"Data Science\")"
      ],
      "metadata": {
        "id": "LSXbzdQ5qTz4"
      },
      "id": "LSXbzdQ5qTz4",
      "execution_count": null,
      "outputs": []
    },
    {
      "cell_type": "code",
      "source": [
        "\n",
        "if True:\n",
        "  print(\"Data Science\")"
      ],
      "metadata": {
        "id": "Vp39agWkqULo"
      },
      "id": "Vp39agWkqULo",
      "execution_count": null,
      "outputs": []
    },
    {
      "cell_type": "code",
      "source": [
        "if 0:\n",
        "  print(\"Data Science\")"
      ],
      "metadata": {
        "id": "_xGCFqM6qUO3"
      },
      "id": "_xGCFqM6qUO3",
      "execution_count": null,
      "outputs": []
    },
    {
      "cell_type": "code",
      "source": [
        "if 1:\n",
        "  print(\"Data Science\")"
      ],
      "metadata": {
        "id": "SQtY8NHWtjKu"
      },
      "id": "SQtY8NHWtjKu",
      "execution_count": null,
      "outputs": []
    },
    {
      "cell_type": "code",
      "source": [
        "x=9\n",
        "if x%2==1:\n",
        "  print(\"Data Science\")"
      ],
      "metadata": {
        "id": "rCvtcg5OtjVD",
        "colab": {
          "base_uri": "https://localhost:8080/"
        },
        "outputId": "3df7a7c8-81d4-4235-a30f-a94a656ed0c7"
      },
      "id": "rCvtcg5OtjVD",
      "execution_count": null,
      "outputs": [
        {
          "output_type": "stream",
          "name": "stdout",
          "text": [
            "Data Science\n"
          ]
        }
      ]
    },
    {
      "cell_type": "code",
      "source": [
        "x=13\n",
        "if x//2==6:\n",
        "  print(\"Data Science\")"
      ],
      "metadata": {
        "id": "RYCZFwxdtjYX"
      },
      "id": "RYCZFwxdtjYX",
      "execution_count": null,
      "outputs": []
    },
    {
      "cell_type": "code",
      "source": [
        "x=int(input())\n",
        "if (not(x%2==0) and (x<10)):\n",
        "  print(\"Data Science\")\n"
      ],
      "metadata": {
        "id": "zKpg4BUNt26G",
        "colab": {
          "base_uri": "https://localhost:8080/"
        },
        "outputId": "9c0e9ca7-c3f3-4bc3-a0dd-35d9e3c2c9d7"
      },
      "id": "zKpg4BUNt26G",
      "execution_count": null,
      "outputs": [
        {
          "name": "stdout",
          "output_type": "stream",
          "text": [
            "50\n"
          ]
        }
      ]
    },
    {
      "cell_type": "code",
      "source": [
        "y=int(input())\n",
        "if not(y<10):\n",
        "  print(\"Y is not less than 10\")"
      ],
      "metadata": {
        "id": "9VwcwdPvt29H",
        "colab": {
          "base_uri": "https://localhost:8080/"
        },
        "outputId": "ca214b36-939e-48ce-af34-0d88dd67a8cb"
      },
      "id": "9VwcwdPvt29H",
      "execution_count": null,
      "outputs": [
        {
          "output_type": "stream",
          "name": "stdout",
          "text": [
            "12\n",
            "Y is not less than 10\n"
          ]
        }
      ]
    },
    {
      "cell_type": "code",
      "source": [],
      "metadata": {
        "id": "ZNHMoHBJt3Aa"
      },
      "id": "ZNHMoHBJt3Aa",
      "execution_count": null,
      "outputs": []
    },
    {
      "cell_type": "code",
      "source": [],
      "metadata": {
        "id": "EengtaYWt3Dc"
      },
      "id": "EengtaYWt3Dc",
      "execution_count": null,
      "outputs": []
    },
    {
      "cell_type": "code",
      "source": [],
      "metadata": {
        "id": "J9oxjiVGt3G4"
      },
      "id": "J9oxjiVGt3G4",
      "execution_count": null,
      "outputs": []
    },
    {
      "cell_type": "code",
      "source": [],
      "metadata": {
        "id": "UhuzUeB3tjbr"
      },
      "id": "UhuzUeB3tjbr",
      "execution_count": null,
      "outputs": []
    },
    {
      "cell_type": "markdown",
      "id": "d7ad42b1",
      "metadata": {
        "id": "d7ad42b1"
      },
      "source": [
        "# if...else Statement\n",
        "The if...else statement provides an alternative block of code to execute if the condition is false."
      ]
    },
    {
      "cell_type": "code",
      "execution_count": null,
      "id": "7a6ddf72",
      "metadata": {
        "id": "7a6ddf72"
      },
      "outputs": [],
      "source": [
        "x = 3\n",
        "if x >5:\n",
        "  print(\"X is gretaer than 5\")\n",
        "else:\n",
        "  print(\"X is maller than 5\")\n",
        "\n"
      ]
    },
    {
      "cell_type": "code",
      "source": [
        "{\n",
        "   {\n",
        "\n",
        "   }\n",
        "\n",
        "}"
      ],
      "metadata": {
        "id": "TyKswh8u1YHZ"
      },
      "id": "TyKswh8u1YHZ",
      "execution_count": null,
      "outputs": []
    },
    {
      "cell_type": "code",
      "source": [
        "Tomato =int(input(\"Tomatoes Cost Per Kg:\\n\"))\n",
        "if Tomato <40:\n",
        "    print(\"Bring 5 Kg of tomatoes\")\n",
        "elif Tomato <= 50:\n",
        "    print(\"Bring 2 kgs of tomatoes \")\n",
        "\n",
        "else:\n",
        "    print(\"Bring 1/2 Kg of tomatoes\")"
      ],
      "metadata": {
        "id": "9B_01uS7qQXB",
        "colab": {
          "base_uri": "https://localhost:8080/"
        },
        "outputId": "cbaaf5c1-2c91-4bc7-8ef3-4ff133a8bcfb"
      },
      "id": "9B_01uS7qQXB",
      "execution_count": null,
      "outputs": [
        {
          "output_type": "stream",
          "name": "stdout",
          "text": [
            "Tomatoes Cost Per Kg:\n",
            "60\n",
            "Bring 1/2 Kg of tomatoes\n"
          ]
        }
      ]
    },
    {
      "cell_type": "code",
      "source": [
        "x = \" Data Science\"\n",
        "if \"dxt\" not in x:\n",
        "  print(\"Data\")\n",
        "else:\n",
        "  print(\"Science\")"
      ],
      "metadata": {
        "id": "kgUeELN76B9p",
        "colab": {
          "base_uri": "https://localhost:8080/"
        },
        "outputId": "beb46634-a232-42b8-f79e-c6fd485aaeae"
      },
      "id": "kgUeELN76B9p",
      "execution_count": null,
      "outputs": [
        {
          "output_type": "stream",
          "name": "stdout",
          "text": [
            "Data\n"
          ]
        }
      ]
    },
    {
      "cell_type": "code",
      "source": [
        "age=int(input())\n",
        "has_permission=True\n",
        "if age>=18:\n",
        "  if has_permission:\n",
        "    print(\"Allowed\")\n",
        "  else:\n",
        "    print(\"Not Allowed\")\n",
        "else:\n",
        "  if age>=13:\n",
        "    print(\"Allowed with Guardian\")\n",
        "  else:\n",
        "    print(\"You are not allowed\")"
      ],
      "metadata": {
        "id": "CxK0l2GL6CBA",
        "colab": {
          "base_uri": "https://localhost:8080/"
        },
        "outputId": "9b77e3f1-9df2-42d5-a2a5-301a31be06c3"
      },
      "id": "CxK0l2GL6CBA",
      "execution_count": null,
      "outputs": [
        {
          "output_type": "stream",
          "name": "stdout",
          "text": [
            "15\n",
            "Allowed with Guardian\n"
          ]
        }
      ]
    },
    {
      "cell_type": "code",
      "source": [
        "marks=int(input())\n",
        "if marks<35:\n",
        "  print(\"Fail\")\n",
        "elif marks>=35 and marks<50:\n",
        "  print(\"Grade C\")\n",
        "elif marks>=50 and marks<75:\n",
        "  print(\"Grade B\")\n",
        "elif marks>=75 and marks<90:\n",
        "  print(\"Grade A\")\n",
        "else:\n",
        "  print(\"Grade A+\")"
      ],
      "metadata": {
        "id": "cooIYivW6CFT",
        "colab": {
          "base_uri": "https://localhost:8080/"
        },
        "outputId": "7d2fb53f-08d7-44d1-d232-729e2dae93c2"
      },
      "id": "cooIYivW6CFT",
      "execution_count": null,
      "outputs": [
        {
          "output_type": "stream",
          "name": "stdout",
          "text": [
            "65\n",
            "Grade B\n"
          ]
        }
      ]
    },
    {
      "cell_type": "code",
      "source": [],
      "metadata": {
        "id": "J0A6yeR66Cd3"
      },
      "id": "J0A6yeR66Cd3",
      "execution_count": null,
      "outputs": []
    },
    {
      "cell_type": "markdown",
      "id": "18f79beb",
      "metadata": {
        "id": "18f79beb"
      },
      "source": [
        "# Elif\n",
        "The elif keyword is Python's way of saying \"if the previous conditions were not true, then try this condition\"."
      ]
    },
    {
      "cell_type": "code",
      "source": [
        "Tomato =int(input(\"Tomatoes Cost Per Kg:\\n\"))\n",
        "if Tomato <30:\n",
        "    print(\"Bring 2 Kg of tomatoes\")\n",
        "elif Tomato <40:\n",
        "    print(\"Bring 1 kgs of tomatoes\")\n",
        "else:\n",
        "    print(\"1/2 Kg of tomatoes\")"
      ],
      "metadata": {
        "id": "pZOn0uHgrkb0"
      },
      "id": "pZOn0uHgrkb0",
      "execution_count": null,
      "outputs": []
    },
    {
      "cell_type": "code",
      "execution_count": null,
      "id": "14c550a4",
      "metadata": {
        "id": "14c550a4"
      },
      "outputs": [],
      "source": [
        "a = 33\n",
        "b = 33\n",
        "if b > a:\n",
        "    print(\"b is greater than a\")\n",
        "elif a < b:\n",
        "    print(\"a is less than b\")\n",
        "else:\n",
        "    print(\"a is equal to b\")"
      ]
    },
    {
      "cell_type": "code",
      "source": [
        "a = int(input(\"Enter a Value For a:\\n\"))\n",
        "b = int(input(\"Enter a value For b:\\n\"))\n",
        "if b > a:\n",
        "    print(\"b is greater than a\")\n",
        "elif a == b:\n",
        "    print(\"a and b are equal\")\n",
        "else:\n",
        "    print(\"a is greater than to b\")"
      ],
      "metadata": {
        "id": "QzHdvHLHAJ9Y"
      },
      "id": "QzHdvHLHAJ9Y",
      "execution_count": null,
      "outputs": []
    },
    {
      "cell_type": "markdown",
      "id": "77f69b7c",
      "metadata": {
        "id": "77f69b7c"
      },
      "source": [
        "\n",
        "4# if...elif...else Statement\n",
        "The if...elif...else statement allows multiple conditions to be checked sequentially."
      ]
    },
    {
      "cell_type": "code",
      "execution_count": null,
      "id": "54fc6e3c",
      "metadata": {
        "id": "54fc6e3c"
      },
      "outputs": [],
      "source": [
        "x = 7\n",
        "if x > 10:\n",
        "    print(\"x is greater than 10\")\n",
        "elif x > 5:\n",
        "    print(\"x is greater than 5\")\n",
        "else:\n",
        "    print(\"x is 5 or less\")\n"
      ]
    },
    {
      "cell_type": "code",
      "source": [
        "Name =input()\n",
        "\n",
        "if Name ==\"Rahul\":\n",
        "  print(\"Welcome Rahul\")\n",
        "elif Name == \"Sanju\":\n",
        "  print(\"Welcome Sanju\")\n",
        "else:\n",
        "  print(\"What's your name ?\")\n"
      ],
      "metadata": {
        "id": "46NWjh3Wd9Cu"
      },
      "id": "46NWjh3Wd9Cu",
      "execution_count": null,
      "outputs": []
    },
    {
      "cell_type": "markdown",
      "id": "1b7e93fb",
      "metadata": {
        "id": "1b7e93fb"
      },
      "source": [
        "# Nested if Statements\n",
        "if statements can be nested inside other if statements to check multiple conditions."
      ]
    },
    {
      "cell_type": "code",
      "execution_count": null,
      "id": "49d41370",
      "metadata": {
        "id": "49d41370",
        "outputId": "6d858411-0072-437b-f8cb-dc71acdd2b6e",
        "colab": {
          "base_uri": "https://localhost:8080/"
        }
      },
      "outputs": [
        {
          "output_type": "stream",
          "name": "stdout",
          "text": [
            "Enter a value for x:\n",
            "30\n",
            "x is greater than 10\n",
            "x is also greater than 20\n"
          ]
        }
      ],
      "source": [
        "x = int(input(\"Enter a value for x:\\n\"))     #15\n",
        "if x > 10:\n",
        "    print(\"x is greater than 10\")\n",
        "    if x > 20:\n",
        "        print(\"x is also greater than 20\")\n",
        "    else:\n",
        "        print(\"x is not greater than 20\")\n",
        "else:\n",
        "    print(\"x is 10 or less\")\n"
      ]
    },
    {
      "cell_type": "code",
      "execution_count": null,
      "id": "8446b8bc",
      "metadata": {
        "id": "8446b8bc",
        "colab": {
          "base_uri": "https://localhost:8080/"
        },
        "outputId": "d99fe001-dfa6-4775-db01-eb24065ae040"
      },
      "outputs": [
        {
          "output_type": "stream",
          "name": "stdout",
          "text": [
            "Enter a value for x:\n",
            "27\n",
            "x is greater than 20\n"
          ]
        }
      ],
      "source": [
        "#Example with Multiple Conditions\n",
        "#Let's see a more complex example involving multiple conditions and\n",
        "#different blocks of code being executed based on the conditions.\n",
        "\n",
        "x =int(input(\"Enter a value for x:\\n\"))   #\\n = new line\n",
        "if x < 0:\n",
        "    print(\"x is negative\")\n",
        "elif x == 0:\n",
        "    print(\"x is zero\")\n",
        "elif 0 < x <= 10:     # 0 to 10\n",
        "    print(\"x is between 0 and 10\")\n",
        "elif 10 < x <= 20:     #10 to 20\n",
        "    print(\"x is between 10 and 20\")\n",
        "else:\n",
        "    print(\"x is greater than 20\")\n"
      ]
    },
    {
      "cell_type": "code",
      "execution_count": null,
      "id": "e6a4a971",
      "metadata": {
        "id": "e6a4a971",
        "colab": {
          "base_uri": "https://localhost:8080/"
        },
        "outputId": "795e4720-f3ae-4ab0-ac16-b436c06f75e8"
      },
      "outputs": [
        {
          "output_type": "stream",
          "name": "stdout",
          "text": [
            "Both Conditions are true\n"
          ]
        }
      ],
      "source": [
        "#Conditional Statements by using AND, OR Operaters:\n",
        "\n",
        "#E.g:Test if a is greater than b, AND if c is greater than a:\n",
        "\n",
        "a=10\n",
        "b=7\n",
        "c=12\n",
        "\n",
        "if a>b or c>a:\n",
        "    print(\"Both Conditions are true\")"
      ]
    },
    {
      "cell_type": "markdown",
      "id": "726c8cfa",
      "metadata": {
        "id": "726c8cfa"
      },
      "source": [
        "# The 'pass' Statement\n",
        "if statements cannot be empty, but if you for some reason have an if statement with no content,\n",
        "put in the pass statement to avoid getting an error."
      ]
    },
    {
      "cell_type": "code",
      "execution_count": null,
      "id": "0d804499",
      "metadata": {
        "id": "0d804499"
      },
      "outputs": [],
      "source": [
        "a = 33\n",
        "b = 200\n",
        "\n",
        "if b > a:\n",
        "    pass"
      ]
    },
    {
      "cell_type": "code",
      "execution_count": null,
      "id": "2ad3024a",
      "metadata": {
        "id": "2ad3024a"
      },
      "outputs": [],
      "source": [
        "#Exercise:\n",
        "#Print \"I understood Conditional statements\" if a is greater than b."
      ]
    },
    {
      "cell_type": "markdown",
      "id": "6a7b912b",
      "metadata": {
        "id": "6a7b912b"
      },
      "source": [
        "# Python Loops:\n",
        "#In Python, loops are used to repeat a block of code multiple times.\n",
        "#There are two main types of loops in Python: for loops and while loops."
      ]
    },
    {
      "cell_type": "markdown",
      "id": "f0d0a4cf",
      "metadata": {
        "id": "f0d0a4cf"
      },
      "source": [
        "# 1. for Loops\n",
        "A for loop is used to iterate over a sequence (such as a list, tuple, dictionary, set, or string)\n",
        "and execute a block of code for each item in the sequence."
      ]
    },
    {
      "cell_type": "code",
      "source": [
        "purpose: to naviagate through a sequence"
      ],
      "metadata": {
        "id": "_-hzxJKPo1kc"
      },
      "id": "_-hzxJKPo1kc",
      "execution_count": null,
      "outputs": []
    },
    {
      "cell_type": "code",
      "execution_count": null,
      "id": "b4713b66",
      "metadata": {
        "id": "b4713b66",
        "colab": {
          "base_uri": "https://localhost:8080/"
        },
        "outputId": "11b74fc1-9adb-4bd6-d3e1-42540fa9ba79"
      },
      "outputs": [
        {
          "output_type": "stream",
          "name": "stdout",
          "text": [
            "1a2b345"
          ]
        }
      ],
      "source": [
        "numbers = [1,'a', 2,'b', 3, 4, 5]\n",
        "\n",
        "for num in numbers:\n",
        "    print(num, end='')\n",
        "#print(numbers)"
      ]
    },
    {
      "cell_type": "code",
      "source": [
        "\"datas\""
      ],
      "metadata": {
        "id": "obNK1yD__E0H",
        "colab": {
          "base_uri": "https://localhost:8080/",
          "height": 36
        },
        "outputId": "17edd2fa-bd03-43d7-a8df-7d5951339705"
      },
      "id": "obNK1yD__E0H",
      "execution_count": null,
      "outputs": [
        {
          "output_type": "execute_result",
          "data": {
            "text/plain": [
              "'datas'"
            ],
            "application/vnd.google.colaboratory.intrinsic+json": {
              "type": "string"
            }
          },
          "metadata": {},
          "execution_count": 4
        }
      ]
    },
    {
      "cell_type": "code",
      "source": [
        "for i in \"datas\":\n",
        "  print(i+\"*\", end=\",\")"
      ],
      "metadata": {
        "id": "eaRp94kM9Kyb"
      },
      "id": "eaRp94kM9Kyb",
      "execution_count": null,
      "outputs": []
    },
    {
      "cell_type": "code",
      "source": [
        "for i in \"20\":\n",
        "  print(i)"
      ],
      "metadata": {
        "id": "vFvC7oA-9K-G",
        "colab": {
          "base_uri": "https://localhost:8080/"
        },
        "outputId": "f08c4b17-fc56-4b9f-cc08-bd90e97ab106"
      },
      "id": "vFvC7oA-9K-G",
      "execution_count": null,
      "outputs": [
        {
          "output_type": "stream",
          "name": "stdout",
          "text": [
            "2\n",
            "0\n"
          ]
        }
      ]
    },
    {
      "cell_type": "code",
      "source": [
        "for i in [1,2,3,4,5]:\n",
        "  print(i*10,end =',')  #\\n- new line"
      ],
      "metadata": {
        "id": "QCGevxMF9LBw",
        "colab": {
          "base_uri": "https://localhost:8080/"
        },
        "outputId": "2ddfc74b-b7e3-4b08-a96e-a240f6db3a90"
      },
      "id": "QCGevxMF9LBw",
      "execution_count": null,
      "outputs": [
        {
          "output_type": "stream",
          "name": "stdout",
          "text": [
            "10,20,30,40,50,"
          ]
        }
      ]
    },
    {
      "cell_type": "code",
      "source": [
        "for i in [1,2,3,4,5]:\n",
        "  print(i+10,end ='\\t')   #t - backslash tab"
      ],
      "metadata": {
        "id": "0sg1WT4k9LFY",
        "colab": {
          "base_uri": "https://localhost:8080/"
        },
        "outputId": "94089b3e-a209-4192-e2e9-4c7afb2613c1"
      },
      "id": "0sg1WT4k9LFY",
      "execution_count": null,
      "outputs": [
        {
          "output_type": "stream",
          "name": "stdout",
          "text": [
            "11\t12\t13\t14\t15\t"
          ]
        }
      ]
    },
    {
      "cell_type": "code",
      "source": [
        "for i in [1,2,3,4,5]:\n",
        "  print(i+10,end =',')"
      ],
      "metadata": {
        "id": "9NZg8sEw9LI3"
      },
      "id": "9NZg8sEw9LI3",
      "execution_count": null,
      "outputs": []
    },
    {
      "cell_type": "code",
      "source": [
        "for i in [5,4,3,2,1]:\n",
        "  print(i*\"*\")   #Pattern Programming,"
      ],
      "metadata": {
        "id": "yDQSC-299LMF"
      },
      "id": "yDQSC-299LMF",
      "execution_count": null,
      "outputs": []
    },
    {
      "cell_type": "code",
      "source": [
        "n = 5  # Number of rows for the upper half\n",
        "\n",
        "# Upper part of the diamond\n",
        "for i in range(1, n + 1):\n",
        "    print((\"*\" * (2 * i - 1)).center(2 * n - 1))\n",
        "\n",
        "# Lower part of the diamond\n",
        "for j in range(n - 1, 0, -1):  #range(4,0,-1) --> 4,3,2,1\n",
        "    print((\"*\" * (2 * j - 1)).center(2 * n - 1))\n"
      ],
      "metadata": {
        "id": "1Mc7kvzAuJVl"
      },
      "id": "1Mc7kvzAuJVl",
      "execution_count": null,
      "outputs": []
    },
    {
      "cell_type": "code",
      "source": [
        "n = 5  # Number of rows for the upper half\n",
        "\n",
        "# Upper part of the diamond\n",
        "for i in range(1,6):  #1,2,3,4,5\n",
        "    print((\"*\" *(2 * i - 1)).center(2 * n - 1))\n",
        "\n"
      ],
      "metadata": {
        "id": "kWlFxcEqXCCk"
      },
      "id": "kWlFxcEqXCCk",
      "execution_count": null,
      "outputs": []
    },
    {
      "cell_type": "code",
      "source": [
        "data\n",
        "\n",
        "***DATA***"
      ],
      "metadata": {
        "id": "8eetJD6BXlEU"
      },
      "id": "8eetJD6BXlEU",
      "execution_count": null,
      "outputs": []
    },
    {
      "cell_type": "code",
      "source": [
        "for i in [1,2,3,4,5]:\n",
        "  print(i*\"3\")"
      ],
      "metadata": {
        "id": "vGO0O7k2qp6-"
      },
      "id": "vGO0O7k2qp6-",
      "execution_count": null,
      "outputs": []
    },
    {
      "cell_type": "code",
      "source": [
        "for i in range(1,101):  #0,1,2,3,4,5,6,7,8,9\n",
        "  print(i,end=',')\n"
      ],
      "metadata": {
        "id": "rHcotQKMBFmm"
      },
      "id": "rHcotQKMBFmm",
      "execution_count": null,
      "outputs": []
    },
    {
      "cell_type": "code",
      "source": [
        "for i in range(0,10,3):  #step size\n",
        "  print(i,end=' ')\n"
      ],
      "metadata": {
        "id": "4MXmJ34yBFpy",
        "colab": {
          "base_uri": "https://localhost:8080/"
        },
        "outputId": "4cb1cd9e-079d-4acf-8901-b47ee512fbfc"
      },
      "id": "4MXmJ34yBFpy",
      "execution_count": null,
      "outputs": [
        {
          "output_type": "stream",
          "name": "stdout",
          "text": [
            "0 3 6 9 "
          ]
        }
      ]
    },
    {
      "cell_type": "code",
      "source": [
        "for i in range(10,0,-1):  #step size\n",
        "  print(i,end=',')"
      ],
      "metadata": {
        "id": "Qu5ntxNwBFtM",
        "colab": {
          "base_uri": "https://localhost:8080/"
        },
        "outputId": "1919f392-5958-474a-87f7-275aff68171a"
      },
      "id": "Qu5ntxNwBFtM",
      "execution_count": null,
      "outputs": [
        {
          "output_type": "stream",
          "name": "stdout",
          "text": [
            "10,9,8,7,6,5,4,3,2,1,"
          ]
        }
      ]
    },
    {
      "cell_type": "code",
      "source": [
        "#print even numbers:\n",
        "\n",
        "for i in range(0,10):\n",
        "  print(i,end=',') #0,1,2,3,4,5,.....9\n",
        "  if i%2==0:\n",
        "    print(i,\"is even number\")\n",
        "  else:\n",
        "    print(i,\"is odd number\")"
      ],
      "metadata": {
        "id": "T2qwYpAjBGGw"
      },
      "id": "T2qwYpAjBGGw",
      "execution_count": null,
      "outputs": []
    },
    {
      "cell_type": "code",
      "source": [
        "for i in \"DATA12345\":  #print only DATA\n",
        "  if i.isalpha()==False:\n",
        "    print(i,end='')\n"
      ],
      "metadata": {
        "id": "8l6lBUMNqp-S",
        "colab": {
          "base_uri": "https://localhost:8080/"
        },
        "outputId": "1ee4984a-5369-4df3-a5fd-dd0562b6722d"
      },
      "id": "8l6lBUMNqp-S",
      "execution_count": null,
      "outputs": [
        {
          "output_type": "stream",
          "name": "stdout",
          "text": [
            "12345"
          ]
        }
      ]
    },
    {
      "cell_type": "code",
      "source": [
        "for i in \"DATA12345\":\n",
        "  if i.isalpha():\n",
        "    print(i,end=',')"
      ],
      "metadata": {
        "id": "bmp9eX8i8EQW",
        "colab": {
          "base_uri": "https://localhost:8080/"
        },
        "outputId": "30ed0708-9369-4bc5-b596-9824f7d9145c"
      },
      "id": "bmp9eX8i8EQW",
      "execution_count": null,
      "outputs": [
        {
          "output_type": "stream",
          "name": "stdout",
          "text": [
            "D,A,T,A,"
          ]
        }
      ]
    },
    {
      "cell_type": "code",
      "source": [
        "data =\"!@%*$#$,1,2,2,&*@@$#^^#&$&$\"\n",
        "for i in data:\n",
        "  if i.isalnum()==False:\n",
        "    print(i,end=\" \")\n"
      ],
      "metadata": {
        "id": "L_NmMCmL8EVW",
        "colab": {
          "base_uri": "https://localhost:8080/"
        },
        "outputId": "7e7f6306-76d8-4314-d2b5-18e8cdef10ff"
      },
      "id": "L_NmMCmL8EVW",
      "execution_count": null,
      "outputs": [
        {
          "output_type": "stream",
          "name": "stdout",
          "text": [
            "! @ % * $ # $ & * @ @ $ # ^ ^ # & $ & $ "
          ]
        }
      ]
    },
    {
      "cell_type": "code",
      "source": [
        "*\n",
        "**\n",
        "***\n",
        "****\n",
        "*****\n",
        "****\n",
        "***\n",
        "**\n",
        "*"
      ],
      "metadata": {
        "id": "yXEGkI3mb9ub"
      },
      "id": "yXEGkI3mb9ub",
      "execution_count": null,
      "outputs": []
    },
    {
      "cell_type": "code",
      "source": [],
      "metadata": {
        "id": "b0gJTYT8ci_L"
      },
      "id": "b0gJTYT8ci_L",
      "execution_count": null,
      "outputs": []
    },
    {
      "cell_type": "code",
      "source": [
        "data =\"Data Science Machine Learning\""
      ],
      "metadata": {
        "id": "oMWUi_ytMr8t"
      },
      "id": "oMWUi_ytMr8t",
      "execution_count": null,
      "outputs": []
    },
    {
      "cell_type": "code",
      "source": [
        "x=0\n",
        "y=len(data)\n",
        "for i in data:\n",
        "  x = x+1\n",
        "  y=y-1\n",
        "  print(x,y,i)"
      ],
      "metadata": {
        "id": "Xq0OKnRO8EY9"
      },
      "id": "Xq0OKnRO8EY9",
      "execution_count": null,
      "outputs": []
    },
    {
      "cell_type": "code",
      "source": [
        "#COUNT NUMBER OF CAPITAL LETTERS\n",
        "a= \"data engineering\"\n",
        "a.split()"
      ],
      "metadata": {
        "id": "lgssg_Z5_cwS",
        "colab": {
          "base_uri": "https://localhost:8080/"
        },
        "outputId": "3999393d-5a6f-4703-ed5e-f501d65464ee"
      },
      "id": "lgssg_Z5_cwS",
      "execution_count": null,
      "outputs": [
        {
          "output_type": "execute_result",
          "data": {
            "text/plain": [
              "['data', 'engineering']"
            ]
          },
          "metadata": {},
          "execution_count": 12
        }
      ]
    },
    {
      "cell_type": "code",
      "source": [
        "text =''' The Sun emits ~3.8 × 10²⁶ watts of energy! Life depends on its light & heat.\n",
        "Water (~71% of Earth) supports ecosystems, marine life & weather cycles.\n",
        "Tech evolves @ rapid speed—AI, IoT & 5G reshape how we work, learn & connect!'''"
      ],
      "metadata": {
        "id": "Kf4FGLZV_czo"
      },
      "id": "Kf4FGLZV_czo",
      "execution_count": null,
      "outputs": []
    },
    {
      "cell_type": "code",
      "source": [
        "text.split()"
      ],
      "metadata": {
        "id": "YEeiCqIs_c3n"
      },
      "id": "YEeiCqIs_c3n",
      "execution_count": null,
      "outputs": []
    },
    {
      "cell_type": "code",
      "source": [
        "for i in text.split():\n",
        "  if i.isalnum()==True:\n",
        "    print(i,end=',')\n",
        "\n"
      ],
      "metadata": {
        "id": "GUaqMYfj_c9c",
        "colab": {
          "base_uri": "https://localhost:8080/"
        },
        "outputId": "d6b4e9d4-de8f-4f08-af74-d35e9b0337a7"
      },
      "id": "GUaqMYfj_c9c",
      "execution_count": null,
      "outputs": [
        {
          "output_type": "stream",
          "name": "stdout",
          "text": [
            "The,Sun,emits,10²⁶,watts,of,Life,depends,on,its,light,Water,of,supports,marine,life,weather,Tech,evolves,rapid,IoT,5G,reshape,how,we,learn,"
          ]
        }
      ]
    },
    {
      "cell_type": "code",
      "source": [
        "for i in text.split():\n",
        "  if i.isalnum()==False:\n",
        "    print(i,end=',')"
      ],
      "metadata": {
        "id": "wJcu642-1TLr"
      },
      "id": "wJcu642-1TLr",
      "execution_count": null,
      "outputs": []
    },
    {
      "cell_type": "code",
      "source": [
        "#Find How many capital letters\n",
        "x=0\n",
        "for i in text:\n",
        "  if i.isupper():\n",
        "    x=x+1"
      ],
      "metadata": {
        "id": "XYONnjM-1TO4"
      },
      "id": "XYONnjM-1TO4",
      "execution_count": null,
      "outputs": []
    },
    {
      "cell_type": "code",
      "source": [
        "x"
      ],
      "metadata": {
        "id": "XRAvuGHu0Dwa",
        "colab": {
          "base_uri": "https://localhost:8080/"
        },
        "outputId": "ff0a5180-94ee-45e9-b120-8261c61c5464"
      },
      "id": "XRAvuGHu0Dwa",
      "execution_count": null,
      "outputs": [
        {
          "output_type": "execute_result",
          "data": {
            "text/plain": [
              "11"
            ]
          },
          "metadata": {},
          "execution_count": 19
        }
      ]
    },
    {
      "cell_type": "code",
      "source": [
        "#Find Capital Letters:\n",
        "x=0\n",
        "for i in text:\n",
        "  if i.isupper():\n",
        "    x=x+1\n",
        "    print(i,end=',')"
      ],
      "metadata": {
        "id": "BMvnrtXsoFiE",
        "colab": {
          "base_uri": "https://localhost:8080/"
        },
        "outputId": "67617ddb-3a1e-4223-8b89-345a10ce6c84"
      },
      "id": "BMvnrtXsoFiE",
      "execution_count": null,
      "outputs": [
        {
          "output_type": "stream",
          "name": "stdout",
          "text": [
            "T,S,L,W,E,T,A,I,I,T,G,"
          ]
        }
      ]
    },
    {
      "cell_type": "code",
      "source": [
        "for i in range(0,10):\n",
        "  print(i,9-i)"
      ],
      "metadata": {
        "id": "QWZaPX0EoFu9"
      },
      "id": "QWZaPX0EoFu9",
      "execution_count": null,
      "outputs": []
    },
    {
      "cell_type": "code",
      "source": [
        "# 9 is lenght of range\n",
        "for i in range(0,10):\n",
        "  print(i,len(range(0,10))-1)"
      ],
      "metadata": {
        "id": "iFys_8vWoFyI"
      },
      "id": "iFys_8vWoFyI",
      "execution_count": null,
      "outputs": []
    },
    {
      "cell_type": "code",
      "source": [
        "for i in range(1,6):\n",
        "  print(i*\"*\")"
      ],
      "metadata": {
        "id": "rluvRkM7oF11"
      },
      "id": "rluvRkM7oF11",
      "execution_count": null,
      "outputs": []
    },
    {
      "cell_type": "code",
      "source": [
        "#print in reverse order\n",
        "for i in range(1,6):\n",
        "  print((6-i)*\"*\")"
      ],
      "metadata": {
        "id": "c_U-rUn8piPV"
      },
      "id": "c_U-rUn8piPV",
      "execution_count": null,
      "outputs": []
    },
    {
      "cell_type": "code",
      "source": [
        "#Print\n",
        "*\n",
        "**\n",
        "***\n",
        "****\n",
        "*****\n",
        "****\n",
        "***\n",
        "**\n",
        "*"
      ],
      "metadata": {
        "id": "BSeIJOX1piSp"
      },
      "id": "BSeIJOX1piSp",
      "execution_count": null,
      "outputs": []
    },
    {
      "cell_type": "code",
      "source": [],
      "metadata": {
        "id": "W7-lVnFZq76V"
      },
      "id": "W7-lVnFZq76V",
      "execution_count": null,
      "outputs": []
    },
    {
      "cell_type": "code",
      "source": [],
      "metadata": {
        "id": "Xs_idwCsq7-J"
      },
      "id": "Xs_idwCsq7-J",
      "execution_count": null,
      "outputs": []
    },
    {
      "cell_type": "code",
      "source": [
        "for i in range(1,6):\n",
        "  print(i*\"*\")\n",
        "  if i==5:\n",
        "    for j in range(5,0,-1):  #Reverse order\n",
        "       print(j*\"*\")"
      ],
      "metadata": {
        "id": "S31SVzx5piWb"
      },
      "id": "S31SVzx5piWb",
      "execution_count": null,
      "outputs": []
    },
    {
      "cell_type": "code",
      "source": [
        "\"1213145155\"\n",
        "\n",
        "#ADD ABOVE STRING"
      ],
      "metadata": {
        "id": "LEL-StnjpiZw"
      },
      "id": "LEL-StnjpiZw",
      "execution_count": null,
      "outputs": []
    },
    {
      "cell_type": "code",
      "source": [],
      "metadata": {
        "id": "Cbic75NYpic8"
      },
      "id": "Cbic75NYpic8",
      "execution_count": null,
      "outputs": []
    },
    {
      "cell_type": "code",
      "execution_count": null,
      "id": "da38797b",
      "metadata": {
        "id": "da38797b"
      },
      "outputs": [],
      "source": [
        "#Example: Iterating Over a String\n",
        "\n",
        "word = \"hello\"\n",
        "\n",
        "for letter in word:\n",
        "    print(letter)\n",
        "print(word)"
      ]
    },
    {
      "cell_type": "markdown",
      "id": "9b927e98",
      "metadata": {
        "id": "9b927e98"
      },
      "source": [
        "# 2. while Loops\n",
        "A while loop repeats a block of code as long as a specified condition is true."
      ]
    },
    {
      "cell_type": "code",
      "execution_count": null,
      "id": "f84f1980",
      "metadata": {
        "id": "f84f1980"
      },
      "outputs": [],
      "source": [
        "count = 15\n",
        "\n",
        "while count <= 30:  #condition\n",
        "    print(count)\n",
        "    count += 2   # 1,2,3,4,5\n"
      ]
    },
    {
      "cell_type": "code",
      "source": [
        "count = 0\n",
        "\n",
        "while count <= 100:  #condition\n",
        "    print(count)\n",
        "    count +=2"
      ],
      "metadata": {
        "id": "gJPEWh__yNt-"
      },
      "id": "gJPEWh__yNt-",
      "execution_count": null,
      "outputs": []
    },
    {
      "cell_type": "code",
      "source": [
        "x=2\n",
        "counter=1\n",
        "\n",
        "while x<5:\n",
        "  print(\"Interation\", counter,x)\n",
        "  counter=counter+1\n",
        "  x=x+1\n",
        "\n",
        "  #1,2,3\n",
        "  #\n"
      ],
      "metadata": {
        "id": "BonkPIbZyNya",
        "colab": {
          "base_uri": "https://localhost:8080/"
        },
        "outputId": "d09cac1e-1156-4a69-a909-0ba8e9c50c1b"
      },
      "id": "BonkPIbZyNya",
      "execution_count": null,
      "outputs": [
        {
          "output_type": "stream",
          "name": "stdout",
          "text": [
            "Interation 1 2\n",
            "Interation 2 3\n",
            "Interation 3 4\n"
          ]
        }
      ]
    },
    {
      "cell_type": "code",
      "source": [
        "x = 1\n",
        "while x<6:\n",
        "  print((5-x)*\" \"+x*\"*\")\n",
        "  x+=1\n",
        "\n",
        "\n"
      ],
      "metadata": {
        "id": "FvMZoIcEsdJM",
        "colab": {
          "base_uri": "https://localhost:8080/"
        },
        "outputId": "1eb08919-cb7b-4bb6-a267-4291b98b3647"
      },
      "id": "FvMZoIcEsdJM",
      "execution_count": null,
      "outputs": [
        {
          "output_type": "stream",
          "name": "stdout",
          "text": [
            "    *\n",
            "   **\n",
            "  ***\n",
            " ****\n",
            "*****\n"
          ]
        }
      ]
    },
    {
      "cell_type": "code",
      "source": [
        "x = 1\n",
        "while x<6:\n",
        "  print((6-x)*\"*\")\n",
        "  x+=1"
      ],
      "metadata": {
        "id": "LARtoW4FsdvA"
      },
      "id": "LARtoW4FsdvA",
      "execution_count": null,
      "outputs": []
    },
    {
      "cell_type": "code",
      "source": [],
      "metadata": {
        "id": "dA32oREmsdy4"
      },
      "id": "dA32oREmsdy4",
      "execution_count": null,
      "outputs": []
    },
    {
      "cell_type": "code",
      "source": [],
      "metadata": {
        "id": "2X1o4iwrsd2K"
      },
      "id": "2X1o4iwrsd2K",
      "execution_count": null,
      "outputs": []
    },
    {
      "cell_type": "code",
      "source": [],
      "metadata": {
        "id": "JHLb3bzJsd5W"
      },
      "id": "JHLb3bzJsd5W",
      "execution_count": null,
      "outputs": []
    },
    {
      "cell_type": "code",
      "source": [],
      "metadata": {
        "id": "4Ku6NEFMsd85"
      },
      "id": "4Ku6NEFMsd85",
      "execution_count": null,
      "outputs": []
    },
    {
      "cell_type": "code",
      "source": [
        "a = 1\n",
        "\n",
        "while a<=10:\n",
        "  if(a%2==0):\n",
        "      print(a ,\"is even number\")\n",
        "  else:\n",
        "      print(a ,\"is odd number\")\n",
        "  a+=1"
      ],
      "metadata": {
        "id": "xEJ7rjsco4Mu",
        "colab": {
          "base_uri": "https://localhost:8080/"
        },
        "outputId": "ed1b0edf-b297-47db-d0b5-27e35510369f"
      },
      "id": "xEJ7rjsco4Mu",
      "execution_count": null,
      "outputs": [
        {
          "output_type": "stream",
          "name": "stdout",
          "text": [
            "1 is odd number\n",
            "2 is even number\n",
            "3 is odd number\n",
            "4 is even number\n",
            "5 is odd number\n",
            "6 is even number\n",
            "7 is odd number\n",
            "8 is even number\n",
            "9 is odd number\n",
            "10 is even number\n"
          ]
        }
      ]
    },
    {
      "cell_type": "markdown",
      "id": "29533d25",
      "metadata": {
        "id": "29533d25"
      },
      "source": [
        "# Loop Control Statements\n",
        "\n",
        "1. break\n",
        "The break statement is used to exit the loop prematurely, regardless of the loop's condition."
      ]
    },
    {
      "cell_type": "code",
      "execution_count": null,
      "id": "383fd825",
      "metadata": {
        "id": "383fd825",
        "colab": {
          "base_uri": "https://localhost:8080/"
        },
        "outputId": "04ba3d5e-e839-4638-e206-83ee5207029a"
      },
      "outputs": [
        {
          "output_type": "stream",
          "name": "stdout",
          "text": [
            "10\n"
          ]
        }
      ],
      "source": [
        "for i in range(1,100):  #range(10)= (1 to 99)  # 0(1),..............10(9)\n",
        "    if i == 10:\n",
        "      print(i)\n",
        "      break\n",
        "    #print(number)\n"
      ]
    },
    {
      "cell_type": "code",
      "source": [
        "for number in range(1,100):\n",
        "    if number == 10:\n",
        "      break\n",
        "    print(number)"
      ],
      "metadata": {
        "id": "twr9f_vUviof"
      },
      "id": "twr9f_vUviof",
      "execution_count": null,
      "outputs": []
    },
    {
      "cell_type": "code",
      "source": [
        "for number in range(1,100):\n",
        "    print(number)\n",
        "    if number == 10:\n",
        "      break\n"
      ],
      "metadata": {
        "id": "JfAzW_zHwFUB"
      },
      "id": "JfAzW_zHwFUB",
      "execution_count": null,
      "outputs": []
    },
    {
      "cell_type": "code",
      "source": [
        "for i in range(0,10): #0123456789\n",
        "  if i==5:\n",
        "    continue\n",
        "  print(i, end=\",\")\n"
      ],
      "metadata": {
        "id": "b-qWp4Zjws_Y",
        "colab": {
          "base_uri": "https://localhost:8080/"
        },
        "outputId": "dfc2b99a-4afc-406b-b0e8-e6d91b0e73c2"
      },
      "id": "b-qWp4Zjws_Y",
      "execution_count": null,
      "outputs": [
        {
          "output_type": "stream",
          "name": "stdout",
          "text": [
            "0,1,2,3,4,6,7,8,9,"
          ]
        }
      ]
    },
    {
      "cell_type": "code",
      "execution_count": null,
      "id": "4b706174",
      "metadata": {
        "id": "4b706174"
      },
      "outputs": [],
      "source": [
        "#2. continue\n",
        "#The continue statement skips the rest of the code inside the loop for the current iteration\n",
        "#and moves to the next iteration\n",
        "\n",
        "for number in range(10):  #range(0-9)\n",
        "    if number % 2 ==1:   # 0 %2 ==00,2%2==0,4%2==00, 6%2==00, 8%2==00\n",
        "        continue\n",
        "    print(number,end=\"\\t\")\n"
      ]
    },
    {
      "cell_type": "code",
      "execution_count": null,
      "id": "4fe413ce",
      "metadata": {
        "id": "4fe413ce"
      },
      "outputs": [],
      "source": [
        "for number in range(10):\n",
        "    if number % 2 == 0:\n",
        "        continue\n",
        "    print(number)"
      ]
    },
    {
      "cell_type": "code",
      "source": [
        "for i in range(0,10):  #0123456789\n",
        "  if i>5:\n",
        "    continue\n",
        "    print(i,end=',')\n",
        "  else:\n",
        "    print(i,end=',')"
      ],
      "metadata": {
        "id": "-Hkx0XWYytSI",
        "colab": {
          "base_uri": "https://localhost:8080/"
        },
        "outputId": "97103046-3fb2-4e28-e360-417e0ba276dd"
      },
      "id": "-Hkx0XWYytSI",
      "execution_count": null,
      "outputs": [
        {
          "output_type": "stream",
          "name": "stdout",
          "text": [
            "0,1,2,3,4,5,"
          ]
        }
      ]
    },
    {
      "cell_type": "code",
      "source": [
        "#Nested For Loops:\n",
        "\n",
        "for i in range(1,6):\n",
        "  print(i)\n",
        "  for j in range(i):\n",
        "    print(j,end=\" \")\n",
        "\n"
      ],
      "metadata": {
        "id": "Od7pT7Is0kQy"
      },
      "id": "Od7pT7Is0kQy",
      "execution_count": null,
      "outputs": []
    },
    {
      "cell_type": "code",
      "source": [
        "1\n",
        "2 2\n",
        "3 3 3\n",
        "4 4 4 4\n",
        "5 5 5 5 5\n"
      ],
      "metadata": {
        "id": "26L7qSXKpvOo"
      },
      "id": "26L7qSXKpvOo",
      "execution_count": null,
      "outputs": []
    },
    {
      "cell_type": "code",
      "source": [
        "for i in range(1,6):\n",
        "  for j in range(1,6):\n",
        "    if j==3:\n",
        "      continue\n",
        "    print(i,j)\n",
        "\n",
        "    #"
      ],
      "metadata": {
        "id": "oUT5xj9a2w9J"
      },
      "id": "oUT5xj9a2w9J",
      "execution_count": null,
      "outputs": []
    },
    {
      "cell_type": "code",
      "source": [
        "for i in range(1,6):\n",
        "  for j in range(1,6):\n",
        "    print(i,j)\n",
        "    if j==3:\n",
        "      break\n",
        "\n",
        "      #11,12,13,21,22,23"
      ],
      "metadata": {
        "id": "-UrVQD7f4BW-"
      },
      "id": "-UrVQD7f4BW-",
      "execution_count": null,
      "outputs": []
    },
    {
      "cell_type": "code",
      "source": [
        "for i in range(1,6):\n",
        "  for j in range(1,6):\n",
        "    if i==3:\n",
        "      continue\n",
        "    print(i,j)"
      ],
      "metadata": {
        "id": "Zh-aY67k4eRP"
      },
      "id": "Zh-aY67k4eRP",
      "execution_count": null,
      "outputs": []
    },
    {
      "cell_type": "code",
      "source": [
        "for i in range(1,6):\n",
        "  print((5-i)*\" \"+i*\"*\")"
      ],
      "metadata": {
        "id": "oSvmZqTk7Fx6"
      },
      "id": "oSvmZqTk7Fx6",
      "execution_count": null,
      "outputs": []
    },
    {
      "cell_type": "code",
      "execution_count": null,
      "id": "223d8567",
      "metadata": {
        "id": "223d8567"
      },
      "outputs": [],
      "source": [
        "#3. else\n",
        "#An else block can be added to a loop, which is executed when the loop completes normally\n",
        "#(i.e., without encountering a break statement).\n",
        "\n",
        "for number in range(5):  #\n",
        "    print(number)\n",
        "else:\n",
        "    print(\"Loop finished without break\")\n"
      ]
    },
    {
      "cell_type": "code",
      "source": [
        "# Pattern Printing\n",
        "for i in range(1, 6):#1,2,3,4,5\n",
        "    for j in range(i):\n",
        "        print(i, end=' ')\n",
        "    print()\n"
      ],
      "metadata": {
        "id": "67lXHldkN8DJ"
      },
      "id": "67lXHldkN8DJ",
      "execution_count": null,
      "outputs": []
    },
    {
      "cell_type": "code",
      "source": [
        "for i in range(1,6):   #1,2,3,4\n",
        "  for j in range(1, i+1): #1 ,1,2,1,2,3,1,2,3,4\n",
        "    print(i,end=' ') #1\n",
        "  print()\n",
        "\n"
      ],
      "metadata": {
        "id": "lSJzJgSyN8Gx"
      },
      "id": "lSJzJgSyN8Gx",
      "execution_count": null,
      "outputs": []
    },
    {
      "cell_type": "code",
      "source": [
        "for i in range(1,5):  #1,2,3,4\n",
        "  print(\" \"*(6-i), end =\" \")\n",
        "  for j in range(i):   # 1,22,333,4444,555\n",
        "    print(i,end=' ')\n",
        "  print(\" \")\n",
        "\n",
        "  #         1\n",
        "  #        2 2\n",
        "  #       3 3 3\n",
        "  #      4 4 4 4"
      ],
      "metadata": {
        "id": "hNC12K6-N8K0"
      },
      "id": "hNC12K6-N8K0",
      "execution_count": null,
      "outputs": []
    },
    {
      "cell_type": "code",
      "source": [
        "1\n",
        "12\n",
        "123\n",
        "1234\n"
      ],
      "metadata": {
        "id": "ADiZqYETN8Ob"
      },
      "id": "ADiZqYETN8Ob",
      "execution_count": null,
      "outputs": []
    },
    {
      "cell_type": "code",
      "source": [
        "for i in range(1,5):\n",
        "  for j in range(1,i+1):\n",
        "    print(j,end=\" \")\n",
        "  print()\n",
        "\n",
        "#1\n",
        "#1 2\n",
        "#1 2 3\n",
        "#1 2 3 4\n"
      ],
      "metadata": {
        "id": "Ek9zB8vjGwvl"
      },
      "id": "Ek9zB8vjGwvl",
      "execution_count": null,
      "outputs": []
    },
    {
      "cell_type": "code",
      "source": [
        "#Butterfly star pattern\n",
        "for i in range(1,6):\n",
        "  print(\" \"*(5-i)+i*\"* \")\n",
        "for i in range(5,0,-1):\n",
        "  print(\" \"*(5-i)+i*\"* \")"
      ],
      "metadata": {
        "id": "jBoKANdkN8R-"
      },
      "id": "jBoKANdkN8R-",
      "execution_count": null,
      "outputs": []
    },
    {
      "cell_type": "code",
      "source": [
        "for i in range(1,6):\n",
        "  print(i*\"* \")\n",
        "for j in range(4,0,-1):\n",
        "  print(j*\"* \")\n"
      ],
      "metadata": {
        "id": "UKQrB0gXN8Vm"
      },
      "id": "UKQrB0gXN8Vm",
      "execution_count": null,
      "outputs": []
    },
    {
      "cell_type": "code",
      "source": [
        "#Pascal Triangle\n",
        "\n"
      ],
      "metadata": {
        "id": "NUr-nnoq_wS8"
      },
      "id": "NUr-nnoq_wS8",
      "execution_count": null,
      "outputs": []
    },
    {
      "cell_type": "code",
      "source": [
        "#Fibonacci Series\n",
        "\n"
      ],
      "metadata": {
        "id": "h2pRBhZKBn6n"
      },
      "id": "h2pRBhZKBn6n",
      "execution_count": null,
      "outputs": []
    },
    {
      "cell_type": "markdown",
      "id": "cde17825",
      "metadata": {
        "id": "cde17825"
      },
      "source": [
        "# Combining for Loop and if Statements\n",
        "You can combine for loops with if statements to execute code conditionally within the loop.\n"
      ]
    },
    {
      "cell_type": "code",
      "execution_count": null,
      "id": "4f8061ef",
      "metadata": {
        "id": "4f8061ef"
      },
      "outputs": [],
      "source": [
        "#Example: Filtering Even Numbers\n",
        "\n",
        "numbers = (1, 2, 3, 4, 5, 6, 7, 8, 9, 10)\n",
        "\n",
        "for number in numbers:\n",
        "    if number % 2 == 0:\n",
        "        print(number,\"is even\")\n",
        "    else:\n",
        "        print(f\"{number} is odd\")\n",
        "# 1 is odd\n",
        "#Filter Even Numbers using While Loop."
      ]
    },
    {
      "cell_type": "markdown",
      "id": "fa0532da",
      "metadata": {
        "id": "fa0532da"
      },
      "source": [
        "# Nested Loops\n",
        "Loops can be nested inside other loops to handle more complex scenarios."
      ]
    },
    {
      "cell_type": "markdown",
      "id": "1b29ec7f",
      "metadata": {
        "id": "1b29ec7f"
      },
      "source": [
        "# Summary\n",
        "for Loop: Used to iterate over a sequence.\n",
        "while Loop: Repeats a block of code as long as a condition is true.\n",
        "Loop Control Statements:\n",
        "break: Exits the loop prematurely.\n",
        "continue: Skips to the next iteration.\n",
        "else: Executes after the loop completes normally.\n"
      ]
    },
    {
      "cell_type": "markdown",
      "id": "6f28f61e",
      "metadata": {
        "id": "6f28f61e"
      },
      "source": [
        "# Functions\n",
        "in Python are a fundamental concept that allows you to group a set of statements\n",
        "so you can run them multiple times throughout your code.\n",
        "Functions help make your code modular, reusable, and organized.\n",
        "Let's dive into the details of functions in Python and break down every aspect of them.\n",
        "\n",
        "#Defining a Function\n",
        "A function is defined using the def keyword, followed by the function name, parentheses (), and a colon :. The body of the function contains the code that executes when the function is called."
      ]
    },
    {
      "cell_type": "code",
      "execution_count": null,
      "id": "0b210d26",
      "metadata": {
        "id": "0b210d26"
      },
      "outputs": [],
      "source": [
        "def greet():\n",
        "    print(\"Hello, world!\")"
      ]
    },
    {
      "cell_type": "code",
      "source": [
        "def greet():\n",
        "  print(\" Good Morning \")\n",
        "greet()"
      ],
      "metadata": {
        "id": "TAA99UTeAcOS",
        "colab": {
          "base_uri": "https://localhost:8080/"
        },
        "outputId": "0231a6b9-00ba-466f-9337-0a4f35227cb9"
      },
      "id": "TAA99UTeAcOS",
      "execution_count": null,
      "outputs": [
        {
          "output_type": "stream",
          "name": "stdout",
          "text": [
            " Good Morning \n"
          ]
        }
      ]
    },
    {
      "cell_type": "code",
      "execution_count": null,
      "id": "166a241b",
      "metadata": {
        "id": "166a241b"
      },
      "outputs": [],
      "source": [
        "def my_name():\n",
        "    print(\"Vyankat\")"
      ]
    },
    {
      "cell_type": "code",
      "source": [
        "greet()"
      ],
      "metadata": {
        "colab": {
          "base_uri": "https://localhost:8080/"
        },
        "id": "jd7lwY_6vmV2",
        "outputId": "685fd218-4d0d-45b1-94c0-6d787c5c6ffd"
      },
      "id": "jd7lwY_6vmV2",
      "execution_count": null,
      "outputs": [
        {
          "output_type": "stream",
          "name": "stdout",
          "text": [
            "Hello, world!\n"
          ]
        }
      ]
    },
    {
      "cell_type": "code",
      "source": [
        "my_name()"
      ],
      "metadata": {
        "id": "gI7oLoYTA1EH",
        "colab": {
          "base_uri": "https://localhost:8080/"
        },
        "outputId": "03a57be3-4ce4-4eb8-e0e6-77941953aa35"
      },
      "id": "gI7oLoYTA1EH",
      "execution_count": null,
      "outputs": [
        {
          "output_type": "stream",
          "name": "stdout",
          "text": [
            "Vyankat\n"
          ]
        }
      ]
    },
    {
      "cell_type": "code",
      "source": [
        "greet()"
      ],
      "metadata": {
        "id": "XU_Zsc79A1JG"
      },
      "id": "XU_Zsc79A1JG",
      "execution_count": null,
      "outputs": []
    },
    {
      "cell_type": "code",
      "source": [],
      "metadata": {
        "id": "_uX5ScQpA1Nr"
      },
      "id": "_uX5ScQpA1Nr",
      "execution_count": null,
      "outputs": []
    },
    {
      "cell_type": "code",
      "execution_count": null,
      "id": "1131c5c7",
      "metadata": {
        "id": "1131c5c7",
        "colab": {
          "base_uri": "https://localhost:8080/"
        },
        "outputId": "7ada73f2-2a40-45f7-e0b7-cc3ffd937817"
      },
      "outputs": [
        {
          "output_type": "stream",
          "name": "stdout",
          "text": [
            "Good Morning, Coders!\n"
          ]
        }
      ],
      "source": [
        "#Function Parameters and Arguments\n",
        "# Two types of functions:\n",
        "# 1. User defined function   2. Built in Function\n",
        "#Functions can accept parameters, which are variables passed to the function to provide input.\n",
        "\n",
        "def greet(arg):\n",
        "    print(f\"Good Morning, {arg}!\")\n",
        "greet(\"Coders\")"
      ]
    },
    {
      "cell_type": "code",
      "source": [
        "greet(\"Vyankat\")"
      ],
      "metadata": {
        "colab": {
          "base_uri": "https://localhost:8080/"
        },
        "id": "kUkaQn8VxHN_",
        "outputId": "6fcf4da0-37de-43b2-f666-74ead2971ec7"
      },
      "id": "kUkaQn8VxHN_",
      "execution_count": null,
      "outputs": [
        {
          "output_type": "stream",
          "name": "stdout",
          "text": [
            "Good Morning, Vyankat!\n"
          ]
        }
      ]
    },
    {
      "cell_type": "code",
      "source": [],
      "metadata": {
        "id": "ckbBANN_xHR5"
      },
      "id": "ckbBANN_xHR5",
      "execution_count": null,
      "outputs": []
    },
    {
      "cell_type": "code",
      "source": [],
      "metadata": {
        "id": "_GwRcdfJxHVt"
      },
      "id": "_GwRcdfJxHVt",
      "execution_count": null,
      "outputs": []
    },
    {
      "cell_type": "code",
      "execution_count": null,
      "id": "2eddeb59",
      "metadata": {
        "collapsed": true,
        "id": "2eddeb59",
        "colab": {
          "base_uri": "https://localhost:8080/"
        },
        "outputId": "20fffcdc-efd8-45a0-8f43-ec38d4457114"
      },
      "outputs": [
        {
          "output_type": "stream",
          "name": "stdout",
          "text": [
            "60\n"
          ]
        }
      ],
      "source": [
        "#Return Statement\n",
        "#Functions can return a value using the return statement.\n",
        "\n",
        "def multiply(a, b,c):\n",
        "    return a*b*c\n",
        "\n",
        "result = multiply(3, 5,4)\n",
        "print(result)\n"
      ]
    },
    {
      "cell_type": "code",
      "source": [
        "multiply(5,4,5)"
      ],
      "metadata": {
        "colab": {
          "base_uri": "https://localhost:8080/"
        },
        "id": "ldwu0HDdxEDw",
        "outputId": "4ee5358a-6698-4a65-e4fa-04727fcc9c50"
      },
      "id": "ldwu0HDdxEDw",
      "execution_count": null,
      "outputs": [
        {
          "output_type": "execute_result",
          "data": {
            "text/plain": [
              "100"
            ]
          },
          "metadata": {},
          "execution_count": 8
        }
      ]
    },
    {
      "cell_type": "markdown",
      "id": "72591ea4",
      "metadata": {
        "id": "72591ea4"
      },
      "source": [
        "# Arbitrary Arguments\n",
        "- You can pass a variable number of arguments to a function using *args and **kwargs.\n",
        "\n",
        "- Using *args for Non-Keyword Arguments"
      ]
    },
    {
      "cell_type": "code",
      "execution_count": null,
      "id": "1e846a29",
      "metadata": {
        "collapsed": true,
        "id": "1e846a29",
        "outputId": "fe4b12a5-a5e7-4de3-b024-ecbd57e08790",
        "colab": {
          "base_uri": "https://localhost:8080/",
          "height": 193
        }
      },
      "outputs": [
        {
          "output_type": "error",
          "ename": "NameError",
          "evalue": "name 'a' is not defined",
          "traceback": [
            "\u001b[0;31m---------------------------------------------------------------------------\u001b[0m",
            "\u001b[0;31mNameError\u001b[0m                                 Traceback (most recent call last)",
            "\u001b[0;32m<ipython-input-16-7636a9168bc2>\u001b[0m in \u001b[0;36m<cell line: 0>\u001b[0;34m()\u001b[0m\n\u001b[1;32m      2\u001b[0m     \u001b[0;32mreturn\u001b[0m \u001b[0msum\u001b[0m\u001b[0;34m(\u001b[0m\u001b[0margs\u001b[0m\u001b[0;34m)\u001b[0m\u001b[0;34m\u001b[0m\u001b[0;34m\u001b[0m\u001b[0m\n\u001b[1;32m      3\u001b[0m \u001b[0;34m\u001b[0m\u001b[0m\n\u001b[0;32m----> 4\u001b[0;31m \u001b[0mprint\u001b[0m\u001b[0;34m(\u001b[0m\u001b[0madd\u001b[0m\u001b[0;34m(\u001b[0m\u001b[0;36m1\u001b[0m\u001b[0;34m,\u001b[0m \u001b[0;36m2\u001b[0m\u001b[0;34m,\u001b[0m \u001b[0;36m3\u001b[0m\u001b[0;34m,\u001b[0m\u001b[0;36m4\u001b[0m\u001b[0;34m,\u001b[0m\u001b[0;36m5\u001b[0m\u001b[0;34m,\u001b[0m\u001b[0ma\u001b[0m\u001b[0;34m)\u001b[0m\u001b[0;34m)\u001b[0m  \u001b[0;31m# Output: 6\u001b[0m\u001b[0;34m\u001b[0m\u001b[0;34m\u001b[0m\u001b[0m\n\u001b[0m\u001b[1;32m      5\u001b[0m \u001b[0;31m#print(add(4, 5, 6, 7))  # Output: 22\u001b[0m\u001b[0;34m\u001b[0m\u001b[0;34m\u001b[0m\u001b[0m\n",
            "\u001b[0;31mNameError\u001b[0m: name 'a' is not defined"
          ]
        }
      ],
      "source": [
        "def add(*args):\n",
        "    return sum(args)\n",
        "\n",
        "print(add(1, 2, 3,4,5,8))  # Output: 6\n",
        "#print(add(4, 5, 6, 7))  # Output: 22\n"
      ]
    },
    {
      "cell_type": "code",
      "execution_count": null,
      "id": "a91c5f1d",
      "metadata": {
        "collapsed": true,
        "id": "a91c5f1d",
        "outputId": "edd587f3-34d2-4129-eb84-ec9cb754b944",
        "colab": {
          "base_uri": "https://localhost:8080/"
        }
      },
      "outputs": [
        {
          "output_type": "stream",
          "name": "stdout",
          "text": [
            "name: Alice\n",
            "age: 30\n",
            "city: New York\n"
          ]
        }
      ],
      "source": [
        "#Using **kwargs for Keyword Arguments\n",
        "\n",
        "#**kwargs: Collects extra keyword arguments as a dictionary.\n",
        "#kwargs.items(): Iterates over key-value pairs in the dictionary.\n",
        "\n",
        "def print_details(**kwargs):\n",
        "    for key, value in kwargs.items():\n",
        "        print(f\"{key}: {value}\")\n",
        "\n",
        "print_details(name=\"Alice\", age=30, city=\"New York\")\n",
        "# Output:\n",
        "# name: Alice\n",
        "# age: 30\n",
        "# city: New York\n"
      ]
    },
    {
      "cell_type": "markdown",
      "id": "4668db44",
      "metadata": {
        "id": "4668db44"
      },
      "source": [
        "# Lambda Functions\n",
        "Lambda functions are small anonymous functions defined with the lambda keyword."
      ]
    },
    {
      "cell_type": "code",
      "execution_count": null,
      "id": "8f1c2c15",
      "metadata": {
        "id": "8f1c2c15",
        "colab": {
          "base_uri": "https://localhost:8080/"
        },
        "outputId": "c4f4cd7c-1cc4-4108-b303-81adf7b31445"
      },
      "outputs": [
        {
          "output_type": "stream",
          "name": "stdout",
          "text": [
            "40\n"
          ]
        }
      ],
      "source": [
        "multiply = lambda a, b: a * b\n",
        "print(multiply(8, 5))"
      ]
    },
    {
      "cell_type": "code",
      "source": [
        "def add(a, b):\n",
        "    return a + b\n",
        "print(add(8, 5))\n",
        "\n",
        "add =lambda a,b:a+b"
      ],
      "metadata": {
        "id": "OJYdIF-p9ViK"
      },
      "id": "OJYdIF-p9ViK",
      "execution_count": null,
      "outputs": []
    },
    {
      "cell_type": "code",
      "source": [
        "#create a function to find square of a number\n",
        "Cube = lambda x: x * x * x\n",
        "print(Cube(5))"
      ],
      "metadata": {
        "id": "8dRdfLbKEJaq",
        "colab": {
          "base_uri": "https://localhost:8080/"
        },
        "outputId": "dfddf243-d3a1-4965-cfd6-523b2ce4e3fc"
      },
      "id": "8dRdfLbKEJaq",
      "execution_count": null,
      "outputs": [
        {
          "output_type": "stream",
          "name": "stdout",
          "text": [
            "125\n"
          ]
        }
      ]
    },
    {
      "cell_type": "code",
      "source": [
        "z = lambda x, y: x - y\n",
        "print(z(5,6))"
      ],
      "metadata": {
        "id": "vD0YM-VXFDXc",
        "colab": {
          "base_uri": "https://localhost:8080/"
        },
        "outputId": "01862ffe-c0fe-4357-90a5-7085f9253861"
      },
      "id": "vD0YM-VXFDXc",
      "execution_count": null,
      "outputs": [
        {
          "output_type": "stream",
          "name": "stdout",
          "text": [
            "-1\n"
          ]
        }
      ]
    },
    {
      "cell_type": "markdown",
      "id": "ea9f833d",
      "metadata": {
        "id": "ea9f833d"
      },
      "source": [
        "# Python Arrays:\n",
        "\n",
        "#Python does not have built-in support for arrays as it does with lists,\n",
        "#but you can use the array module or third-party libraries like NumPy to work with arrays."
      ]
    },
    {
      "cell_type": "code",
      "execution_count": null,
      "id": "a0c3a91b",
      "metadata": {
        "collapsed": true,
        "id": "a0c3a91b"
      },
      "outputs": [],
      "source": [
        "#Using the array Module\n",
        "#The array module provides a basic array data structure that is more efficient for numerical data compared to lists.\n",
        "\n",
        "#Importing the array Module   #import array as arr\n",
        "#First, you need to import the array module:\n",
        "\n",
        "import array as arr\n",
        "\n",
        "#Creating an Array\n",
        "#You create an array by specifying the type code and the initial values:\n",
        "\n",
        "Eg_array = arr.array('i', [1, 2, 3, 4, 5])\n",
        "\n",
        "#'i': Type code for integers.\n",
        "#[1, 2, 3, 4, 5]: Initial values for the array.\n",
        "\n",
        "#You can access array elements by index:\n",
        "print(Eg_array[0])  # Output: 1\n",
        "print(Eg_array[2])  # Output: 3\n",
        "print(Eg_array[3])  # 4\n",
        "\n",
        "#You can modify elements by index:\n",
        "Eg_array[1] = 10\n",
        "print(Eg_array)  # Output: array('i', [1, 10, 3, 4, 5])\n",
        "\n",
        "#You can add elements to the array using append and extend:\n",
        "Eg_array.append(6)\n",
        "print(Eg_array)  # Output: array('i', [1, 10, 3, 4, 5, 6])\n",
        "\n",
        "Eg_array.extend([7, 8, 9])\n",
        "print(Eg_array)  # Output: array('i', [1, 10, 3, 4, 5, 6, 7, 8, 9])\n",
        "\n",
        "#You can remove elements using remove and pop:\n",
        "Eg_array.remove(10)\n",
        "print(Eg_array)  # Output: array('i', [1, 3, 4, 5, 6, 7, 8, 9])\n",
        "\n",
        "Eg_array.pop()\n",
        "print(Eg_array)  # Output: array('i', [1, 3, 4, 5, 6, 7, 8])\n"
      ]
    },
    {
      "cell_type": "code",
      "execution_count": null,
      "id": "798e330d",
      "metadata": {
        "collapsed": true,
        "id": "798e330d",
        "outputId": "b2435c00-7d5f-48e0-c2e0-86c6802e5646",
        "colab": {
          "base_uri": "https://localhost:8080/"
        }
      },
      "outputs": [
        {
          "output_type": "stream",
          "name": "stdout",
          "text": [
            "array('u', 'bacde')\n"
          ]
        }
      ],
      "source": [
        "import array as arr\n",
        "arr = arr.array('u', ['b', 'a', 'c', 'd', 'e'])\n",
        "print(arr)"
      ]
    },
    {
      "cell_type": "code",
      "execution_count": null,
      "id": "775afaa8",
      "metadata": {
        "id": "775afaa8",
        "outputId": "a61de831-14a3-470e-c77f-f868878144ab"
      },
      "outputs": [
        {
          "name": "stdout",
          "output_type": "stream",
          "text": [
            "array('i', [1, 3, 4])\n"
          ]
        }
      ],
      "source": [
        "arr.pop()\n",
        "print(arr)  # Output: array('i', [1, 3, 4, 5, 6, 7, 8])"
      ]
    },
    {
      "cell_type": "code",
      "execution_count": null,
      "id": "e8c96f04",
      "metadata": {
        "collapsed": true,
        "id": "e8c96f04",
        "outputId": "e256b062-1bf6-4413-8b25-62d49f8dab29",
        "colab": {
          "base_uri": "https://localhost:8080/"
        }
      },
      "outputs": [
        {
          "output_type": "stream",
          "name": "stdout",
          "text": [
            "array('u', '12a345')\n",
            "1\n",
            "a\n",
            "3\n"
          ]
        }
      ],
      "source": [
        "import array\n",
        "\n",
        "#Creating an Array\n",
        "#You create an array by specifying the type code and the initial values:\n",
        "\n",
        "arr = array.array('u',['1', '2','a', '3', '4', '5'])\n",
        "\n",
        "#'i': Type code for integers.\n",
        "#[1, 2, 3, 4, 5]: Initial values for the array.\n",
        "print(arr)\n",
        "#You can access array elements by index:\n",
        "print(arr[0])  # Output: 1\n",
        "print(arr[2])  # Output: 3\n",
        "print(arr[3])  #"
      ]
    },
    {
      "cell_type": "markdown",
      "id": "7348e3ab",
      "metadata": {
        "id": "7348e3ab"
      },
      "source": [
        "# Type Codes\n",
        "The array module uses type codes to specify the type of elements in the array:\n",
        "\n",
        "- 'b': signed char  (-ve & +ve)       int     1 byte   Can represent both -ve & +ve numbers. Range: -128 to 127.\n",
        "- 'B': unsigned char(+ve)       int     1 byte   Can represent only +ve numbers.    Range: 0 to 255\n",
        "- 'u': Unicode character   char    2 byte   Range  65,536 characters.\n",
        "- 'h': signed short        int     2 byte   Range: -32,768 to 32,767\n",
        "- 'H': unsigned short      int     2 byte   Range: 0 to 65,535\n",
        "- 'i': signed int          int     2 byte   Range: -32,768 to 32,767 (if 2 bytes)\n",
        "- 'I': unsigned int        int     2 byte   Range: 0 to 65,535 (if 2 bytes)\n",
        "- 'l': signed long         int     4 byte   Range: -2,147,483,648 to 2,147,483,647\n",
        "- 'L': unsigned long       int     4 byte   Range: 0 to 4,294,967,295\n",
        "- 'f': float               float   4 byte   Range: Floating point numbers (single precision)\n",
        "- 'd': double              float   8 byte   Range: Floating point numbers (double precision)"
      ]
    },
    {
      "cell_type": "code",
      "execution_count": null,
      "id": "44bd9912",
      "metadata": {
        "id": "44bd9912",
        "colab": {
          "base_uri": "https://localhost:8080/"
        },
        "outputId": "85c99f03-9372-4cd7-c491-2d68cea80e0c"
      },
      "outputs": [
        {
          "output_type": "stream",
          "name": "stdout",
          "text": [
            "array('B', [1, 25, 3, 4, 5, 41, 5])\n"
          ]
        }
      ],
      "source": [
        "#Arrays:\n",
        "import array as arr\n",
        "arr = arr.array('B', [1,25,3, 4, 5,41,5])\n",
        "print(arr)"
      ]
    },
    {
      "cell_type": "code",
      "execution_count": null,
      "id": "4b6a2d14",
      "metadata": {
        "id": "4b6a2d14",
        "colab": {
          "base_uri": "https://localhost:8080/"
        },
        "outputId": "f6186f3a-7d73-4688-dcd1-1e23b2ac6479"
      },
      "outputs": [
        {
          "output_type": "stream",
          "name": "stdout",
          "text": [
            "array('h', [-32746, -125, 3, 4, 5, 41, 5, 32127])\n"
          ]
        }
      ],
      "source": [
        "import array as arr\n",
        "arr = arr.array('h', [-32746,-125,3, 4, 5,41,5,32127])\n",
        "print(arr)"
      ]
    },
    {
      "cell_type": "code",
      "execution_count": null,
      "id": "3df99ff3",
      "metadata": {
        "id": "3df99ff3"
      },
      "outputs": [],
      "source": [
        "import array as arr\n",
        "arr = arr.array('u', ['H', 'e','l','l','o'])\n",
        "print(arr)"
      ]
    },
    {
      "cell_type": "code",
      "execution_count": null,
      "id": "58ecf007",
      "metadata": {
        "id": "58ecf007",
        "colab": {
          "base_uri": "https://localhost:8080/"
        },
        "outputId": "1346b526-120d-47db-d73b-01faec1df8d6"
      },
      "outputs": [
        {
          "output_type": "stream",
          "name": "stdout",
          "text": [
            "array('i', [1, 2, 3, 4, 5, 6, 26, 5])\n",
            "array('i', [1, 2, 3, 4, 5, 6, 26, 5, 8])\n"
          ]
        }
      ],
      "source": [
        "#1. append()\n",
        "#Adds an element to the end of the array.\n",
        "import array as arr\n",
        "x = arr.array('i', [1, 2, 3, 4, 5,6,26,5])\n",
        "print(x)\n",
        "x.append(8)\n",
        "print(x)\n"
      ]
    },
    {
      "cell_type": "code",
      "execution_count": null,
      "id": "23dd3ac0",
      "metadata": {
        "id": "23dd3ac0",
        "colab": {
          "base_uri": "https://localhost:8080/"
        },
        "outputId": "abf7c9c9-b007-4b09-80ec-f64d51db7162"
      },
      "outputs": [
        {
          "output_type": "stream",
          "name": "stdout",
          "text": [
            "array('i', [1, 2, 3, 4, 5, 6, 26, 5, 8])\n",
            "array('i', [1, 2, 3, 4, 5, 6, 26, 5, 8, 12, 14, 14])\n"
          ]
        }
      ],
      "source": [
        "#2. extend()\n",
        "#Adds elements from an iterable (e.g., list) to the end of the array.\n",
        "\n",
        "#import array as arr\n",
        "#arr = arr.array('i', [1, 2, 3, 4, 5,6,26,5])\n",
        "print(x)\n",
        "\n",
        "x.extend([12,14,14])\n",
        "print(x)"
      ]
    },
    {
      "cell_type": "code",
      "execution_count": null,
      "id": "47c59196",
      "metadata": {
        "id": "47c59196",
        "colab": {
          "base_uri": "https://localhost:8080/"
        },
        "outputId": "e77ae058-f6db-4668-ea3e-6d183fcfb3af"
      },
      "outputs": [
        {
          "output_type": "stream",
          "name": "stdout",
          "text": [
            "array('i', [1, 2, 3, 4, 5, 6, 26, 5, 8, 12, 14, 14])\n",
            "array('i', [1, 2, 3, 4, 24, 5, 6, 26, 5, 8, 12, 14, 14])\n"
          ]
        }
      ],
      "source": [
        "#3. insert()\n",
        "#Inserts an element at a specified position in the array.\n",
        "import array as arr\n",
        "#arr = arr.array('i', [1, 2, 3, 4, 5,6,26,5])\n",
        "print(x)\n",
        "x.insert(4,24)\n",
        "print(x)\n",
        "#arr.insert(0,0)\n",
        "#print(arr)"
      ]
    },
    {
      "cell_type": "code",
      "execution_count": null,
      "id": "da500b4d",
      "metadata": {
        "id": "da500b4d"
      },
      "outputs": [],
      "source": [
        "arr.insert(1,10)\n",
        "print(arr)"
      ]
    },
    {
      "cell_type": "code",
      "execution_count": null,
      "id": "a4470156",
      "metadata": {
        "id": "a4470156",
        "colab": {
          "base_uri": "https://localhost:8080/"
        },
        "outputId": "5f4f3ecf-a255-4389-9956-ec7ddcdb03d2"
      },
      "outputs": [
        {
          "output_type": "stream",
          "name": "stdout",
          "text": [
            "array('i', [1, 2, 4, 24, 5, 6, 26, 5, 8, 12])\n",
            "array('i', [1, 2, 4, 24, 5, 6, 26, 5, 8])\n",
            "array('i', [1, 2, 24, 5, 6, 26, 5, 8])\n"
          ]
        }
      ],
      "source": [
        "#4. pop()\n",
        "#Removes and returns the last element, or the element at a specified position.\n",
        "import array as arr\n",
        "#arr = arr.array('i', [1, 2, 3, 4, 5,6,26,5])\n",
        "print(x)\n",
        "x.pop()\n",
        "print(x)\n",
        "x.pop(2)\n",
        "print(x)\n"
      ]
    },
    {
      "cell_type": "code",
      "execution_count": null,
      "id": "39e0734a",
      "metadata": {
        "collapsed": true,
        "id": "39e0734a",
        "outputId": "bef2143e-46ba-4ea7-8674-92220a830a0d"
      },
      "outputs": [
        {
          "name": "stdout",
          "output_type": "stream",
          "text": [
            "array('i', [1, 10, 4])\n"
          ]
        }
      ],
      "source": []
    },
    {
      "cell_type": "code",
      "execution_count": null,
      "id": "7ee595e0",
      "metadata": {
        "id": "7ee595e0",
        "colab": {
          "base_uri": "https://localhost:8080/"
        },
        "outputId": "a653142d-641f-4f09-901b-fcdfa7cbb695"
      },
      "outputs": [
        {
          "output_type": "stream",
          "name": "stdout",
          "text": [
            "array('i', [1, 2, 24, 5, 6, 26, 8])\n",
            "array('i', [1, 2, 24, 6, 26, 8])\n",
            "array('i', [1, 2, 24, 5, 6, 26, 8])\n",
            "array('i', [1, 2, 24, 5, 6, 5, 26, 8])\n"
          ]
        }
      ],
      "source": [
        "#5. remove()\n",
        "#Removes the first occurrence of a specified element\n",
        "import array as arr\n",
        "#arr = arr.array('i', [1, 2, 3, 4, 5,6,26,5])\n",
        "print(x)\n",
        "x.remove(5)\n",
        "print(x)\n",
        "x.insert(3,5)\n",
        "print(x)\n",
        "x.insert(5,5)\n",
        "\n",
        "print(x)"
      ]
    },
    {
      "cell_type": "code",
      "execution_count": null,
      "id": "9b66e3dc",
      "metadata": {
        "id": "9b66e3dc",
        "colab": {
          "base_uri": "https://localhost:8080/"
        },
        "outputId": "0a832bb6-8a8f-438f-dc09-6c6b4c8f96f0"
      },
      "outputs": [
        {
          "output_type": "stream",
          "name": "stdout",
          "text": [
            "Array after removing second occurrence of 5: array('i', [1, 2, 24, 5, 6, 26, 8])\n"
          ]
        }
      ],
      "source": [
        "#How to find the 2nd occurance:\n",
        "#We can find it by using if condition as follow:\n",
        "\n",
        "import array as arr\n",
        "\n",
        "# Create an array of integers\n",
        "#arr = arr.array('i', [1, 2, 3, 4, 5, 6, 26, 5])\n",
        "#print(\"Original array:\", arr)\n",
        "\n",
        "# Create a Function to remove the second occurrence of a value\n",
        "def remove_second_occurrence(array, value):\n",
        "    count = 0\n",
        "    for elements in range(len(x)):\n",
        "        if array[elements] == value:  #5\n",
        "            count += 1\n",
        "            if count == 2:\n",
        "                array.pop(elements)\n",
        "                break\n",
        "\n",
        "# Remove the second occurrence of 5\n",
        "remove_second_occurrence(x, 5)\n",
        "print(\"Array after removing second occurrence of 5:\", x)\n"
      ]
    },
    {
      "cell_type": "code",
      "execution_count": null,
      "id": "cc6a29cd",
      "metadata": {
        "collapsed": true,
        "id": "cc6a29cd",
        "outputId": "dc3e3786-fb35-42d3-d015-1bade0aba541",
        "colab": {
          "base_uri": "https://localhost:8080/"
        }
      },
      "outputs": [
        {
          "output_type": "stream",
          "name": "stdout",
          "text": [
            "array('i', [1, 2, 3, 4, 5, 6, 26, 5])\n",
            "4\n"
          ]
        }
      ],
      "source": [
        "#6. index()\n",
        "#Returns the index of the first occurrence of a specified element.\n",
        "import array as arr\n",
        "arr = arr.array('i', [1, 2, 3, 4, 5,6,26,5])\n",
        "print(arr)\n",
        "print(arr.index(5))"
      ]
    },
    {
      "cell_type": "code",
      "execution_count": null,
      "id": "61ee1af8",
      "metadata": {
        "id": "61ee1af8"
      },
      "outputs": [],
      "source": [
        "# Importing the array module and aliasing it as arr\n",
        "import array as arr\n",
        "\n",
        "# Creating an array of integers\n",
        "arr = arr.array('i', [1, 2, 3, 4, 5, 6, 26, 5])\n",
        "print(\"Original array:\", arr)  # Output the original array\n",
        "\n",
        "# Defining a function to find the index of the second occurrence of a value\n",
        "def find_second_occurrence_index(array, value):\n",
        "    count = 0  # Initialize a counter to keep track of occurrences\n",
        "    for i in range(len(array)):  # Loop through each index in the array\n",
        "        if array[i] == value:  # Check if the current element matches the value\n",
        "            count += 1  # Increment the counter\n",
        "            if count == 2:  # Check if this is the second occurrence\n",
        "                return i  # Return the index of the second occurrence\n",
        "    return -1  # Return -1 if the second occurrence is not found\n",
        "\n",
        "# Calling the function to find the index of the second occurrence of 5\n",
        "index = find_second_occurrence_index(arr, 4)\n",
        "\n",
        "# Output the index of the second occurrence\n",
        "print(\"Index of the second occurrence of 4:\", index)\n",
        "\n"
      ]
    },
    {
      "cell_type": "code",
      "execution_count": null,
      "id": "3d599519",
      "metadata": {
        "id": "3d599519",
        "colab": {
          "base_uri": "https://localhost:8080/"
        },
        "outputId": "84e09a9f-ebb9-48ab-ebc2-6785858eea41"
      },
      "outputs": [
        {
          "output_type": "stream",
          "name": "stdout",
          "text": [
            "Original array: array('i', [1, 2, 3, 4, 5, 6, 26, 5, 4, 4, 4])\n",
            "4\n"
          ]
        }
      ],
      "source": [
        "#7. count()\n",
        "#Returns the number of occurrences of a specified element.\n",
        "import array as arr\n",
        "\n",
        "# Creating an array of integers\n",
        "arr = arr.array('i', [1, 2, 3, 4, 5, 6, 26, 5,4,4,4])\n",
        "print(\"Original array:\", arr)\n",
        "\n",
        "print(arr.count(4))"
      ]
    },
    {
      "cell_type": "code",
      "execution_count": null,
      "id": "1b5f09f2",
      "metadata": {
        "id": "1b5f09f2",
        "colab": {
          "base_uri": "https://localhost:8080/"
        },
        "outputId": "52c51819-fc03-43ce-9923-20ff5fc31a1a"
      },
      "outputs": [
        {
          "output_type": "stream",
          "name": "stdout",
          "text": [
            "Original array: array('i', [1, 2, 24, 5, 6, 26, 8])\n",
            "Reversed Array:  array('i', [8, 26, 6, 5, 24, 2, 1])\n"
          ]
        }
      ],
      "source": [
        "#8. reverse()\n",
        "#Reverses the order of elements in the array.\n",
        "\n",
        "import array as arr\n",
        "\n",
        "# Creating an array of integers\n",
        "#arr = arr.array('i', [1, 2, 3, 4, 5, 6, 26, 5])\n",
        "print(\"Original array:\", x)\n",
        "x.reverse()\n",
        "print(\"Reversed Array: \",x)\n",
        "#print(arr.reverse())"
      ]
    },
    {
      "cell_type": "code",
      "source": [
        "print(x.count(5))"
      ],
      "metadata": {
        "colab": {
          "base_uri": "https://localhost:8080/"
        },
        "id": "nFH86C4tGylD",
        "outputId": "8d3a4cd0-4003-4219-9cf9-cc22c53a5034"
      },
      "id": "nFH86C4tGylD",
      "execution_count": null,
      "outputs": [
        {
          "output_type": "stream",
          "name": "stdout",
          "text": [
            "1\n"
          ]
        }
      ]
    },
    {
      "cell_type": "code",
      "execution_count": null,
      "id": "b03f3144",
      "metadata": {
        "id": "b03f3144"
      },
      "outputs": [],
      "source": [
        "#reverse() method does not return a value; it modifies the array in place.\n",
        "#Therefore, calling print(arr.reverse())\n",
        "#will print None because reverse() does not have a return value."
      ]
    },
    {
      "cell_type": "code",
      "execution_count": null,
      "id": "7dd5aee8",
      "metadata": {
        "id": "7dd5aee8",
        "colab": {
          "base_uri": "https://localhost:8080/"
        },
        "outputId": "c7f750c7-b84b-49ac-ba0a-5bf9074fceae"
      },
      "outputs": [
        {
          "output_type": "stream",
          "name": "stdout",
          "text": [
            "Original array: array('i', [8, 26, 6, 5, 24, 2, 1])\n",
            "(135587760168496, 7)\n"
          ]
        }
      ],
      "source": [
        "#9. buffer_info()\n",
        "#Returns a tuple containing the memory address and the number of elements in the array.\n",
        "import array as arr\n",
        "\n",
        "# Creating an array of integers\n",
        "#arr = arr.array('i', [1, 2, 3, 4, 5, 6, 26, 5])\n",
        "print(\"Original array:\", x)\n",
        "\n",
        "print(x.buffer_info())\n"
      ]
    },
    {
      "cell_type": "code",
      "execution_count": null,
      "id": "d2712c0c",
      "metadata": {
        "id": "d2712c0c",
        "colab": {
          "base_uri": "https://localhost:8080/"
        },
        "outputId": "077797a1-9c12-439c-b975-bacbbf484a5d"
      },
      "outputs": [
        {
          "output_type": "stream",
          "name": "stdout",
          "text": [
            "Original array: array('i', [8, 26, 6, 5, 24, 2, 1])\n",
            "[8, 26, 6, 5, 24, 2, 1]\n"
          ]
        }
      ],
      "source": [
        "#10. tolist()\n",
        "#Converts the array to a regular list.\n",
        "import array as arr\n",
        "\n",
        "# Creating an array of integers\n",
        "#arr = arr.array('i', [1, 2, 3, 4, 5, 6, 26, 5])\n",
        "print(\"Original array:\", x)\n",
        "print(x.tolist())"
      ]
    },
    {
      "cell_type": "markdown",
      "id": "b430e398",
      "metadata": {
        "id": "b430e398"
      },
      "source": [
        "# NumPy (Numerical Python)\n",
        "    is a powerful library for numerical computations in Python.\n",
        "    It provides support for arrays, matrices, and\n",
        "    many mathematical functions to operate on these data structures."
      ]
    },
    {
      "cell_type": "code",
      "source": [
        "x =[2,4,6,8,10]\n",
        "for i in x:\n",
        "  print(i/2)"
      ],
      "metadata": {
        "id": "v2PUsPE2IS6l",
        "colab": {
          "base_uri": "https://localhost:8080/"
        },
        "outputId": "173987d2-cb2d-45a0-8146-d854cb70c07f"
      },
      "id": "v2PUsPE2IS6l",
      "execution_count": null,
      "outputs": [
        {
          "output_type": "stream",
          "name": "stdout",
          "text": [
            "1.0\n",
            "2.0\n",
            "3.0\n",
            "4.0\n",
            "5.0\n"
          ]
        }
      ]
    },
    {
      "cell_type": "code",
      "source": [
        "x/2"
      ],
      "metadata": {
        "id": "3BkzXR0aITHj",
        "colab": {
          "base_uri": "https://localhost:8080/",
          "height": 141
        },
        "outputId": "f846a44c-c237-4fe5-9050-55da1b6bfcc7"
      },
      "id": "3BkzXR0aITHj",
      "execution_count": null,
      "outputs": [
        {
          "output_type": "error",
          "ename": "TypeError",
          "evalue": "unsupported operand type(s) for /: 'list' and 'int'",
          "traceback": [
            "\u001b[0;31m---------------------------------------------------------------------------\u001b[0m",
            "\u001b[0;31mTypeError\u001b[0m                                 Traceback (most recent call last)",
            "\u001b[0;32m<ipython-input-4-a9af5bba98c4>\u001b[0m in \u001b[0;36m<cell line: 0>\u001b[0;34m()\u001b[0m\n\u001b[0;32m----> 1\u001b[0;31m \u001b[0mx\u001b[0m\u001b[0;34m/\u001b[0m\u001b[0;36m2\u001b[0m\u001b[0;34m\u001b[0m\u001b[0;34m\u001b[0m\u001b[0m\n\u001b[0m",
            "\u001b[0;31mTypeError\u001b[0m: unsupported operand type(s) for /: 'list' and 'int'"
          ]
        }
      ]
    },
    {
      "cell_type": "code",
      "source": [
        "import numpy as np\n",
        "x=np.array([2,4,6,8,10])\n",
        "\n",
        "print(x)\n"
      ],
      "metadata": {
        "id": "j6HNr69JITLF",
        "colab": {
          "base_uri": "https://localhost:8080/"
        },
        "outputId": "5f96b3bd-4b8b-4a1e-a2b4-5b59492cce83"
      },
      "id": "j6HNr69JITLF",
      "execution_count": null,
      "outputs": [
        {
          "output_type": "stream",
          "name": "stdout",
          "text": [
            "[ 2  4  6  8 10]\n"
          ]
        }
      ]
    },
    {
      "cell_type": "code",
      "source": [
        "x*2"
      ],
      "metadata": {
        "colab": {
          "base_uri": "https://localhost:8080/"
        },
        "id": "rpXZdFHgIk7E",
        "outputId": "48e3e8a4-ab80-4a12-a6ad-f46f5f828de5"
      },
      "id": "rpXZdFHgIk7E",
      "execution_count": null,
      "outputs": [
        {
          "output_type": "execute_result",
          "data": {
            "text/plain": [
              "array([ 4,  8, 12, 16, 20])"
            ]
          },
          "metadata": {},
          "execution_count": 8
        }
      ]
    },
    {
      "cell_type": "code",
      "source": [
        "type(x)"
      ],
      "metadata": {
        "id": "4iG-wpiaIk-i",
        "colab": {
          "base_uri": "https://localhost:8080/"
        },
        "outputId": "68aae762-7c72-4d7c-a6d6-a631d9cc1712"
      },
      "id": "4iG-wpiaIk-i",
      "execution_count": null,
      "outputs": [
        {
          "output_type": "execute_result",
          "data": {
            "text/plain": [
              "numpy.ndarray"
            ]
          },
          "metadata": {},
          "execution_count": 9
        }
      ]
    },
    {
      "cell_type": "code",
      "source": [
        "#Numpy has Rich set of NumPy Functions:\n",
        "\n",
        "## Set1 = Random Functions:"
      ],
      "metadata": {
        "id": "d5dW3D05IlCk"
      },
      "id": "d5dW3D05IlCk",
      "execution_count": null,
      "outputs": []
    },
    {
      "cell_type": "code",
      "source": [
        "import numpy as np\n",
        "np.random.randint(0,10,6)   #randint will generate randopm integer numbers"
      ],
      "metadata": {
        "id": "Eoq6UqG2JCVU",
        "colab": {
          "base_uri": "https://localhost:8080/"
        },
        "outputId": "b6133241-f711-4ba3-9344-cad6f9a26ecc"
      },
      "id": "Eoq6UqG2JCVU",
      "execution_count": null,
      "outputs": [
        {
          "output_type": "execute_result",
          "data": {
            "text/plain": [
              "array([3, 5, 5, 8, 7, 7])"
            ]
          },
          "metadata": {},
          "execution_count": 14
        }
      ]
    },
    {
      "cell_type": "code",
      "source": [
        "array=np.random.randint(0,10,(3,4))\n",
        "array"
      ],
      "metadata": {
        "id": "in78I7f5L_Te",
        "colab": {
          "base_uri": "https://localhost:8080/"
        },
        "outputId": "5e57e366-2a11-468e-bdb6-75c2400a8cc9"
      },
      "id": "in78I7f5L_Te",
      "execution_count": null,
      "outputs": [
        {
          "output_type": "execute_result",
          "data": {
            "text/plain": [
              "array([[5, 1, 8, 4],\n",
              "       [2, 7, 0, 3],\n",
              "       [2, 5, 5, 3]])"
            ]
          },
          "metadata": {},
          "execution_count": 16
        }
      ]
    },
    {
      "cell_type": "code",
      "source": [
        "np.random.randint(0,10,(2,3))"
      ],
      "metadata": {
        "id": "A5uTA1TYL_dw",
        "colab": {
          "base_uri": "https://localhost:8080/"
        },
        "outputId": "2b59c6c3-48f6-4ece-a621-ba2432bdf79b"
      },
      "id": "A5uTA1TYL_dw",
      "execution_count": null,
      "outputs": [
        {
          "output_type": "execute_result",
          "data": {
            "text/plain": [
              "array([[0, 6, 8],\n",
              "       [0, 8, 3]])"
            ]
          },
          "metadata": {},
          "execution_count": 17
        }
      ]
    },
    {
      "cell_type": "code",
      "source": [
        "np.random.randint(100,200,2)   #Random Data from 0 to 1"
      ],
      "metadata": {
        "id": "M6y2zEwcL_hQ",
        "colab": {
          "base_uri": "https://localhost:8080/"
        },
        "outputId": "f2746ffe-f46b-4e5a-957c-5fd284674bb4"
      },
      "id": "M6y2zEwcL_hQ",
      "execution_count": null,
      "outputs": [
        {
          "output_type": "execute_result",
          "data": {
            "text/plain": [
              "array([127, 181])"
            ]
          },
          "metadata": {},
          "execution_count": 22
        }
      ]
    },
    {
      "cell_type": "code",
      "source": [
        "#Numpy slicing\n",
        "array[1: ,0:2]\n"
      ],
      "metadata": {
        "id": "M_6me0hRL_lL"
      },
      "id": "M_6me0hRL_lL",
      "execution_count": null,
      "outputs": []
    },
    {
      "cell_type": "code",
      "source": [
        "x = np.array()"
      ],
      "metadata": {
        "id": "6gYBwJxDL_or"
      },
      "id": "6gYBwJxDL_or",
      "execution_count": null,
      "outputs": []
    },
    {
      "cell_type": "code",
      "source": [
        "data = np.random.randint(0,10,(5,4))\n",
        "data"
      ],
      "metadata": {
        "colab": {
          "base_uri": "https://localhost:8080/"
        },
        "id": "wFwsGc17JCgU",
        "outputId": "bba1505f-c819-40a7-c382-dacd88c86fef"
      },
      "id": "wFwsGc17JCgU",
      "execution_count": null,
      "outputs": [
        {
          "output_type": "execute_result",
          "data": {
            "text/plain": [
              "array([[6, 9, 0, 8],\n",
              "       [2, 7, 8, 0],\n",
              "       [9, 4, 4, 3],\n",
              "       [1, 2, 9, 5],\n",
              "       [9, 4, 6, 0]])"
            ]
          },
          "metadata": {},
          "execution_count": 35
        }
      ]
    },
    {
      "cell_type": "code",
      "source": [
        "data[1: , :2]\n",
        "\n",
        "#"
      ],
      "metadata": {
        "id": "GSYR8HB6j331",
        "colab": {
          "base_uri": "https://localhost:8080/"
        },
        "outputId": "7de3a740-9a4e-4f95-e801-ba680bebee5d"
      },
      "id": "GSYR8HB6j331",
      "execution_count": null,
      "outputs": [
        {
          "output_type": "execute_result",
          "data": {
            "text/plain": [
              "array([[0, 1],\n",
              "       [9, 5],\n",
              "       [5, 6],\n",
              "       [5, 6]])"
            ]
          },
          "metadata": {},
          "execution_count": 24
        }
      ]
    },
    {
      "cell_type": "code",
      "source": [
        "data[2:4,1: ]"
      ],
      "metadata": {
        "id": "5Ji1KNe9j37k",
        "colab": {
          "base_uri": "https://localhost:8080/"
        },
        "outputId": "f6d01a5c-9c44-4b9f-8cfd-5aaaaf881349"
      },
      "id": "5Ji1KNe9j37k",
      "execution_count": null,
      "outputs": [
        {
          "output_type": "execute_result",
          "data": {
            "text/plain": [
              "array([[5, 2, 4],\n",
              "       [6, 1, 2]])"
            ]
          },
          "metadata": {},
          "execution_count": 25
        }
      ]
    },
    {
      "cell_type": "code",
      "source": [
        "data [2:4,1: ]"
      ],
      "metadata": {
        "id": "lQhu_Vqzj3_U"
      },
      "id": "lQhu_Vqzj3_U",
      "execution_count": null,
      "outputs": []
    },
    {
      "cell_type": "code",
      "source": [],
      "metadata": {
        "id": "SQ2CgTNYj4Cv"
      },
      "id": "SQ2CgTNYj4Cv",
      "execution_count": null,
      "outputs": []
    },
    {
      "cell_type": "code",
      "execution_count": null,
      "id": "797b684a",
      "metadata": {
        "id": "797b684a",
        "colab": {
          "base_uri": "https://localhost:8080/"
        },
        "outputId": "4a50a53e-54e3-4e40-eb6f-4962ed5f787d"
      },
      "outputs": [
        {
          "output_type": "stream",
          "name": "stdout",
          "text": [
            "[ 1 23 24]\n"
          ]
        }
      ],
      "source": [
        "#Numpy\n",
        "\n",
        "#1 D array:\n",
        "\n",
        "import numpy as np\n",
        "a=np.array([1,23,24])\n",
        "print(a)"
      ]
    },
    {
      "cell_type": "code",
      "execution_count": null,
      "id": "5394609c",
      "metadata": {
        "collapsed": true,
        "id": "5394609c",
        "outputId": "ece6a905-1352-4933-87ac-09430b249669"
      },
      "outputs": [
        {
          "name": "stdout",
          "output_type": "stream",
          "text": [
            "[2 3 4]\n"
          ]
        }
      ],
      "source": [
        "\n",
        "import numpy as np\n",
        "\n",
        "#1D array\n",
        "a =np.array([2,3,4])\n",
        "print(a)"
      ]
    },
    {
      "cell_type": "code",
      "execution_count": null,
      "id": "e732043e",
      "metadata": {
        "id": "e732043e",
        "colab": {
          "base_uri": "https://localhost:8080/"
        },
        "outputId": "17c8d8ec-ab0e-4f4e-e181-293a748c064b"
      },
      "outputs": [
        {
          "output_type": "stream",
          "name": "stdout",
          "text": [
            "(array([[ 2,  4,  6],\n",
            "       [ 8, 10, 12],\n",
            "       [ 5,  6,  7]]), [[1, 7, 3], [5, 5, 6], [5, 8, 7]])\n"
          ]
        }
      ],
      "source": [
        "#2D array\n",
        "\n",
        "b=np.array([[2,4,6],[8,10,12],[5,6,7]]),([[1,7,3],[5,5,6],[5,8,7]])\n",
        "print(b)\n"
      ]
    },
    {
      "cell_type": "code",
      "source": [
        "#3 D Array\n",
        "\n",
        "#2D array\n",
        "\n",
        "c=np.array([[2,4,6],[8,10,12],[5,3,4]])\n",
        "print(c)"
      ],
      "metadata": {
        "colab": {
          "base_uri": "https://localhost:8080/"
        },
        "id": "k16YYato-1VM",
        "outputId": "c1dcc078-4fdc-4377-becf-0bb120e32049"
      },
      "id": "k16YYato-1VM",
      "execution_count": null,
      "outputs": [
        {
          "output_type": "stream",
          "name": "stdout",
          "text": [
            "[[ 2  4  6]\n",
            " [ 8 10 12]\n",
            " [ 5  3  4]]\n"
          ]
        }
      ]
    },
    {
      "cell_type": "code",
      "execution_count": null,
      "id": "f4ac3df8",
      "metadata": {
        "id": "f4ac3df8",
        "colab": {
          "base_uri": "https://localhost:8080/"
        },
        "outputId": "4eb14e2e-5898-488f-b746-f27a86554ad6"
      },
      "outputs": [
        {
          "output_type": "execute_result",
          "data": {
            "text/plain": [
              "array([[0., 0., 0.],\n",
              "       [0., 0., 0.]])"
            ]
          },
          "metadata": {},
          "execution_count": 1
        }
      ],
      "source": [
        "#Initialize Numpy arrays\n",
        "\n",
        "#initialize 'x X y' dimensions with '0' values\n",
        "import numpy as np\n",
        "np.zeros((2,3))\n"
      ]
    },
    {
      "cell_type": "code",
      "execution_count": null,
      "id": "781c2999",
      "metadata": {
        "id": "781c2999",
        "colab": {
          "base_uri": "https://localhost:8080/"
        },
        "outputId": "9830a1c3-f931-42b9-8b4f-c8d60b3594d3"
      },
      "outputs": [
        {
          "output_type": "execute_result",
          "data": {
            "text/plain": [
              "array([[1., 1., 1.],\n",
              "       [1., 1., 1.],\n",
              "       [1., 1., 1.],\n",
              "       [1., 1., 1.]])"
            ]
          },
          "metadata": {},
          "execution_count": 2
        }
      ],
      "source": [
        "import numpy as np\n",
        "np.ones((4,3))"
      ]
    },
    {
      "cell_type": "code",
      "execution_count": null,
      "id": "e6c9dbd8",
      "metadata": {
        "id": "e6c9dbd8",
        "colab": {
          "base_uri": "https://localhost:8080/"
        },
        "outputId": "805e0be5-a9e4-465f-c9b9-69a65a1af13f"
      },
      "outputs": [
        {
          "output_type": "execute_result",
          "data": {
            "text/plain": [
              "array([[0, 0, 0, 0],\n",
              "       [0, 0, 0, 0],\n",
              "       [0, 0, 0, 0],\n",
              "       [0, 0, 0, 0]])"
            ]
          },
          "metadata": {},
          "execution_count": 5
        }
      ],
      "source": [
        "import numpy as np\n",
        "\n",
        "#full array with -6 values\n",
        "np.full((4,4),0)"
      ]
    },
    {
      "cell_type": "code",
      "execution_count": null,
      "id": "02176f74",
      "metadata": {
        "id": "02176f74"
      },
      "outputs": [],
      "source": [
        "import numpy as np"
      ]
    },
    {
      "cell_type": "code",
      "execution_count": null,
      "id": "466bec3c",
      "metadata": {
        "id": "466bec3c",
        "outputId": "95f7104c-9c6d-4ea3-8839-e8ffaf0a7736",
        "colab": {
          "base_uri": "https://localhost:8080/"
        }
      },
      "outputs": [
        {
          "output_type": "stream",
          "name": "stdout",
          "text": [
            "[1 2 3]\n"
          ]
        }
      ],
      "source": [
        "#1D Array\n",
        "\n",
        "a=np.array([1,2,3])\n",
        "print(a)"
      ]
    },
    {
      "cell_type": "code",
      "execution_count": null,
      "id": "035c6024",
      "metadata": {
        "id": "035c6024"
      },
      "outputs": [],
      "source": [
        "#2D Array"
      ]
    },
    {
      "cell_type": "code",
      "execution_count": null,
      "id": "dd348eee",
      "metadata": {
        "id": "dd348eee",
        "outputId": "d7b3209e-c512-47c4-9108-9b4826e09a9b",
        "colab": {
          "base_uri": "https://localhost:8080/"
        }
      },
      "outputs": [
        {
          "output_type": "stream",
          "name": "stdout",
          "text": [
            "[[2 4 6]\n",
            " [4 5 6]\n",
            " [6 5 7]]\n",
            "<class 'numpy.ndarray'>\n"
          ]
        },
        {
          "output_type": "execute_result",
          "data": {
            "text/plain": [
              "2"
            ]
          },
          "metadata": {},
          "execution_count": 16
        }
      ],
      "source": [
        "a =np.array([[2,4,6],[4,5,6],[6,5,7]])\n",
        "\n",
        "print(a)\n",
        "print(type(a))\n",
        "a.ndim"
      ]
    },
    {
      "cell_type": "code",
      "source": [
        "x= np.array([[[1,2,3], [4,5,6],[5,6,7]], [[4,5,6],[8,8,7],[8,9,7]]])\n",
        "print(x)\n",
        "\n",
        "print(type(x))\n",
        "x.ndim"
      ],
      "metadata": {
        "colab": {
          "base_uri": "https://localhost:8080/"
        },
        "id": "URqfdOTp93cb",
        "outputId": "dac696fc-ef88-4f76-8eba-32895489df66"
      },
      "id": "URqfdOTp93cb",
      "execution_count": null,
      "outputs": [
        {
          "output_type": "stream",
          "name": "stdout",
          "text": [
            "[[[1 2 3]\n",
            "  [4 5 6]\n",
            "  [5 6 7]]\n",
            "\n",
            " [[4 5 6]\n",
            "  [8 8 7]\n",
            "  [8 9 7]]]\n",
            "<class 'numpy.ndarray'>\n"
          ]
        },
        {
          "output_type": "execute_result",
          "data": {
            "text/plain": [
              "3"
            ]
          },
          "metadata": {},
          "execution_count": 19
        }
      ]
    },
    {
      "cell_type": "code",
      "execution_count": null,
      "id": "2f760ca2",
      "metadata": {
        "id": "2f760ca2",
        "outputId": "adbbfd4d-3300-4bf7-845b-9344213b05ea"
      },
      "outputs": [
        {
          "data": {
            "text/plain": [
              "array([[0., 0., 0., 0.],\n",
              "       [0., 0., 0., 0.],\n",
              "       [0., 0., 0., 0.]])"
            ]
          },
          "execution_count": 6,
          "metadata": {},
          "output_type": "execute_result"
        }
      ],
      "source": [
        "#Initialize Array:\n",
        "\n",
        "#Initilize an array of 'x' X 'y' dimensions with 0\n",
        "\n",
        "np.zeros((3,4))"
      ]
    },
    {
      "cell_type": "code",
      "execution_count": null,
      "id": "e4a021f5",
      "metadata": {
        "id": "e4a021f5",
        "outputId": "3e612f15-ba53-466e-9623-f5b7bcdf6acb"
      },
      "outputs": [
        {
          "name": "stdout",
          "output_type": "stream",
          "text": [
            "[[1. 1. 1. 1.]\n",
            " [1. 1. 1. 1.]\n",
            " [1. 1. 1. 1.]]\n"
          ]
        }
      ],
      "source": [
        "#Initilize an array of 'x' X 'y' dimensions with 1\n",
        "\n",
        "b=np.ones((3,4))\n",
        "print(b)"
      ]
    },
    {
      "cell_type": "code",
      "execution_count": null,
      "id": "0aeea74b",
      "metadata": {
        "id": "0aeea74b",
        "colab": {
          "base_uri": "https://localhost:8080/"
        },
        "outputId": "df09ac74-9eeb-4c34-e311-97baf011a437"
      },
      "outputs": [
        {
          "output_type": "execute_result",
          "data": {
            "text/plain": [
              "array([  0,  10,  20,  30,  40,  50,  60,  70,  80,  90, 100])"
            ]
          },
          "metadata": {},
          "execution_count": 21
        }
      ],
      "source": [
        "#Initilize 'x' and 'y' with an interval of z\n",
        "\n",
        "np.arange(0,101,10) #"
      ]
    },
    {
      "cell_type": "code",
      "execution_count": null,
      "id": "c0dbe90e",
      "metadata": {
        "id": "c0dbe90e",
        "colab": {
          "base_uri": "https://localhost:8080/"
        },
        "outputId": "0794b283-9f62-4fff-cbb8-1497741e7e8e"
      },
      "outputs": [
        {
          "output_type": "execute_result",
          "data": {
            "text/plain": [
              "array([ 1,  2,  3,  4,  5,  6,  7,  8,  9, 10, 11, 12, 13, 14, 15, 16, 17,\n",
              "       18, 19])"
            ]
          },
          "metadata": {},
          "execution_count": 22
        }
      ],
      "source": [
        "np.arange(1,20)"
      ]
    },
    {
      "cell_type": "code",
      "execution_count": null,
      "id": "4ae1b260",
      "metadata": {
        "id": "4ae1b260",
        "colab": {
          "base_uri": "https://localhost:8080/"
        },
        "outputId": "6779c464-9673-40ac-8a88-da6990a251a1"
      },
      "outputs": [
        {
          "output_type": "execute_result",
          "data": {
            "text/plain": [
              "array([ 0.,  5., 10., 15., 20.])"
            ]
          },
          "metadata": {},
          "execution_count": 27
        }
      ],
      "source": [
        "#initialize 'z' numbers between 'x' and 'y'\n",
        "#devide upper and lower limit to equal measures\n",
        "\n",
        "np.linspace(0,20,5)"
      ]
    },
    {
      "cell_type": "code",
      "execution_count": null,
      "id": "ba3505aa",
      "metadata": {
        "id": "ba3505aa",
        "colab": {
          "base_uri": "https://localhost:8080/"
        },
        "outputId": "0c7c27b4-485b-445e-fffb-cf09a4930cf5"
      },
      "outputs": [
        {
          "output_type": "execute_result",
          "data": {
            "text/plain": [
              "array([ 9., 18., 27., 36., 45., 54., 63., 72., 81., 90.])"
            ]
          },
          "metadata": {},
          "execution_count": 30
        }
      ],
      "source": [
        "np.linspace(9,90,10)"
      ]
    },
    {
      "cell_type": "code",
      "execution_count": null,
      "id": "b7a18472",
      "metadata": {
        "id": "b7a18472",
        "outputId": "a2bf0ab8-5517-48a2-9ac8-b70d576b50df"
      },
      "outputs": [
        {
          "data": {
            "text/plain": [
              "array([ 0. ,  2.5,  5. ,  7.5, 10. ])"
            ]
          },
          "execution_count": 18,
          "metadata": {},
          "output_type": "execute_result"
        }
      ],
      "source": [
        "np.linspace(0,10,5)"
      ]
    },
    {
      "cell_type": "code",
      "source": [
        "np.eye(5)  # eye: refer to identical matrix"
      ],
      "metadata": {
        "id": "zK2EEK1bm6tA"
      },
      "id": "zK2EEK1bm6tA",
      "execution_count": null,
      "outputs": []
    },
    {
      "cell_type": "code",
      "source": [
        "np.eye(3)"
      ],
      "metadata": {
        "id": "W2ar0indm64G"
      },
      "id": "W2ar0indm64G",
      "execution_count": null,
      "outputs": []
    },
    {
      "cell_type": "code",
      "source": [
        "np.eye(8)"
      ],
      "metadata": {
        "id": "_tbc8lZcnGBe"
      },
      "id": "_tbc8lZcnGBe",
      "execution_count": null,
      "outputs": []
    },
    {
      "cell_type": "code",
      "source": [
        "data"
      ],
      "metadata": {
        "id": "d2BqzYKonGFP",
        "colab": {
          "base_uri": "https://localhost:8080/",
          "height": 146
        },
        "outputId": "e672021a-4f4c-490d-f4b1-56ff343624dd"
      },
      "id": "d2BqzYKonGFP",
      "execution_count": null,
      "outputs": [
        {
          "output_type": "error",
          "ename": "NameError",
          "evalue": "name 'data' is not defined",
          "traceback": [
            "\u001b[0;31m---------------------------------------------------------------------------\u001b[0m",
            "\u001b[0;31mNameError\u001b[0m                                 Traceback (most recent call last)",
            "\u001b[0;32m<ipython-input-34-c5d84736ba45>\u001b[0m in \u001b[0;36m<cell line: 0>\u001b[0;34m()\u001b[0m\n\u001b[0;32m----> 1\u001b[0;31m \u001b[0mdata\u001b[0m\u001b[0;34m\u001b[0m\u001b[0;34m\u001b[0m\u001b[0m\n\u001b[0m",
            "\u001b[0;31mNameError\u001b[0m: name 'data' is not defined"
          ]
        }
      ]
    },
    {
      "cell_type": "code",
      "source": [
        "import numpy as np\n",
        "\n",
        "# Create the NumPy array\n",
        "data = np.array([[5, 4, 0, 1],\n",
        "                  [11, 4, 10, 7],\n",
        "                  [7, 10, 5, 6],\n",
        "                  [7, 12, 10, 4],\n",
        "                  [3, 7, 3, 4]])\n",
        "\n",
        "# Print the array\n",
        "print(data)\n"
      ],
      "metadata": {
        "id": "N5Gs0-4NnGXC"
      },
      "id": "N5Gs0-4NnGXC",
      "execution_count": null,
      "outputs": []
    },
    {
      "cell_type": "code",
      "source": [
        "dt =[1,3,4]\n",
        "sum(dt)"
      ],
      "metadata": {
        "colab": {
          "base_uri": "https://localhost:8080/"
        },
        "id": "RFuSC5V0Col1",
        "outputId": "9da4d67f-a462-426b-cd24-dd4cf5907017"
      },
      "id": "RFuSC5V0Col1",
      "execution_count": null,
      "outputs": [
        {
          "output_type": "execute_result",
          "data": {
            "text/plain": [
              "8"
            ]
          },
          "metadata": {},
          "execution_count": 47
        }
      ]
    },
    {
      "cell_type": "code",
      "source": [
        "data.max()"
      ],
      "metadata": {
        "colab": {
          "base_uri": "https://localhost:8080/"
        },
        "id": "oceBSp2oCoqF",
        "outputId": "d9947cd7-b530-4166-bbe5-ca5d2fbb282e"
      },
      "id": "oceBSp2oCoqF",
      "execution_count": null,
      "outputs": [
        {
          "output_type": "execute_result",
          "data": {
            "text/plain": [
              "np.int64(12)"
            ]
          },
          "metadata": {},
          "execution_count": 39
        }
      ]
    },
    {
      "cell_type": "code",
      "source": [
        "data.mean()"
      ],
      "metadata": {
        "colab": {
          "base_uri": "https://localhost:8080/"
        },
        "id": "EMb8btZwCoub",
        "outputId": "5f9b4653-e43e-4f64-fd60-d09ad92298ae"
      },
      "id": "EMb8btZwCoub",
      "execution_count": null,
      "outputs": [
        {
          "output_type": "execute_result",
          "data": {
            "text/plain": [
              "np.float64(6.0)"
            ]
          },
          "metadata": {},
          "execution_count": 46
        }
      ]
    },
    {
      "cell_type": "code",
      "source": [
        "data.sum()"
      ],
      "metadata": {
        "id": "6JesOWdDnGbP",
        "colab": {
          "base_uri": "https://localhost:8080/"
        },
        "outputId": "a98accb8-6546-43f8-c47a-b8b060ecef62"
      },
      "id": "6JesOWdDnGbP",
      "execution_count": null,
      "outputs": [
        {
          "output_type": "execute_result",
          "data": {
            "text/plain": [
              "np.int64(120)"
            ]
          },
          "metadata": {},
          "execution_count": 37
        }
      ]
    },
    {
      "cell_type": "code",
      "execution_count": null,
      "id": "3683c104",
      "metadata": {
        "collapsed": true,
        "id": "3683c104"
      },
      "outputs": [],
      "source": [
        "#Fill SAME numbers in an array of dimensions 'x' X 'y'\n",
        "\n",
        "np.full((4,5),3)"
      ]
    },
    {
      "cell_type": "code",
      "execution_count": null,
      "id": "c412398d",
      "metadata": {
        "id": "c412398d",
        "colab": {
          "base_uri": "https://localhost:8080/"
        },
        "outputId": "9bc31ca2-ea75-4c71-d209-829f7dcf3690"
      },
      "outputs": [
        {
          "output_type": "stream",
          "name": "stdout",
          "text": [
            "[[ 2  4  6]\n",
            " [ 5  6  7]\n",
            " [ 8 10 12]]\n",
            "(3, 3)\n"
          ]
        }
      ],
      "source": [
        "#ndarray.shape:\n",
        "\n",
        "a=np.array([[2,4,6],[5,6,7],[8,10,12]])\n",
        "print(a)\n",
        "print(a.shape)"
      ]
    },
    {
      "cell_type": "code",
      "execution_count": null,
      "id": "f0ccab03",
      "metadata": {
        "id": "f0ccab03"
      },
      "outputs": [],
      "source": [
        "b=np.array([[4,5,6],[6,8,10]])\n",
        "print(b.shape)   #2,3"
      ]
    },
    {
      "cell_type": "code",
      "execution_count": null,
      "id": "a20964bf",
      "metadata": {
        "id": "a20964bf",
        "colab": {
          "base_uri": "https://localhost:8080/"
        },
        "outputId": "34cf6a19-412a-48ce-8813-8e357130dc30"
      },
      "outputs": [
        {
          "output_type": "stream",
          "name": "stdout",
          "text": [
            "Original Array:\n",
            " [[ 2  4  6  4]\n",
            " [ 5  6  7  8]\n",
            " [ 8 10 12  4]]\n",
            "Changed Array:\n",
            " [[ 2  4]\n",
            " [ 6  4]\n",
            " [ 5  6]\n",
            " [ 7  8]\n",
            " [ 8 10]\n",
            " [12  4]]\n",
            "Changed Array:\n",
            " [[ 2  4  6]\n",
            " [ 4  5  6]\n",
            " [ 7  8  8]\n",
            " [10 12  4]]\n"
          ]
        }
      ],
      "source": [
        "#We can use ndarray.shape function to resize the array:\n",
        "a=np.array([[2,4,6,4],[5,6,7,8],[8,10,12,4]]) #3,4 =12\n",
        "print(\"Original Array:\\n\", a)\n",
        "a.shape=(6,2)   #12 = 1,2,3,4,6,12 (1,12), (2,6),(3,4),(4,3),(6,2)(12,1)\n",
        "print(\"Changed Array:\\n\",a)\n",
        "\n",
        "a.shape=(4,3)\n",
        "print(\"Changed Array:\\n\",a)"
      ]
    },
    {
      "cell_type": "code",
      "execution_count": null,
      "id": "a4050c93",
      "metadata": {
        "collapsed": true,
        "id": "a4050c93",
        "outputId": "4b07581f-b67b-4492-fbd1-ff78dcc80d7f",
        "colab": {
          "base_uri": "https://localhost:8080/"
        }
      },
      "outputs": [
        {
          "output_type": "stream",
          "name": "stdout",
          "text": [
            "[[1 2 3]\n",
            " [4 5 6]\n",
            " [5 8 8]\n",
            " [5 6 4]]\n",
            "2\n"
          ]
        }
      ],
      "source": [
        "b=np.array([[1,2,3],[4,5,6],[5,8,8],[5,6,4]])\n",
        "b.shape=(6,1)  # 12= 1*12,2*6,3*4, 4*3,6*2,1*12\n",
        "print(b)\n",
        "#print(b.size)\n",
        "print(b.ndim)"
      ]
    },
    {
      "cell_type": "code",
      "execution_count": null,
      "id": "1dd7d586",
      "metadata": {
        "id": "1dd7d586"
      },
      "outputs": [],
      "source": [
        "z=np.arange(24)\n",
        "print(z)\n",
        "#1D array[0,1,2,3,.....,23]  # 1*24\n",
        "#print(z)     #24 =1,2,3,4,6,8,12,24(1,24)(2,12),(3,8)\n",
        "# For reshaping into 3D Array (2,6,2) (4,2,3)\n",
        "z.shape=(2,3,4)  #4,3,2\n",
        "#3 dimensional\n",
        "print(z)\n",
        "print(z.ndim)  #.ndim= no of dimenssions in that array"
      ]
    },
    {
      "cell_type": "code",
      "source": [
        "z=np.arange(30)\n",
        "#print(z)\n",
        "#1D array[0,1,2,3,.....,23]  # 1*24\n",
        "#print(z)     #24 =1,2,3,4,6,8,12,24(1,24)(2,12),(3,8)\n",
        "# For reshaping into 3D Array (2,5,3),(3,5,2),(1,10,3)\n",
        "z.shape=(1,10,3)  #2,2,2,3\n",
        "#3 dimensional\n",
        "print(z)\n",
        "print(z.ndim)"
      ],
      "metadata": {
        "id": "LOCRna_MHc0X"
      },
      "id": "LOCRna_MHc0X",
      "execution_count": null,
      "outputs": []
    },
    {
      "cell_type": "code",
      "execution_count": null,
      "id": "663916f2",
      "metadata": {
        "id": "663916f2",
        "outputId": "d4a11314-ff1c-45a6-a8c6-1da12eb76dde",
        "colab": {
          "base_uri": "https://localhost:8080/"
        }
      },
      "outputs": [
        {
          "output_type": "stream",
          "name": "stdout",
          "text": [
            "[[[[  0   1   2   3   4]\n",
            "   [  5   6   7   8   9]\n",
            "   [ 10  11  12  13  14]\n",
            "   [ 15  16  17  18  19]\n",
            "   [ 20  21  22  23  24]]\n",
            "\n",
            "  [[ 25  26  27  28  29]\n",
            "   [ 30  31  32  33  34]\n",
            "   [ 35  36  37  38  39]\n",
            "   [ 40  41  42  43  44]\n",
            "   [ 45  46  47  48  49]]]\n",
            "\n",
            "\n",
            " [[[ 50  51  52  53  54]\n",
            "   [ 55  56  57  58  59]\n",
            "   [ 60  61  62  63  64]\n",
            "   [ 65  66  67  68  69]\n",
            "   [ 70  71  72  73  74]]\n",
            "\n",
            "  [[ 75  76  77  78  79]\n",
            "   [ 80  81  82  83  84]\n",
            "   [ 85  86  87  88  89]\n",
            "   [ 90  91  92  93  94]\n",
            "   [ 95  96  97  98  99]]]\n",
            "\n",
            "\n",
            " [[[100 101 102 103 104]\n",
            "   [105 106 107 108 109]\n",
            "   [110 111 112 113 114]\n",
            "   [115 116 117 118 119]\n",
            "   [120 121 122 123 124]]\n",
            "\n",
            "  [[125 126 127 128 129]\n",
            "   [130 131 132 133 134]\n",
            "   [135 136 137 138 139]\n",
            "   [140 141 142 143 144]\n",
            "   [145 146 147 148 149]]]\n",
            "\n",
            "\n",
            " [[[150 151 152 153 154]\n",
            "   [155 156 157 158 159]\n",
            "   [160 161 162 163 164]\n",
            "   [165 166 167 168 169]\n",
            "   [170 171 172 173 174]]\n",
            "\n",
            "  [[175 176 177 178 179]\n",
            "   [180 181 182 183 184]\n",
            "   [185 186 187 188 189]\n",
            "   [190 191 192 193 194]\n",
            "   [195 196 197 198 199]]]]\n",
            "4\n"
          ]
        }
      ],
      "source": [
        "Y =np.arange(200)  #0,1,.......,199\n",
        "#print(Y)\n",
        "#print(Y.size)    #200 =100*2 =50*2*2=25*2*2*2=5*5*2*2*2\n",
        "\n",
        "\n",
        "Y.shape=(4,2,5,5) #5*5*4*2\n",
        "print(Y)\n",
        "print(Y.ndim)"
      ]
    },
    {
      "cell_type": "code",
      "execution_count": null,
      "id": "e1824055",
      "metadata": {
        "collapsed": true,
        "id": "e1824055",
        "outputId": "e75480dd-07fd-4a74-af3d-975048017c26",
        "colab": {
          "base_uri": "https://localhost:8080/"
        }
      },
      "outputs": [
        {
          "output_type": "stream",
          "name": "stdout",
          "text": [
            "(2, 3)\n",
            "2\n",
            "[[ 4  5]\n",
            " [ 6  6]\n",
            " [ 8 10]]\n"
          ]
        }
      ],
      "source": [
        "import numpy as np\n",
        "b=np.array([[4,5,6],[6,8,10]])\n",
        "print(b.shape)\n",
        "print(b.ndim)\n",
        "#Convert above array into 2D and 3D array\n",
        "b.shape=(3,2)\n",
        "\n",
        "print(b)#6=1,2,3,6"
      ]
    },
    {
      "cell_type": "code",
      "execution_count": null,
      "id": "ca779ef0",
      "metadata": {
        "id": "ca779ef0"
      },
      "outputs": [],
      "source": [
        "#Addition Using numpy Function\n",
        "\n",
        "np.multiply(10,20)"
      ]
    },
    {
      "cell_type": "code",
      "execution_count": null,
      "id": "abe0df08",
      "metadata": {
        "id": "abe0df08"
      },
      "outputs": [],
      "source": [
        "np.sum([20,10,3])"
      ]
    },
    {
      "cell_type": "code",
      "execution_count": null,
      "id": "a965f7ee",
      "metadata": {
        "id": "a965f7ee"
      },
      "outputs": [],
      "source": [
        "#Add the arrays\n",
        "#axis=0 will add numbers by Columns\n",
        "#axis =1 will add numbers by rows\n",
        "np.sum([[0,1],[0,5],[3,5]],axis = 0)\n",
        "#np.sum([[0,1],[0,5],[3,5]],axis = 1)\n",
        "\n"
      ]
    },
    {
      "cell_type": "code",
      "execution_count": null,
      "id": "e8f3a5fb",
      "metadata": {
        "id": "e8f3a5fb"
      },
      "outputs": [],
      "source": [
        "#axis=1 will add numbers by rows\n",
        "\n",
        "np.sum([[0,1],[0,5],[3,5]],axis = 1)\n",
        "\n"
      ]
    },
    {
      "cell_type": "code",
      "source": [
        "data"
      ],
      "metadata": {
        "id": "33AwQtXFvNSl"
      },
      "id": "33AwQtXFvNSl",
      "execution_count": null,
      "outputs": []
    },
    {
      "cell_type": "code",
      "source": [
        "data.sum(axis=1)"
      ],
      "metadata": {
        "id": "GVFgT1ZXvRNc"
      },
      "id": "GVFgT1ZXvRNc",
      "execution_count": null,
      "outputs": []
    },
    {
      "cell_type": "code",
      "source": [
        "data.sum(axis=0)"
      ],
      "metadata": {
        "id": "ElvVQqWtvRRT"
      },
      "id": "ElvVQqWtvRRT",
      "execution_count": null,
      "outputs": []
    },
    {
      "cell_type": "code",
      "source": [
        "data.min(axis=0)"
      ],
      "metadata": {
        "id": "Ztdip2PJvRVm"
      },
      "id": "Ztdip2PJvRVm",
      "execution_count": null,
      "outputs": []
    },
    {
      "cell_type": "code",
      "source": [
        "data.argmin(axis=0)"
      ],
      "metadata": {
        "id": "YgDSmnZTyQZR"
      },
      "id": "YgDSmnZTyQZR",
      "execution_count": null,
      "outputs": []
    },
    {
      "cell_type": "code",
      "source": [
        "data.max(axis=1)"
      ],
      "metadata": {
        "id": "7Q0y9noIvZ8i"
      },
      "id": "7Q0y9noIvZ8i",
      "execution_count": null,
      "outputs": []
    },
    {
      "cell_type": "code",
      "source": [
        "data.mean()"
      ],
      "metadata": {
        "id": "boiE5-nNvaAu"
      },
      "id": "boiE5-nNvaAu",
      "execution_count": null,
      "outputs": []
    },
    {
      "cell_type": "markdown",
      "source": [
        "\n",
        "#Metrix in Data/Basic Descriptive Statiestics\n",
        "1.min\n",
        "2.max\n",
        "3.mean\n",
        "4.Mode\n",
        "5. Median\n",
        "6. Standard Deviation\n",
        "7. Count\n",
        "8. Q1, Q2, Q3, Q4\n",
        "```\n",
        "\n"
      ],
      "metadata": {
        "id": "CFvsxPJb1IrG"
      },
      "id": "CFvsxPJb1IrG"
    },
    {
      "cell_type": "markdown",
      "source": [],
      "metadata": {
        "id": "pMiCQ1eZ1FFK"
      },
      "id": "pMiCQ1eZ1FFK"
    },
    {
      "cell_type": "markdown",
      "source": [],
      "metadata": {
        "id": "JDm141oE1Cs6"
      },
      "id": "JDm141oE1Cs6"
    },
    {
      "cell_type": "code",
      "execution_count": null,
      "id": "9fbbf604",
      "metadata": {
        "id": "9fbbf604"
      },
      "outputs": [],
      "source": [
        "a= np.array([3,4])\n",
        "b=np.array([5,6])\n",
        "\n",
        "print(np.sum((a,b), axis=0))\n",
        "print(np.sum((a,b), axis=1))\n"
      ]
    },
    {
      "cell_type": "code",
      "execution_count": null,
      "id": "37c2ac0c",
      "metadata": {
        "id": "37c2ac0c"
      },
      "outputs": [],
      "source": [
        "#Array comparions\n",
        "\n",
        "#Element wise Comparison.. fun called as equal\n",
        "import numpy as np\n",
        "\n",
        "a=[1,2,4]\n",
        "b=[2,4,4]\n",
        "c=[1,2,4]\n",
        "\n",
        "print(np.equal(a,b)) #False,False,True\n",
        "print(np.equal(a,c))"
      ]
    },
    {
      "cell_type": "code",
      "execution_count": null,
      "id": "ce6bcbd9",
      "metadata": {
        "id": "ce6bcbd9"
      },
      "outputs": [],
      "source": [
        "#Array wise comparison\n",
        "import numpy as np\n",
        "\n",
        "a=[1,2,4]\n",
        "b=[2,4,4]\n",
        "c=[1,2,4]\n",
        "\n",
        "print(np.array_equal(a,b))  #\n",
        "print(np.array_equal(a,c))  #"
      ]
    },
    {
      "cell_type": "code",
      "execution_count": null,
      "id": "afabe5ca",
      "metadata": {
        "id": "afabe5ca"
      },
      "outputs": [],
      "source": [
        "import numpy as np\n",
        "d = np.array(24)\n",
        "print(d)"
      ]
    },
    {
      "cell_type": "code",
      "execution_count": null,
      "id": "f1253864",
      "metadata": {
        "id": "f1253864"
      },
      "outputs": [],
      "source": [
        "d=np.arange(24)  #24 =12*2 , 6*4, 8*3\n",
        "print(d)"
      ]
    },
    {
      "cell_type": "code",
      "execution_count": null,
      "id": "bc60e9ae",
      "metadata": {
        "collapsed": true,
        "id": "bc60e9ae"
      },
      "outputs": [],
      "source": [
        "d.shape=(12,2)\n",
        "print(d)"
      ]
    },
    {
      "cell_type": "markdown",
      "id": "5eb2d55d",
      "metadata": {
        "id": "5eb2d55d"
      },
      "source": [
        "# Find the number Elements in array"
      ]
    },
    {
      "cell_type": "code",
      "execution_count": null,
      "id": "8d0344e4",
      "metadata": {
        "collapsed": true,
        "id": "8d0344e4"
      },
      "outputs": [],
      "source": [
        "import numpy as np"
      ]
    },
    {
      "cell_type": "markdown",
      "source": [],
      "metadata": {
        "id": "VIRz-8X2GOND"
      },
      "id": "VIRz-8X2GOND"
    },
    {
      "cell_type": "code",
      "execution_count": null,
      "id": "02c2f23a",
      "metadata": {
        "id": "02c2f23a"
      },
      "outputs": [],
      "source": [
        "a=np.array([[1,2,3],[4,5,6],[5,8,12]])\n",
        "print(a.size )   #\n",
        "print(a.shape)   #\n",
        "print(a.ndim)\n",
        "print(a.dtype)\n",
        "#"
      ]
    },
    {
      "cell_type": "code",
      "execution_count": null,
      "id": "b67264d9",
      "metadata": {
        "id": "b67264d9"
      },
      "outputs": [],
      "source": [
        "a=np.array([\n",
        "    [[1,2,3,4],[4,5,6,8]],\n",
        "     [[7,8,9,4],[4,5,5,6]]\n",
        "])\n",
        "print(a.size)\n",
        "print(a.dtype)\n",
        "\n",
        "import numpy as np\n",
        "\n",
        "\n",
        "\n",
        "print(a.shape)  # Output: (2, 2, 4)\n",
        "print(a.ndim)   # Output: 3\n"
      ]
    },
    {
      "cell_type": "markdown",
      "id": "9f54c99d",
      "metadata": {
        "id": "9f54c99d"
      },
      "source": [
        "# Finding the data type of an array"
      ]
    },
    {
      "cell_type": "code",
      "execution_count": null,
      "id": "bbda6136",
      "metadata": {
        "collapsed": true,
        "id": "bbda6136"
      },
      "outputs": [],
      "source": [
        "print(a.dtype)"
      ]
    },
    {
      "cell_type": "code",
      "execution_count": null,
      "id": "f9ed5580",
      "metadata": {
        "id": "f9ed5580"
      },
      "outputs": [],
      "source": [
        "d=np.arange(24)  #[0,-----,23]\n",
        "print(d)\n",
        "print(d.dtype)"
      ]
    },
    {
      "cell_type": "code",
      "execution_count": null,
      "id": "7780ac69",
      "metadata": {
        "id": "7780ac69"
      },
      "outputs": [],
      "source": [
        "d=np.arange(24,dtype='float') #0,1,.....,23\n",
        "print(d)\n",
        "print(d.dtype)"
      ]
    },
    {
      "cell_type": "markdown",
      "id": "f0ffda45",
      "metadata": {
        "id": "f0ffda45"
      },
      "source": [
        "I# Numpy array Mathematics- Sum"
      ]
    },
    {
      "cell_type": "code",
      "execution_count": null,
      "id": "792dbc1c",
      "metadata": {
        "id": "792dbc1c",
        "colab": {
          "base_uri": "https://localhost:8080/"
        },
        "outputId": "f42bd112-b19a-4bad-f259-b9fa74b1cab0"
      },
      "outputs": [
        {
          "output_type": "execute_result",
          "data": {
            "text/plain": [
              "np.int64(480)"
            ]
          },
          "metadata": {},
          "execution_count": 18
        }
      ],
      "source": [
        "import numpy as np\n",
        "np.sum([10,30,60,54,68,258])"
      ]
    },
    {
      "cell_type": "code",
      "execution_count": null,
      "id": "f67e020f",
      "metadata": {
        "id": "f67e020f",
        "colab": {
          "base_uri": "https://localhost:8080/"
        },
        "outputId": "bc73c255-36f0-47ff-a477-45e003d9d795"
      },
      "outputs": [
        {
          "output_type": "execute_result",
          "data": {
            "text/plain": [
              "np.int64(55)"
            ]
          },
          "metadata": {},
          "execution_count": 19
        }
      ],
      "source": [
        "a=[10,20]   #25+30\n",
        "b=[20,5]\n",
        "\n",
        "np.sum([a,b])"
      ]
    },
    {
      "cell_type": "code",
      "execution_count": null,
      "id": "9945d86a",
      "metadata": {
        "id": "9945d86a"
      },
      "outputs": [],
      "source": [
        "import numpy as np\n",
        "\n",
        "# Creating two 2D arrays\n",
        "array1 = np.array([[1, 2, 3],\n",
        "                   [4, 5, 6]])\n",
        "\n",
        "array2 = np.array([[7, 8, 9],       #[8,10,12],[14,16,18]\n",
        "                   [10, 11, 12]])\n",
        "\n",
        "array3 = np.array([[8, 6, 9],      #[16,16,21],[24,25,31]\n",
        "                   [10, 9, 13]])\n",
        "\n",
        "# Adding the two arrays\n",
        "sum_array = array1+array2+array3\n",
        "print(\"Addition:\\n\", sum_array)\n",
        "sum_array.ndim"
      ]
    },
    {
      "cell_type": "markdown",
      "id": "35e32594",
      "metadata": {
        "id": "35e32594"
      },
      "source": [
        "# Subtraction:"
      ]
    },
    {
      "cell_type": "code",
      "execution_count": null,
      "id": "a20e2d31",
      "metadata": {
        "id": "a20e2d31",
        "colab": {
          "base_uri": "https://localhost:8080/"
        },
        "outputId": "06ff27ce-7f74-434e-9415-458214621781"
      },
      "outputs": [
        {
          "output_type": "execute_result",
          "data": {
            "text/plain": [
              "np.int64(-10)"
            ]
          },
          "metadata": {},
          "execution_count": 31
        }
      ],
      "source": [
        "import numpy as np\n",
        "\n",
        "np.subtract(10,20)"
      ]
    },
    {
      "cell_type": "code",
      "execution_count": null,
      "id": "59f1cd15",
      "metadata": {
        "id": "59f1cd15",
        "colab": {
          "base_uri": "https://localhost:8080/"
        },
        "outputId": "79880c2a-a83b-4ec0-a3a3-25497cde0ffe"
      },
      "outputs": [
        {
          "output_type": "stream",
          "name": "stdout",
          "text": [
            "[ 0 -5  1]\n"
          ]
        }
      ],
      "source": [
        " #Subtraction of two arrays:\n",
        "\n",
        "a=np.array([0,1,6])\n",
        "b=np.array([0,5,3])\n",
        "c=np.array([0,1,2])\n",
        "Sub = a-b-c\n",
        "print(Sub)"
      ]
    },
    {
      "cell_type": "code",
      "source": [
        "a=[0,1]\n",
        "b=[0,5]\n",
        "\n",
        "np.subtract(a,b)"
      ],
      "metadata": {
        "id": "ahNo1zS9vssU"
      },
      "id": "ahNo1zS9vssU",
      "execution_count": null,
      "outputs": []
    },
    {
      "cell_type": "code",
      "execution_count": null,
      "id": "7dd26a98",
      "metadata": {
        "id": "7dd26a98"
      },
      "outputs": [],
      "source": [
        "import numpy as np\n",
        "\n",
        "a = np.array([[2, 4],\n",
        "              [5,8]])\n",
        "b = np.array([[4, 6],\n",
        "              [3,5]])\n",
        "\n",
        "# Perform element-wise subtraction\n",
        "result = np.subtract(a, b)\n",
        "print(\"Result of a - b:\", result)  #\n"
      ]
    },
    {
      "cell_type": "code",
      "execution_count": null,
      "id": "0a3d0f59",
      "metadata": {
        "id": "0a3d0f59",
        "colab": {
          "base_uri": "https://localhost:8080/"
        },
        "outputId": "9176f294-e3b8-4233-bc77-4fa5dbc4c0c3"
      },
      "outputs": [
        {
          "output_type": "stream",
          "name": "stdout",
          "text": [
            "Result of a + b with broadcasting:\n",
            " [[ 6  6]\n",
            " [11 12]\n",
            " [11  9]]\n"
          ]
        }
      ],
      "source": [
        "#Using Different Shapes(Broadcasting)\n",
        "import numpy as np\n",
        "\n",
        "a = np.array([[1, 2],[6, 8],[6,5]])\n",
        "b = np.array([5,4])\n",
        "\n",
        "# Addition from each row of a using broadcasting\n",
        "result = a + b\n",
        "print(\"Result of a + b with broadcasting:\\n\", result)\n"
      ]
    },
    {
      "cell_type": "code",
      "execution_count": null,
      "id": "adb626ab",
      "metadata": {
        "id": "adb626ab"
      },
      "outputs": [],
      "source": [
        "import numpy as np\n",
        "\n",
        "# Creating two 2D arrays\n",
        "array1 = np.array([[10, 20, 30],\n",
        "                   [40, 50, 60]])\n",
        "\n",
        "array2 = np.array([[1, 2, 3],\n",
        "                   [4, 5, 6]])\n",
        "\n",
        "# Subtracting the second array from the first array\n",
        "difference_array = array1 - array2\n",
        "print(\"Subtraction:\\n\", difference_array)\n"
      ]
    },
    {
      "cell_type": "markdown",
      "id": "62d2a420",
      "metadata": {
        "id": "62d2a420"
      },
      "source": [
        "# Multiplication of Numpy Array:"
      ]
    },
    {
      "cell_type": "code",
      "execution_count": null,
      "id": "41b6b630",
      "metadata": {
        "id": "41b6b630",
        "colab": {
          "base_uri": "https://localhost:8080/"
        },
        "outputId": "bf7690c7-baa2-4789-8e18-7aaf6325d528"
      },
      "outputs": [
        {
          "output_type": "stream",
          "name": "stdout",
          "text": [
            "Multiplication:\n",
            " [[ 7 16 27]\n",
            " [40 55 72]]\n"
          ]
        }
      ],
      "source": [
        "import numpy as np\n",
        "\n",
        "# Creating two 2D arrays\n",
        "array1 = np.array([[1, 2, 3],\n",
        "                   [4, 5, 6]])\n",
        "\n",
        "array2 = np.array([[7, 8, 9],\n",
        "                   [10, 11, 12]])\n",
        "\n",
        "# Multiplying the two arrays element-wise\n",
        "product_array = array1 * array2\n",
        "print(\"Multiplication:\\n\", product_array)\n"
      ]
    },
    {
      "cell_type": "code",
      "source": [
        "array1 = np.array([[1, 2,3],\n",
        "                   [4, 5,3],\n",
        "                   [4,6,1]])\n",
        "\n",
        "array2 = np.array([[7, 8],\n",
        "                  [4,1],\n",
        "                   [5,2]\n",
        "                   ])\n",
        "\n",
        "# Multiplying the two arrays element-wise\n",
        "product_array = array1 * array2\n",
        "print(\"Multiplication:\\n\", product_array)"
      ],
      "metadata": {
        "id": "lbHQaxZLq5Gr"
      },
      "id": "lbHQaxZLq5Gr",
      "execution_count": null,
      "outputs": []
    },
    {
      "cell_type": "markdown",
      "source": [
        "#Matrix Multiplication:\n",
        "the number of columns in the first matrix must be equal to the number of rows in the second matrix. The resulting matrix, known as the matrix product, has the number of rows of the first and the number of columns of the second matrix. The product of matrices A and B is denoted as AB."
      ],
      "metadata": {
        "id": "jjKfdrEq_EzL"
      },
      "id": "jjKfdrEq_EzL"
    },
    {
      "cell_type": "code",
      "source": [
        "m*n, n*k      ="
      ],
      "metadata": {
        "id": "Kd6VuAVDAEy0"
      },
      "id": "Kd6VuAVDAEy0",
      "execution_count": null,
      "outputs": []
    },
    {
      "cell_type": "code",
      "source": [
        "x1=np.random.randint(0,10,(2,2))\n",
        "x2=np.random.randint(0,10,(2,2))"
      ],
      "metadata": {
        "id": "xFErlJy7AE_M"
      },
      "id": "xFErlJy7AE_M",
      "execution_count": null,
      "outputs": []
    },
    {
      "cell_type": "code",
      "source": [
        "x1"
      ],
      "metadata": {
        "id": "RZtv9gAAApX4",
        "colab": {
          "base_uri": "https://localhost:8080/"
        },
        "outputId": "141db661-bd57-49d2-fd7c-5bad348930b5"
      },
      "id": "RZtv9gAAApX4",
      "execution_count": null,
      "outputs": [
        {
          "output_type": "execute_result",
          "data": {
            "text/plain": [
              "array([[8, 6],\n",
              "       [7, 1]])"
            ]
          },
          "metadata": {},
          "execution_count": 12
        }
      ]
    },
    {
      "cell_type": "code",
      "source": [
        "x2"
      ],
      "metadata": {
        "id": "iOexU3cvAgnr",
        "colab": {
          "base_uri": "https://localhost:8080/"
        },
        "outputId": "9d61e4e4-8cb7-45f0-b94a-6967143cbb4a"
      },
      "id": "iOexU3cvAgnr",
      "execution_count": null,
      "outputs": [
        {
          "output_type": "execute_result",
          "data": {
            "text/plain": [
              "array([[8, 9],\n",
              "       [4, 5]])"
            ]
          },
          "metadata": {},
          "execution_count": 13
        }
      ]
    },
    {
      "cell_type": "code",
      "source": [
        "np.dot(x1,x2)"
      ],
      "metadata": {
        "id": "WIkdN2NXAgsO",
        "colab": {
          "base_uri": "https://localhost:8080/"
        },
        "outputId": "139ec5f9-6d05-47e2-ec3d-a24eedc9049e"
      },
      "id": "WIkdN2NXAgsO",
      "execution_count": null,
      "outputs": [
        {
          "output_type": "execute_result",
          "data": {
            "text/plain": [
              "array([[ 88, 102],\n",
              "       [ 60,  68]])"
            ]
          },
          "metadata": {},
          "execution_count": 14
        }
      ]
    },
    {
      "cell_type": "code",
      "source": [
        "x1=np.random.randint(0,10,(2,3))\n",
        "x2=np.random.randint(0,10,(2,2))"
      ],
      "metadata": {
        "id": "rT1ke_T7AgxI"
      },
      "id": "rT1ke_T7AgxI",
      "execution_count": null,
      "outputs": []
    },
    {
      "cell_type": "code",
      "source": [
        "x1"
      ],
      "metadata": {
        "id": "pak0JM6zBX8z",
        "colab": {
          "base_uri": "https://localhost:8080/"
        },
        "outputId": "5825fe4a-43c9-4c12-9e95-f6d899481041"
      },
      "id": "pak0JM6zBX8z",
      "execution_count": null,
      "outputs": [
        {
          "output_type": "execute_result",
          "data": {
            "text/plain": [
              "array([[4, 3, 3],\n",
              "       [3, 6, 8]])"
            ]
          },
          "metadata": {},
          "execution_count": 20
        }
      ]
    },
    {
      "cell_type": "code",
      "source": [
        "x2"
      ],
      "metadata": {
        "id": "wU6TsdUxBZv3",
        "colab": {
          "base_uri": "https://localhost:8080/"
        },
        "outputId": "09cedbb5-e4c7-4234-ff85-db636066976b"
      },
      "id": "wU6TsdUxBZv3",
      "execution_count": null,
      "outputs": [
        {
          "output_type": "execute_result",
          "data": {
            "text/plain": [
              "array([[7, 8],\n",
              "       [5, 7]])"
            ]
          },
          "metadata": {},
          "execution_count": 21
        }
      ]
    },
    {
      "cell_type": "markdown",
      "source": [
        "#String Functions\n"
      ],
      "metadata": {
        "id": "_sMX7QzlCEA4"
      },
      "id": "_sMX7QzlCEA4"
    },
    {
      "cell_type": "code",
      "source": [
        "x=np.array([1,2,3,'data'])"
      ],
      "metadata": {
        "id": "pm4BNezaBr8Y"
      },
      "id": "pm4BNezaBr8Y",
      "execution_count": null,
      "outputs": []
    },
    {
      "cell_type": "code",
      "source": [
        "x"
      ],
      "metadata": {
        "id": "jnnbNf_CBsAx",
        "colab": {
          "base_uri": "https://localhost:8080/"
        },
        "outputId": "30159a34-e0d9-4141-ab81-06a28e5c4f33"
      },
      "id": "jnnbNf_CBsAx",
      "execution_count": null,
      "outputs": [
        {
          "output_type": "execute_result",
          "data": {
            "text/plain": [
              "array(['1', '2', '3', 'data'], dtype='<U21')"
            ]
          },
          "metadata": {},
          "execution_count": 24
        }
      ]
    },
    {
      "cell_type": "code",
      "source": [
        "np.char.capitalize(x)"
      ],
      "metadata": {
        "id": "oEde4qJ5BsH1",
        "colab": {
          "base_uri": "https://localhost:8080/"
        },
        "outputId": "3ea83048-e738-4743-a953-7c9256a521e3"
      },
      "id": "oEde4qJ5BsH1",
      "execution_count": null,
      "outputs": [
        {
          "output_type": "execute_result",
          "data": {
            "text/plain": [
              "array(['1', '2', '3', 'Data'], dtype='<U21')"
            ]
          },
          "metadata": {},
          "execution_count": 25
        }
      ]
    },
    {
      "cell_type": "code",
      "source": [
        "np.char.center(x,10,fillchar='-')"
      ],
      "metadata": {
        "id": "mc9OI6bNCmqL",
        "colab": {
          "base_uri": "https://localhost:8080/"
        },
        "outputId": "e1be00b0-40be-4f74-af9e-5e214ba41c3e"
      },
      "id": "mc9OI6bNCmqL",
      "execution_count": null,
      "outputs": [
        {
          "output_type": "execute_result",
          "data": {
            "text/plain": [
              "array(['----1-----', '----2-----', '----3-----', '---data---'],\n",
              "      dtype='<U10')"
            ]
          },
          "metadata": {},
          "execution_count": 28
        }
      ]
    },
    {
      "cell_type": "code",
      "source": [
        "x=np.array([1,2,3,'data eNginEerIng'])"
      ],
      "metadata": {
        "id": "40u2pCkdCmvB"
      },
      "id": "40u2pCkdCmvB",
      "execution_count": null,
      "outputs": []
    },
    {
      "cell_type": "code",
      "source": [
        "x"
      ],
      "metadata": {
        "id": "8qAgkAebCmze",
        "colab": {
          "base_uri": "https://localhost:8080/"
        },
        "outputId": "db01f961-64bf-4cdd-e814-e6848bb4c97d"
      },
      "id": "8qAgkAebCmze",
      "execution_count": null,
      "outputs": [
        {
          "output_type": "execute_result",
          "data": {
            "text/plain": [
              "array(['1', '2', '3', 'data engineering'], dtype='<U21')"
            ]
          },
          "metadata": {},
          "execution_count": 30
        }
      ]
    },
    {
      "cell_type": "code",
      "source": [
        "print(np.char.upper(x))\n",
        "print(np.char.lower(x))\n",
        "print(np.char.title(x))"
      ],
      "metadata": {
        "id": "DcSHY_evCm3i"
      },
      "id": "DcSHY_evCm3i",
      "execution_count": null,
      "outputs": []
    },
    {
      "cell_type": "code",
      "source": [
        "np.char.split(x)"
      ],
      "metadata": {
        "id": "TyMdLaSUCm7p"
      },
      "id": "TyMdLaSUCm7p",
      "execution_count": null,
      "outputs": []
    },
    {
      "cell_type": "code",
      "source": [
        "y=np.array([\"Data Science\",\"Machine Learning\"])"
      ],
      "metadata": {
        "id": "FxDKKdDYEUpp"
      },
      "id": "FxDKKdDYEUpp",
      "execution_count": null,
      "outputs": []
    },
    {
      "cell_type": "code",
      "source": [
        "np.char.split(y,sep='e')"
      ],
      "metadata": {
        "id": "Q0PwXa4uD6T6",
        "colab": {
          "base_uri": "https://localhost:8080/"
        },
        "outputId": "bb7f9137-d128-47a1-8354-54373c3aba73"
      },
      "id": "Q0PwXa4uD6T6",
      "execution_count": null,
      "outputs": [
        {
          "output_type": "execute_result",
          "data": {
            "text/plain": [
              "array([list(['Data Sci', 'nc', '']), list(['Machin', ' L', 'arning', ''])],\n",
              "      dtype=object)"
            ]
          },
          "metadata": {},
          "execution_count": 51
        }
      ]
    },
    {
      "cell_type": "code",
      "source": [
        "np.char.count(y,\"i\")"
      ],
      "metadata": {
        "id": "bJaB-jiYD6Y3",
        "colab": {
          "base_uri": "https://localhost:8080/"
        },
        "outputId": "73e12188-6a74-40e5-de71-26b3b369fd5e"
      },
      "id": "bJaB-jiYD6Y3",
      "execution_count": null,
      "outputs": [
        {
          "output_type": "execute_result",
          "data": {
            "text/plain": [
              "array([1, 2])"
            ]
          },
          "metadata": {},
          "execution_count": 41
        }
      ]
    },
    {
      "cell_type": "code",
      "source": [
        "y"
      ],
      "metadata": {
        "colab": {
          "base_uri": "https://localhost:8080/"
        },
        "id": "FUGQ2EXXyoQ_",
        "outputId": "63403870-a5cc-4939-a591-9472483c883e"
      },
      "id": "FUGQ2EXXyoQ_",
      "execution_count": null,
      "outputs": [
        {
          "output_type": "execute_result",
          "data": {
            "text/plain": [
              "array(['Data Science', 'Machine Learning'], dtype='<U16')"
            ]
          },
          "metadata": {},
          "execution_count": 56
        }
      ]
    },
    {
      "cell_type": "code",
      "source": [
        "np.char.startswith(y, \"M\")"
      ],
      "metadata": {
        "id": "x1l8ixguD6dW"
      },
      "id": "x1l8ixguD6dW",
      "execution_count": null,
      "outputs": []
    },
    {
      "cell_type": "code",
      "source": [
        "np.char.replace(y,'a','xxxxxxx')"
      ],
      "metadata": {
        "id": "otHQLY2LD6hv"
      },
      "id": "otHQLY2LD6hv",
      "execution_count": null,
      "outputs": []
    },
    {
      "cell_type": "code",
      "source": [
        "np.char.rjust(y,20,fillchar=\"*\")"
      ],
      "metadata": {
        "id": "h4HbcI3vD6mm",
        "colab": {
          "base_uri": "https://localhost:8080/"
        },
        "outputId": "3369736f-ebfb-4ae6-e811-6b4151867e85"
      },
      "id": "h4HbcI3vD6mm",
      "execution_count": null,
      "outputs": [
        {
          "output_type": "execute_result",
          "data": {
            "text/plain": [
              "array(['********Data Science', '****Machine Learning'], dtype='<U20')"
            ]
          },
          "metadata": {},
          "execution_count": 59
        }
      ]
    },
    {
      "cell_type": "code",
      "source": [
        "np.char.ljust(y,20,fillchar=\"*\")"
      ],
      "metadata": {
        "id": "BIptuEhrD6rQ",
        "colab": {
          "base_uri": "https://localhost:8080/"
        },
        "outputId": "95a499a7-4113-4736-cc0e-4391757a4a2c"
      },
      "id": "BIptuEhrD6rQ",
      "execution_count": null,
      "outputs": [
        {
          "output_type": "execute_result",
          "data": {
            "text/plain": [
              "array(['Data Science********', 'Machine Learning****'], dtype='<U20')"
            ]
          },
          "metadata": {},
          "execution_count": 60
        }
      ]
    },
    {
      "cell_type": "markdown",
      "source": [
        "#Time Base Functions:\n",
        "- YYYY:MM:DD  HH:MM:SS  Time Stamp\n",
        "- YYYY:MM:DD   Date\n",
        "- HH:MM:SS      Time\n",
        "\n",
        "#Purpose:\n",
        "- extract month and identify\n",
        "- can be found answers questions based on time series\n",
        "- extracting yeras, week, days, studied\n",
        "\n",
        "\n"
      ],
      "metadata": {
        "id": "KzINXeWSGTdQ"
      },
      "id": "KzINXeWSGTdQ"
    },
    {
      "cell_type": "markdown",
      "id": "6279aa03",
      "metadata": {
        "id": "6279aa03"
      },
      "source": [
        "# Division of Arrays:\n",
        "\n"
      ]
    },
    {
      "cell_type": "code",
      "execution_count": null,
      "id": "25fa3e30",
      "metadata": {
        "id": "25fa3e30",
        "colab": {
          "base_uri": "https://localhost:8080/"
        },
        "outputId": "d2bdd46a-b801-4bc5-b00c-265f69805ac6"
      },
      "outputs": [
        {
          "output_type": "stream",
          "name": "stdout",
          "text": [
            "Division:\n",
            " [[ 3.33333333  5.          6.        ]\n",
            " [ 4.         10.         20.        ]]\n",
            "float64\n"
          ]
        }
      ],
      "source": [
        "import numpy as np\n",
        "\n",
        "# Creating two 2D arrays\n",
        "array1 = np.array([[10, 20, 30],\n",
        "                   [40, 50, 60]])\n",
        "\n",
        "array2 = np.array([[3, 4, 5],\n",
        "                   [10, 5, 3]])\n",
        "\n",
        "# Dividing the first array by the second array element-wise\n",
        "division_array = array1 / array2\n",
        "print(\"Division:\\n\", division_array)\n",
        "print(division_array.dtype)"
      ]
    },
    {
      "cell_type": "markdown",
      "id": "59c307ca",
      "metadata": {
        "id": "59c307ca"
      },
      "source": [
        "# Calculating the Exponential:\n",
        "\n",
        "This line calculates the exponential of each element in the array a.\n",
        "The function np.exp() applies the exponential function\n",
        "𝑒^a\n",
        "  to each element in the array.\n",
        "  "
      ]
    },
    {
      "cell_type": "code",
      "execution_count": null,
      "id": "80b33b5c",
      "metadata": {
        "id": "80b33b5c",
        "colab": {
          "base_uri": "https://localhost:8080/"
        },
        "outputId": "b4e5379f-6d6e-480c-b3dd-64206c478142"
      },
      "outputs": [
        {
          "output_type": "stream",
          "name": "stdout",
          "text": [
            "Original array: [1 2 3 4 5]\n",
            "Exponential of the array: [  2.71828183   7.3890561   20.08553692  54.59815003 148.4131591 ]\n"
          ]
        }
      ],
      "source": [
        "import numpy as np\n",
        "\n",
        "# Creating a NumPy array\n",
        "a = np.array([1, 2, 3, 4, 5])\n",
        "\n",
        "# Calculating the exponential of each element in the array\n",
        "exp_a = np.exp(a)\n",
        "\n",
        "print(\"Original array:\", a)\n",
        "print(\"Exponential of the array:\", exp_a)  #e = 2.718281828459045\n"
      ]
    },
    {
      "cell_type": "code",
      "source": [
        "import math\n",
        "math.e"
      ],
      "metadata": {
        "colab": {
          "base_uri": "https://localhost:8080/"
        },
        "id": "7dNgpXfw1UG0",
        "outputId": "5fabeb61-7051-4ae9-db09-dcd6326d163c"
      },
      "id": "7dNgpXfw1UG0",
      "execution_count": null,
      "outputs": [
        {
          "output_type": "execute_result",
          "data": {
            "text/plain": [
              "2.718281828459045"
            ]
          },
          "metadata": {},
          "execution_count": 64
        }
      ]
    },
    {
      "cell_type": "code",
      "execution_count": null,
      "id": "1db67107",
      "metadata": {
        "collapsed": true,
        "id": "1db67107"
      },
      "outputs": [],
      "source": [
        "#Exponential of a 2D Array\n",
        "\n",
        "\n",
        "import numpy as np\n",
        "\n",
        "# Creating a 2D NumPy array\n",
        "b = np.array([[1, 2, 3], [4, 5, 6]])\n",
        "\n",
        "# Calculating the exponential of each element in the 2D array\n",
        "exp_b = np.exp(b)\n",
        "\n",
        "print(\"Original 2D array:\\n\", b)\n",
        "print(\"Exponential of the 2D array:\\n\", exp_b) #e^1,\n"
      ]
    },
    {
      "cell_type": "markdown",
      "id": "1d335503",
      "metadata": {
        "id": "1d335503"
      },
      "source": [
        "# Square Root (np.sqrt())\n",
        "The np.sqrt() function computes the non-negative square root of each element in the input array."
      ]
    },
    {
      "cell_type": "code",
      "execution_count": null,
      "id": "cc528ad4",
      "metadata": {
        "id": "cc528ad4"
      },
      "outputs": [],
      "source": [
        "import numpy as np\n",
        "\n",
        "# Creating a NumPy array\n",
        "a = np.array([1, 4, 9, 16, 25,37])\n",
        "\n",
        "# Calculating the square root of each element\n",
        "sqrt_a = np.sqrt(a)\n",
        "\n",
        "print(\"Original array:\", a)  #[1,4,9,16,25]\n",
        "print(\"Square root of the array:\", sqrt_a)  #[1.,2.,3.,4.,5.]\n"
      ]
    },
    {
      "cell_type": "code",
      "execution_count": null,
      "id": "81d568ca",
      "metadata": {
        "id": "81d568ca"
      },
      "outputs": [],
      "source": [
        "#expo, sqrt,sin,cos,log\n",
        "\n",
        "a=np.array([2,4,6])\n",
        "\n",
        "print(\"sqrt of a:\", np.sqrt(a))\n",
        "print(\"exp of a:\", np.exp(a))\n",
        "print(\"sin of a:\", np.sin(a))\n",
        "print(\"cos of a:\", np.cos(a))\n",
        "print(\"log of a:\", np.log(a))"
      ]
    },
    {
      "cell_type": "code",
      "execution_count": null,
      "id": "06e13b03",
      "metadata": {
        "id": "06e13b03",
        "colab": {
          "base_uri": "https://localhost:8080/"
        },
        "outputId": "4badfbdb-299e-4e11-90c7-e765bac91a41"
      },
      "outputs": [
        {
          "output_type": "stream",
          "name": "stdout",
          "text": [
            "Sum: 42\n",
            "Minimum Value: 1\n",
            "Mean Value: 5.25\n",
            "Median Value: 5.5\n",
            "Corelation Coefficient: 1.0\n",
            "Standard Deviation: 2.6339134382131846\n"
          ]
        }
      ],
      "source": [
        "#Aggregate Functions:\n",
        "\n",
        "#aggregate functions perform computations on arrays to return a single value.\n",
        "#Here are some common aggregate functions in NumPy\n",
        "\n",
        "a=np.array([1,2,4,5,6,7,8,9])\n",
        "print(\"Sum:\",np.sum(a))   # 42\n",
        "print(\"Minimum Value:\", np.min(a))   #1\n",
        "print(\"Mean Value:\", np.mean(a))     #mean =average\n",
        "print(\"Median Value:\", np.median(a)) #\n",
        "print(\"Corelation Coefficient:\", np.corrcoef(a))   #\n",
        "print(\"Standard Deviation:\", np.std(a))      #\n"
      ]
    },
    {
      "cell_type": "code",
      "source": [
        "#Data Maipulation Method:"
      ],
      "metadata": {
        "id": "U9cDMiMinwzP"
      },
      "id": "U9cDMiMinwzP",
      "execution_count": null,
      "outputs": []
    },
    {
      "cell_type": "markdown",
      "source": [],
      "metadata": {
        "id": "SFEbnqVesVsz"
      },
      "id": "SFEbnqVesVsz"
    },
    {
      "cell_type": "code",
      "source": [
        "import numpy as np\n",
        "x= np.random.randint(0,10,(4,6))\n",
        "print(x)"
      ],
      "metadata": {
        "id": "WzxUJ2ulnOv7"
      },
      "id": "WzxUJ2ulnOv7",
      "execution_count": null,
      "outputs": []
    },
    {
      "cell_type": "code",
      "source": [
        "np.split(x,2,axis=0)  #It will split list into 2 parts"
      ],
      "metadata": {
        "id": "ygeGkCDsnOz-"
      },
      "id": "ygeGkCDsnOz-",
      "execution_count": null,
      "outputs": []
    },
    {
      "cell_type": "code",
      "source": [
        "np.split(x,2,axis=1) #split into vertical parts"
      ],
      "metadata": {
        "id": "PYnitxXknO4e"
      },
      "id": "PYnitxXknO4e",
      "execution_count": null,
      "outputs": []
    },
    {
      "cell_type": "code",
      "source": [
        "np.split(x,4,axis=0)"
      ],
      "metadata": {
        "id": "-wuC-PYnnPJd"
      },
      "id": "-wuC-PYnnPJd",
      "execution_count": null,
      "outputs": []
    },
    {
      "cell_type": "code",
      "source": [
        "np.vsplit(x,2)"
      ],
      "metadata": {
        "id": "6g7MO8AMnPR6"
      },
      "id": "6g7MO8AMnPR6",
      "execution_count": null,
      "outputs": []
    },
    {
      "cell_type": "code",
      "source": [
        "np.hsplit(x,2)"
      ],
      "metadata": {
        "id": "TV6-ydvPr5DB"
      },
      "id": "TV6-ydvPr5DB",
      "execution_count": null,
      "outputs": []
    },
    {
      "cell_type": "code",
      "source": [
        "x.T  #Transpose- It will swap rows to column and column to rows"
      ],
      "metadata": {
        "id": "fAD2aEDir5G1"
      },
      "id": "fAD2aEDir5G1",
      "execution_count": null,
      "outputs": []
    },
    {
      "cell_type": "code",
      "source": [
        "x=np.random.randint(0,10,(2,2))\n",
        "print(x)"
      ],
      "metadata": {
        "id": "RwMeJ4LUr5KU"
      },
      "id": "RwMeJ4LUr5KU",
      "execution_count": null,
      "outputs": []
    },
    {
      "cell_type": "code",
      "source": [
        "y=np.random.randint(0,10,10)\n",
        "y"
      ],
      "metadata": {
        "colab": {
          "base_uri": "https://localhost:8080/"
        },
        "id": "rbpnenmWr5Q3",
        "outputId": "737ef46e-5162-4059-bfce-7a2ea94ed4d4"
      },
      "id": "rbpnenmWr5Q3",
      "execution_count": null,
      "outputs": [
        {
          "output_type": "execute_result",
          "data": {
            "text/plain": [
              "array([2, 5, 2, 1, 7, 9, 1, 6, 2, 7])"
            ]
          },
          "metadata": {},
          "execution_count": 30
        }
      ]
    },
    {
      "cell_type": "code",
      "source": [
        "np.quantile(y,0.25)"
      ],
      "metadata": {
        "id": "5-SxtYPzr5VT"
      },
      "id": "5-SxtYPzr5VT",
      "execution_count": null,
      "outputs": []
    },
    {
      "cell_type": "code",
      "source": [
        "np.quantile(y,0.50)"
      ],
      "metadata": {
        "id": "2uqp4wDJAUFH"
      },
      "id": "2uqp4wDJAUFH",
      "execution_count": null,
      "outputs": []
    },
    {
      "cell_type": "code",
      "source": [
        "np.median(x)"
      ],
      "metadata": {
        "id": "7yB7oPlsAUI8"
      },
      "id": "7yB7oPlsAUI8",
      "execution_count": null,
      "outputs": []
    },
    {
      "cell_type": "code",
      "source": [
        "np.quantile(y,0.75)"
      ],
      "metadata": {
        "id": "LILbDgbpAUM1"
      },
      "id": "LILbDgbpAUM1",
      "execution_count": null,
      "outputs": []
    },
    {
      "cell_type": "code",
      "source": [
        "#Arithmetic Function\n",
        "#Data Maniulation\n",
        "# Descriptive Functions\n"
      ],
      "metadata": {
        "id": "qvR1iYyhAUQW"
      },
      "id": "qvR1iYyhAUQW",
      "execution_count": null,
      "outputs": []
    },
    {
      "cell_type": "markdown",
      "id": "5388b8d3",
      "metadata": {
        "id": "5388b8d3"
      },
      "source": [
        "# Numpy Broadcasting"
      ]
    },
    {
      "cell_type": "code",
      "execution_count": null,
      "id": "058152db",
      "metadata": {
        "id": "058152db",
        "colab": {
          "base_uri": "https://localhost:8080/"
        },
        "outputId": "59b75fc6-431b-446a-d721-72bb6199a0aa"
      },
      "outputs": [
        {
          "output_type": "stream",
          "name": "stdout",
          "text": [
            "[3.  4.5 5. ]\n"
          ]
        }
      ],
      "source": [
        "import numpy as np\n",
        "\n",
        "a = np.array([1, 2.5, 3])\n",
        "b = 2\n",
        "c = a + b\n",
        "print(c)\n"
      ]
    },
    {
      "cell_type": "code",
      "execution_count": null,
      "id": "4ea27453",
      "metadata": {
        "id": "4ea27453"
      },
      "outputs": [],
      "source": [
        "# Broadcasting with Different Shapes\n",
        "\n",
        "import numpy as np\n",
        "\n",
        "a = np.array([[1, 2, 3], [4, 5, 6]])\n",
        "b = np.array([1, 0, 1])\n",
        "c = a + b\n",
        "print(c)\n",
        "\n"
      ]
    },
    {
      "cell_type": "code",
      "execution_count": null,
      "id": "278ca2db",
      "metadata": {
        "id": "278ca2db"
      },
      "outputs": [],
      "source": [
        "#Higher Dimensions\n",
        "\n",
        "import numpy as np\n",
        "\n",
        "a = np.array([[1, 2, 3], [4, 5, 6],[2,4,5]])\n",
        "b = np.array([1])\n",
        "#d=np.array([[2,3,4],[4,8,9]])\n",
        "c = a + b\n",
        "print(c)\n"
      ]
    },
    {
      "cell_type": "markdown",
      "id": "3336aeb7",
      "metadata": {
        "id": "3336aeb7"
      },
      "source": [
        "# Indexing and Slicing in Python:"
      ]
    },
    {
      "cell_type": "code",
      "execution_count": null,
      "id": "9773728a",
      "metadata": {
        "id": "9773728a"
      },
      "outputs": [],
      "source": [
        "import numpy as np\n",
        "a =np.array([[1,2,3],[4,5,6],[7,8,9]])  # Array\n",
        "          #     0       1       2\n",
        "          #   0  1 2  0  1 2   0 1 2\n",
        "print(a[0:1,1:2]) #2\n",
        "print(a[ :1,1: ])  #2,3\n",
        "print(a[1:2,1: ])  #5,6\n",
        "print(a[2: ])     #7,8,9\n",
        "\n",
        "#print 4,5,6 from 1st index"
      ]
    },
    {
      "cell_type": "code",
      "execution_count": null,
      "id": "541d7a77",
      "metadata": {
        "id": "541d7a77"
      },
      "outputs": [],
      "source": [
        "print(a[ :2,1: ])"
      ]
    },
    {
      "cell_type": "code",
      "execution_count": null,
      "id": "5e962aab",
      "metadata": {
        "id": "5e962aab"
      },
      "outputs": [],
      "source": [
        "#print(a[ :2,0:2])\n",
        "print(a[1:2,1: ])"
      ]
    },
    {
      "cell_type": "code",
      "execution_count": null,
      "id": "f1c27f10",
      "metadata": {
        "id": "f1c27f10",
        "outputId": "9b97d7e5-c33a-409c-b3b9-afb121884d27"
      },
      "outputs": [
        {
          "name": "stdout",
          "output_type": "stream",
          "text": [
            "[[2 3]\n",
            " [5 6]\n",
            " [8 9]]\n"
          ]
        }
      ],
      "source": [
        "print(a[ :3,1: ])"
      ]
    },
    {
      "cell_type": "code",
      "execution_count": null,
      "id": "9f3a09e0",
      "metadata": {
        "id": "9f3a09e0",
        "colab": {
          "base_uri": "https://localhost:8080/"
        },
        "outputId": "9391adb7-6d94-4bdc-da11-3599475f7054"
      },
      "outputs": [
        {
          "output_type": "stream",
          "name": "stdout",
          "text": [
            "[[10  9  6  0 18]\n",
            " [19 15  8 18 13]\n",
            " [10 13 15 13  8]\n",
            " [13 17 16  5 13]\n",
            " [ 5 11  6 19  1]\n",
            " [ 5 14 19  1  6]]\n"
          ]
        }
      ],
      "source": [
        "import numpy as np\n",
        "\n",
        "x=np.random.randint(0,20,(6,5))\n",
        "print(x)"
      ]
    },
    {
      "cell_type": "code",
      "source": [
        "x.shape=(2,15)   #30=1*30, 2*15,3*10,5*6,10*3,15*2,30*1\n",
        "print(x)"
      ],
      "metadata": {
        "id": "_N-ibLDBbH5A",
        "colab": {
          "base_uri": "https://localhost:8080/"
        },
        "outputId": "3a86c882-88da-4766-ed71-b7538690d969"
      },
      "id": "_N-ibLDBbH5A",
      "execution_count": null,
      "outputs": [
        {
          "output_type": "stream",
          "name": "stdout",
          "text": [
            "[[10  9  6  0 18 19 15  8 18 13 10 13 15 13  8]\n",
            " [13 17 16  5 13  5 11  6 19  1  5 14 19  1  6]]\n"
          ]
        }
      ]
    },
    {
      "cell_type": "code",
      "source": [
        "x.ravel()   #ravel flattens the array\n"
      ],
      "metadata": {
        "id": "q0Ao_H87fTnS",
        "colab": {
          "base_uri": "https://localhost:8080/"
        },
        "outputId": "ebdefa11-294f-4f4e-dce4-3a78c5e6c1f4"
      },
      "id": "q0Ao_H87fTnS",
      "execution_count": null,
      "outputs": [
        {
          "output_type": "execute_result",
          "data": {
            "text/plain": [
              "array([10,  9,  6,  0, 18, 19, 15,  8, 18, 13, 10, 13, 15, 13,  8, 13, 17,\n",
              "       16,  5, 13,  5, 11,  6, 19,  1,  5, 14, 19,  1,  6])"
            ]
          },
          "metadata": {},
          "execution_count": 3
        }
      ]
    },
    {
      "cell_type": "code",
      "source": [
        "x.reshape(3,10)\n"
      ],
      "metadata": {
        "id": "pf43k3xuf4gT",
        "colab": {
          "base_uri": "https://localhost:8080/"
        },
        "outputId": "0fd7d46b-6446-483c-d167-db99cabd3492"
      },
      "id": "pf43k3xuf4gT",
      "execution_count": null,
      "outputs": [
        {
          "output_type": "execute_result",
          "data": {
            "text/plain": [
              "array([[ 9,  0,  5, 14,  1, 10,  3, 17, 10,  5],\n",
              "       [ 6, 14,  7, 14,  8,  2, 13, 12,  9,  6],\n",
              "       [10, 18, 19,  8,  8,  7, 16, 15, 11,  2]])"
            ]
          },
          "metadata": {},
          "execution_count": 8
        }
      ]
    },
    {
      "cell_type": "code",
      "source": [
        "print(x)"
      ],
      "metadata": {
        "colab": {
          "base_uri": "https://localhost:8080/"
        },
        "id": "o9x6JviAcVAG",
        "outputId": "2a5a3ce7-0f6c-4dde-bd0a-9acb75f8fa09"
      },
      "id": "o9x6JviAcVAG",
      "execution_count": null,
      "outputs": [
        {
          "output_type": "stream",
          "name": "stdout",
          "text": [
            "[[ 9  0  5 14  1]\n",
            " [10  3 17 10  5]\n",
            " [ 6 14  7 14  8]\n",
            " [ 2 13 12  9  6]\n",
            " [10 18 19  8  8]\n",
            " [ 7 16 15 11  2]]\n"
          ]
        }
      ]
    },
    {
      "cell_type": "code",
      "source": [
        "y.reshape(10,3)\n",
        "\n",
        "print(x)"
      ],
      "metadata": {
        "id": "MJ2Z6h6fgXyM",
        "colab": {
          "base_uri": "https://localhost:8080/"
        },
        "outputId": "55807521-3490-4c18-ce76-1eb9ad63571e"
      },
      "id": "MJ2Z6h6fgXyM",
      "execution_count": null,
      "outputs": [
        {
          "output_type": "stream",
          "name": "stdout",
          "text": [
            "[[ 9  0  5 14  1]\n",
            " [10  3 17 10  5]\n",
            " [ 6 14  7 14  8]\n",
            " [ 2 13 12  9  6]\n",
            " [10 18 19  8  8]\n",
            " [ 7 16 15 11  2]]\n"
          ]
        }
      ]
    },
    {
      "cell_type": "code",
      "source": [
        "y.reshape(5,6)"
      ],
      "metadata": {
        "id": "huoFRz6hgdz-"
      },
      "id": "huoFRz6hgdz-",
      "execution_count": null,
      "outputs": []
    },
    {
      "cell_type": "code",
      "source": [
        "x1 =np.array([[2,3],[4,3]])\n",
        "print(x1)"
      ],
      "metadata": {
        "id": "i4LXmmwvg2jv"
      },
      "id": "i4LXmmwvg2jv",
      "execution_count": null,
      "outputs": []
    },
    {
      "cell_type": "code",
      "source": [
        "x2= np.array([[4,5],[6,7]])\n",
        "print(x2)"
      ],
      "metadata": {
        "id": "0BCJ6U66iuxp"
      },
      "id": "0BCJ6U66iuxp",
      "execution_count": null,
      "outputs": []
    },
    {
      "cell_type": "code",
      "source": [
        "np.vstack([x1,x2])"
      ],
      "metadata": {
        "id": "YuE8G0t2i8Ps"
      },
      "id": "YuE8G0t2i8Ps",
      "execution_count": null,
      "outputs": []
    },
    {
      "cell_type": "code",
      "source": [
        "np.hstack([x1,x2])"
      ],
      "metadata": {
        "id": "OzTMew1hi8Th"
      },
      "id": "OzTMew1hi8Th",
      "execution_count": null,
      "outputs": []
    },
    {
      "cell_type": "code",
      "source": [
        "np.concatenate([x1,x2],axis=0)  #vstack"
      ],
      "metadata": {
        "id": "lBbnER7zi8XZ"
      },
      "id": "lBbnER7zi8XZ",
      "execution_count": null,
      "outputs": []
    },
    {
      "cell_type": "code",
      "source": [
        "np.concatenate([x1,x2],axis=1)   #hstack"
      ],
      "metadata": {
        "id": "zP1GnO5Di8bN"
      },
      "id": "zP1GnO5Di8bN",
      "execution_count": null,
      "outputs": []
    },
    {
      "cell_type": "code",
      "source": [
        "x=np.random.randint(0,10,(4,6))\n",
        "x"
      ],
      "metadata": {
        "colab": {
          "base_uri": "https://localhost:8080/"
        },
        "id": "eAyUnMoAi8e-",
        "outputId": "a314d9b2-e4e3-4a46-8f27-7f991d8df9fb"
      },
      "id": "eAyUnMoAi8e-",
      "execution_count": null,
      "outputs": [
        {
          "output_type": "execute_result",
          "data": {
            "text/plain": [
              "array([[4, 7, 7, 5, 1, 3],\n",
              "       [4, 6, 5, 6, 7, 1],\n",
              "       [7, 2, 0, 2, 1, 4],\n",
              "       [6, 9, 6, 4, 5, 3]])"
            ]
          },
          "metadata": {},
          "execution_count": 32
        }
      ]
    },
    {
      "cell_type": "code",
      "source": [
        "np.split(x,2,axis=0)"
      ],
      "metadata": {
        "colab": {
          "base_uri": "https://localhost:8080/"
        },
        "id": "aGgx98GVlCvT",
        "outputId": "449e55ff-e2f0-4f1a-addb-d8564442ea0a"
      },
      "id": "aGgx98GVlCvT",
      "execution_count": null,
      "outputs": [
        {
          "output_type": "execute_result",
          "data": {
            "text/plain": [
              "[array([[4, 7, 7, 5, 1, 3],\n",
              "        [4, 6, 5, 6, 7, 1]]),\n",
              " array([[7, 2, 0, 2, 1, 4],\n",
              "        [6, 9, 6, 4, 5, 3]])]"
            ]
          },
          "metadata": {},
          "execution_count": 36
        }
      ]
    }
  ],
  "metadata": {
    "kernelspec": {
      "display_name": "Python 3 (ipykernel)",
      "language": "python",
      "name": "python3"
    },
    "language_info": {
      "codemirror_mode": {
        "name": "ipython",
        "version": 3
      },
      "file_extension": ".py",
      "mimetype": "text/x-python",
      "name": "python",
      "nbconvert_exporter": "python",
      "pygments_lexer": "ipython3",
      "version": "3.9.12"
    },
    "colab": {
      "provenance": [],
      "include_colab_link": true
    }
  },
  "nbformat": 4,
  "nbformat_minor": 5
}